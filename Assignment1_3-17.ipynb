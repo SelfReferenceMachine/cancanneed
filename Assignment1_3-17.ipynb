{
 "cells": [
  {
   "cell_type": "markdown",
   "id": "41f37664-2f59-428c-bac2-2590186012eb",
   "metadata": {},
   "source": [
    "# <font color = '#e64626'>Assignment 1</font>\n"
   ]
  },
  {
   "cell_type": "code",
   "execution_count": 1,
   "id": "bb297764-1b97-4d19-b78b-64cefa339649",
   "metadata": {
    "tags": []
   },
   "outputs": [],
   "source": [
    "import pandas as pd\n",
    "import numpy as np\n",
    "import matplotlib.pyplot as plt\n",
    "import seaborn as sns\n",
    "import geopy as geopy\n",
    "import geocoder\n",
    "import warnings\n",
    "warnings.filterwarnings(\"ignore\")\n",
    "import re"
   ]
  },
  {
   "cell_type": "code",
   "execution_count": 130,
   "id": "794fcef0-f242-4e1f-a56d-1f0208c5582a",
   "metadata": {
    "tags": []
   },
   "outputs": [],
   "source": [
    "sns.set(style=\"white\")\n",
    "sns.set_context(\"notebook\",\n",
    "                rc={\"xtick.labelsize\": 14,\n",
    "                    \"ytick.labelsize\": 14,\n",
    "                    \"axes.labelsize\": 15,\n",
    "                    \"axes.titlesize\": 20,\n",
    "                    \"legend.fontsize\": 13})"
   ]
  },
  {
   "cell_type": "markdown",
   "id": "9889e7fd-bace-45af-9f9c-dd58ea4e6361",
   "metadata": {},
   "source": [
    "# 1. 数据概述"
   ]
  },
  {
   "cell_type": "code",
   "execution_count": 3,
   "id": "eed54a36-6960-48de-8788-1c46cc288ede",
   "metadata": {
    "scrolled": true,
    "tags": []
   },
   "outputs": [
    {
     "data": {
      "text/html": [
       "<div>\n",
       "<style scoped>\n",
       "    .dataframe tbody tr th:only-of-type {\n",
       "        vertical-align: middle;\n",
       "    }\n",
       "\n",
       "    .dataframe tbody tr th {\n",
       "        vertical-align: top;\n",
       "    }\n",
       "\n",
       "    .dataframe thead th {\n",
       "        text-align: right;\n",
       "    }\n",
       "</style>\n",
       "<table border=\"1\" class=\"dataframe\">\n",
       "  <thead>\n",
       "    <tr style=\"text-align: right;\">\n",
       "      <th></th>\n",
       "      <th>partitionKey</th>\n",
       "      <th>user_pseudo_id</th>\n",
       "      <th>createdAt</th>\n",
       "      <th>startAddress</th>\n",
       "      <th>endAddress</th>\n",
       "      <th>tripEstimate</th>\n",
       "      <th>BookingID</th>\n",
       "      <th>BookingCreatedTime</th>\n",
       "      <th>PickUp_Latitude</th>\n",
       "      <th>PickUp_Longitude</th>\n",
       "      <th>DropOff_Latitude</th>\n",
       "      <th>DropOff_Longitude</th>\n",
       "      <th>DispatchStatus</th>\n",
       "    </tr>\n",
       "  </thead>\n",
       "  <tbody>\n",
       "    <tr>\n",
       "      <th>0</th>\n",
       "      <td>62988560-2b0f-11ed-aeba-d39c8d7719af</td>\n",
       "      <td>1546E396FBFD49E6ACCB9BCBA42DBFE7</td>\n",
       "      <td>2022-09-03 08:34:19.703</td>\n",
       "      <td>2 Seaview Ave, Newport NSW 2106, Australia</td>\n",
       "      <td>Sydney Airport DOM T2 Drop-Off, Sydney Airport...</td>\n",
       "      <td>126.00</td>\n",
       "      <td>NaN</td>\n",
       "      <td>NaN</td>\n",
       "      <td>NaN</td>\n",
       "      <td>NaN</td>\n",
       "      <td>NaN</td>\n",
       "      <td>NaN</td>\n",
       "      <td>NaN</td>\n",
       "    </tr>\n",
       "    <tr>\n",
       "      <th>1</th>\n",
       "      <td>51064c10-2cea-11ed-9a00-d5b713a64e81</td>\n",
       "      <td>1546E396FBFD49E6ACCB9BCBA42DBFE7</td>\n",
       "      <td>2022-09-05 17:14:01.170</td>\n",
       "      <td>181 Lawson St, Darlington NSW 2008, Australia</td>\n",
       "      <td>Sydney Airport DOM T2 Drop-Off, Sydney Airport...</td>\n",
       "      <td>30.66</td>\n",
       "      <td>NaN</td>\n",
       "      <td>NaN</td>\n",
       "      <td>NaN</td>\n",
       "      <td>NaN</td>\n",
       "      <td>NaN</td>\n",
       "      <td>NaN</td>\n",
       "      <td>NaN</td>\n",
       "    </tr>\n",
       "    <tr>\n",
       "      <th>2</th>\n",
       "      <td>76a63b10-2dcb-11ed-9a00-d5b713a64e81</td>\n",
       "      <td>1546E396FBFD49E6ACCB9BCBA42DBFE7</td>\n",
       "      <td>2022-09-06 20:05:41.060</td>\n",
       "      <td>17 Millman Rd, Spring Farm NSW 2570, Australia</td>\n",
       "      <td>Sydney Airport DOM T2 Drop-Off, Sydney Airport...</td>\n",
       "      <td>158.76</td>\n",
       "      <td>NaN</td>\n",
       "      <td>NaN</td>\n",
       "      <td>NaN</td>\n",
       "      <td>NaN</td>\n",
       "      <td>NaN</td>\n",
       "      <td>NaN</td>\n",
       "      <td>NaN</td>\n",
       "    </tr>\n",
       "    <tr>\n",
       "      <th>3</th>\n",
       "      <td>5b83c8b9-e7eb-479e-a7fa-4e9c2a110036</td>\n",
       "      <td>1546E396FBFD49E6ACCB9BCBA42DBFE7</td>\n",
       "      <td>2022-10-23 16:41:09.086</td>\n",
       "      <td>6/73 Albert St, Revesby NSW 2212, Australia</td>\n",
       "      <td>Sydney Airport DOM T2 Drop-Off, Sydney Airport...</td>\n",
       "      <td>68.99</td>\n",
       "      <td>NaN</td>\n",
       "      <td>NaN</td>\n",
       "      <td>NaN</td>\n",
       "      <td>NaN</td>\n",
       "      <td>NaN</td>\n",
       "      <td>NaN</td>\n",
       "      <td>NaN</td>\n",
       "    </tr>\n",
       "    <tr>\n",
       "      <th>4</th>\n",
       "      <td>bb0e3a30-2e95-11ed-9a00-d5b713a64e81</td>\n",
       "      <td>1546E396FBFD49E6ACCB9BCBA42DBFE7</td>\n",
       "      <td>2022-09-07 20:13:34.166</td>\n",
       "      <td>15 Warrigal St, Gregory Hills NSW 2557, Australia</td>\n",
       "      <td>Sydney Airport DOM T2 Drop-Off, Sydney Airport...</td>\n",
       "      <td>160.65</td>\n",
       "      <td>NaN</td>\n",
       "      <td>NaN</td>\n",
       "      <td>NaN</td>\n",
       "      <td>NaN</td>\n",
       "      <td>NaN</td>\n",
       "      <td>NaN</td>\n",
       "      <td>NaN</td>\n",
       "    </tr>\n",
       "  </tbody>\n",
       "</table>\n",
       "</div>"
      ],
      "text/plain": [
       "                           partitionKey                    user_pseudo_id  \\\n",
       "0  62988560-2b0f-11ed-aeba-d39c8d7719af  1546E396FBFD49E6ACCB9BCBA42DBFE7   \n",
       "1  51064c10-2cea-11ed-9a00-d5b713a64e81  1546E396FBFD49E6ACCB9BCBA42DBFE7   \n",
       "2  76a63b10-2dcb-11ed-9a00-d5b713a64e81  1546E396FBFD49E6ACCB9BCBA42DBFE7   \n",
       "3  5b83c8b9-e7eb-479e-a7fa-4e9c2a110036  1546E396FBFD49E6ACCB9BCBA42DBFE7   \n",
       "4  bb0e3a30-2e95-11ed-9a00-d5b713a64e81  1546E396FBFD49E6ACCB9BCBA42DBFE7   \n",
       "\n",
       "                 createdAt                                       startAddress  \\\n",
       "0  2022-09-03 08:34:19.703         2 Seaview Ave, Newport NSW 2106, Australia   \n",
       "1  2022-09-05 17:14:01.170      181 Lawson St, Darlington NSW 2008, Australia   \n",
       "2  2022-09-06 20:05:41.060     17 Millman Rd, Spring Farm NSW 2570, Australia   \n",
       "3  2022-10-23 16:41:09.086        6/73 Albert St, Revesby NSW 2212, Australia   \n",
       "4  2022-09-07 20:13:34.166  15 Warrigal St, Gregory Hills NSW 2557, Australia   \n",
       "\n",
       "                                          endAddress  tripEstimate  BookingID  \\\n",
       "0  Sydney Airport DOM T2 Drop-Off, Sydney Airport...        126.00        NaN   \n",
       "1  Sydney Airport DOM T2 Drop-Off, Sydney Airport...         30.66        NaN   \n",
       "2  Sydney Airport DOM T2 Drop-Off, Sydney Airport...        158.76        NaN   \n",
       "3  Sydney Airport DOM T2 Drop-Off, Sydney Airport...         68.99        NaN   \n",
       "4  Sydney Airport DOM T2 Drop-Off, Sydney Airport...        160.65        NaN   \n",
       "\n",
       "  BookingCreatedTime  PickUp_Latitude  PickUp_Longitude  DropOff_Latitude  \\\n",
       "0                NaN              NaN               NaN               NaN   \n",
       "1                NaN              NaN               NaN               NaN   \n",
       "2                NaN              NaN               NaN               NaN   \n",
       "3                NaN              NaN               NaN               NaN   \n",
       "4                NaN              NaN               NaN               NaN   \n",
       "\n",
       "   DropOff_Longitude DispatchStatus  \n",
       "0                NaN            NaN  \n",
       "1                NaN            NaN  \n",
       "2                NaN            NaN  \n",
       "3                NaN            NaN  \n",
       "4                NaN            NaN  "
      ]
     },
     "execution_count": 3,
     "metadata": {},
     "output_type": "execute_result"
    }
   ],
   "source": [
    "A2B = pd.read_csv(\"C:/Users/15913/6600/A2B_Fare_Lookup.csv\")\n",
    "A2B.head()"
   ]
  },
  {
   "cell_type": "code",
   "execution_count": 4,
   "id": "8f4040d6-a522-4c25-8ebc-bc791147367e",
   "metadata": {
    "tags": []
   },
   "outputs": [
    {
     "name": "stdout",
     "output_type": "stream",
     "text": [
      "<class 'pandas.core.frame.DataFrame'>\n",
      "RangeIndex: 1153633 entries, 0 to 1153632\n",
      "Data columns (total 13 columns):\n",
      " #   Column              Non-Null Count    Dtype  \n",
      "---  ------              --------------    -----  \n",
      " 0   partitionKey        1153633 non-null  object \n",
      " 1   user_pseudo_id      1153633 non-null  object \n",
      " 2   createdAt           1153633 non-null  object \n",
      " 3   startAddress        1153415 non-null  object \n",
      " 4   endAddress          1153535 non-null  object \n",
      " 5   tripEstimate        1153633 non-null  float64\n",
      " 6   BookingID           521373 non-null   float64\n",
      " 7   BookingCreatedTime  521373 non-null   object \n",
      " 8   PickUp_Latitude     521373 non-null   float64\n",
      " 9   PickUp_Longitude    521373 non-null   float64\n",
      " 10  DropOff_Latitude    521371 non-null   float64\n",
      " 11  DropOff_Longitude   521371 non-null   float64\n",
      " 12  DispatchStatus      521373 non-null   object \n",
      "dtypes: float64(6), object(7)\n",
      "memory usage: 114.4+ MB\n"
     ]
    }
   ],
   "source": [
    "A2B.info()"
   ]
  },
  {
   "cell_type": "code",
   "execution_count": 5,
   "id": "fa031a6c-1d41-4eb3-a07d-6a23d4219308",
   "metadata": {
    "tags": []
   },
   "outputs": [],
   "source": [
    "raw = A2B.copy()"
   ]
  },
  {
   "cell_type": "code",
   "execution_count": 6,
   "id": "e58e9a5a-e9a6-4644-b674-ab6696c19bd9",
   "metadata": {
    "tags": []
   },
   "outputs": [
    {
     "data": {
      "text/plain": [
       "Completed       340009\n",
       "NotCompleted    181364\n",
       "Name: DispatchStatus, dtype: int64"
      ]
     },
     "execution_count": 6,
     "metadata": {},
     "output_type": "execute_result"
    }
   ],
   "source": [
    "raw[\"DispatchStatus\"].value_counts()#查询控制"
   ]
  },
  {
   "cell_type": "markdown",
   "id": "3dd47a12-9eb0-4d85-b684-686314390188",
   "metadata": {
    "tags": []
   },
   "source": [
    "# 2. 质量分析及数据预处理"
   ]
  },
  {
   "cell_type": "markdown",
   "id": "62413574-18af-4132-9a88-ce7dc50ce5e9",
   "metadata": {},
   "source": [
    "## 2.1 去重"
   ]
  },
  {
   "cell_type": "markdown",
   "id": "23b83489-1629-4825-a931-24f4c54cbb79",
   "metadata": {
    "tags": [],
    "toc-hr-collapsed": true
   },
   "source": [
    "### 2.1.1 唯一字段去重"
   ]
  },
  {
   "cell_type": "code",
   "execution_count": 56,
   "id": "c10421fc-23b4-4e07-aba8-81e5dfaeb75f",
   "metadata": {
    "tags": []
   },
   "outputs": [
    {
     "data": {
      "text/plain": [
       "0"
      ]
     },
     "execution_count": 56,
     "metadata": {},
     "output_type": "execute_result"
    }
   ],
   "source": [
    "# 查看是否有全部重复的记录\n",
    "raw.duplicated(keep=False).sum()"
   ]
  },
  {
   "cell_type": "markdown",
   "id": "95e031e5-991d-4df7-b6a9-f22e3f205c41",
   "metadata": {
    "tags": []
   },
   "source": [
    "数据集中没有完全重复的记录。  \n",
    "接下来对一些唯一字段进行查重，判断是否需要处理。\n",
    "#### partitionKey"
   ]
  },
  {
   "cell_type": "code",
   "execution_count": 8,
   "id": "9467cb68-fbb4-401b-9531-a3113da1a64f",
   "metadata": {},
   "outputs": [
    {
     "data": {
      "text/plain": [
       "1150760"
      ]
     },
     "execution_count": 8,
     "metadata": {},
     "output_type": "execute_result"
    }
   ],
   "source": [
    "raw[\"partitionKey\"].nunique()"
   ]
  },
  {
   "cell_type": "code",
   "execution_count": 9,
   "id": "e3e30a31-9b31-4737-892e-e8c032c5750b",
   "metadata": {
    "tags": []
   },
   "outputs": [
    {
     "name": "stdout",
     "output_type": "stream",
     "text": [
      "0.25% duplicated records in partitionKey.\n"
     ]
    }
   ],
   "source": [
    "print(\"{:.2f}% duplicated records in partitionKey.\".format(((len(raw) - raw[\"partitionKey\"].nunique()) / len(raw) * 100)))"
   ]
  },
  {
   "cell_type": "code",
   "execution_count": 6,
   "id": "bb7c5c7e-59a1-4faf-b8a3-df3355f0af26",
   "metadata": {},
   "outputs": [],
   "source": [
    "lk_unique=raw[\"partitionKey\"].value_counts()\n",
    "\n",
    "lk_duplicate=lk_unique[lk_unique>1].index\n",
    "\n",
    "lk_duplicate_value=lk_unique[lk_unique>1].values"
   ]
  },
  {
   "cell_type": "markdown",
   "id": "eae7b87e-4e53-4f96-97af-4759aa070a57",
   "metadata": {},
   "source": [
    "这里是否要可视化？还是直接文字说明就行？\n",
    "\n",
    "可以关注这2704个重复行为的区（or行程指向）来做一个简单的可视化\n",
    "--也许可以作为strategy：对于这些反复booking的人，存在"
   ]
  },
  {
   "cell_type": "markdown",
   "id": "8919291b-d040-4fad-b7e1-656dde829332",
   "metadata": {},
   "source": [
    "用户预订出租车的流程大致为：  \n",
    "1. 进入LookUp系统（获得唯一partitionKey）；  \n",
    "2. 进入Booking系统（获得唯一BookingID）；  \n",
    "3. 中止预订或完成预订。  \n",
    "\n",
    "带有重复partitionKey的记录占比并不多，仅有0.25%。  通过观察，带有重复partitionKey的用户，都有多条不重复的BookingID，意味着用户可能在第一次进入booking后，退回了lookup阶段，但并未退出app，而是又发起了第二次booking（甚至第三、四次）。因此，partitionKey理论上也可以存在重复记录。  \n",
    "然而，以上的情景仅为推测。若按照此逻辑推断，多次booking记录若按时间排序，则应该要么全部是未完成状态，要么只有最新一条记录是完成状态。而数据集中除开这两种情况外，还有其他的情景存在。"
   ]
  },
  {
   "cell_type": "code",
   "execution_count": 7,
   "id": "81d4ef76-f444-4a52-8400-af6f97626a3f",
   "metadata": {
    "scrolled": true,
    "tags": []
   },
   "outputs": [
    {
     "data": {
      "text/html": [
       "<div>\n",
       "<style scoped>\n",
       "    .dataframe tbody tr th:only-of-type {\n",
       "        vertical-align: middle;\n",
       "    }\n",
       "\n",
       "    .dataframe tbody tr th {\n",
       "        vertical-align: top;\n",
       "    }\n",
       "\n",
       "    .dataframe thead th {\n",
       "        text-align: right;\n",
       "    }\n",
       "</style>\n",
       "<table border=\"1\" class=\"dataframe\">\n",
       "  <thead>\n",
       "    <tr style=\"text-align: right;\">\n",
       "      <th></th>\n",
       "      <th>partitionKey</th>\n",
       "      <th>user_pseudo_id</th>\n",
       "      <th>createdAt</th>\n",
       "      <th>startAddress</th>\n",
       "      <th>endAddress</th>\n",
       "      <th>tripEstimate</th>\n",
       "      <th>BookingID</th>\n",
       "      <th>BookingCreatedTime</th>\n",
       "      <th>PickUp_Latitude</th>\n",
       "      <th>PickUp_Longitude</th>\n",
       "      <th>DropOff_Latitude</th>\n",
       "      <th>DropOff_Longitude</th>\n",
       "      <th>DispatchStatus</th>\n",
       "    </tr>\n",
       "  </thead>\n",
       "  <tbody>\n",
       "    <tr>\n",
       "      <th>671353</th>\n",
       "      <td>000bafa0-2f6d-11ed-aeba-d39c8d7719af</td>\n",
       "      <td>EEEB8EA50CF946A383580FA06868EA7D</td>\n",
       "      <td>2022-09-08 21:54:31.706</td>\n",
       "      <td>6 Canyon Rd, Baulkham Hills NSW 2153, Australia</td>\n",
       "      <td>3 Caledonia St, Paddington NSW 2021, Australia</td>\n",
       "      <td>117.50</td>\n",
       "      <td>31506625.0</td>\n",
       "      <td>2022-09-08 21:55:38.846</td>\n",
       "      <td>-33.766901</td>\n",
       "      <td>150.999133</td>\n",
       "      <td>-33.886285</td>\n",
       "      <td>151.232315</td>\n",
       "      <td>Completed</td>\n",
       "    </tr>\n",
       "    <tr>\n",
       "      <th>986147</th>\n",
       "      <td>000bafa0-2f6d-11ed-aeba-d39c8d7719af</td>\n",
       "      <td>EEEB8EA50CF946A383580FA06868EA7D</td>\n",
       "      <td>2022-09-08 21:54:31.706</td>\n",
       "      <td>6 Canyon Rd, Baulkham Hills NSW 2153, Australia</td>\n",
       "      <td>3 Caledonia St, Paddington NSW 2021, Australia</td>\n",
       "      <td>117.50</td>\n",
       "      <td>31506628.0</td>\n",
       "      <td>2022-09-08 21:55:59.770</td>\n",
       "      <td>-33.766901</td>\n",
       "      <td>150.999133</td>\n",
       "      <td>-33.886285</td>\n",
       "      <td>151.232315</td>\n",
       "      <td>NotCompleted</td>\n",
       "    </tr>\n",
       "    <tr>\n",
       "      <th>980060</th>\n",
       "      <td>0024cd00-4f16-11ed-8cc4-f1bd638415f1</td>\n",
       "      <td>7B4D91163B174E27925EA76313763DA2</td>\n",
       "      <td>2022-10-19 05:52:22.866</td>\n",
       "      <td>49-53 Ben Boyd Rd, Neutral Bay NSW 2089, Austr...</td>\n",
       "      <td>ATM 7409, Level 2, Sydney Domestic Airport T2,...</td>\n",
       "      <td>60.90</td>\n",
       "      <td>32437894.0</td>\n",
       "      <td>2022-10-19 05:56:04.786</td>\n",
       "      <td>-33.837923</td>\n",
       "      <td>151.217588</td>\n",
       "      <td>-33.933963</td>\n",
       "      <td>151.180537</td>\n",
       "      <td>NotCompleted</td>\n",
       "    </tr>\n",
       "    <tr>\n",
       "      <th>980059</th>\n",
       "      <td>0024cd00-4f16-11ed-8cc4-f1bd638415f1</td>\n",
       "      <td>7B4D91163B174E27925EA76313763DA2</td>\n",
       "      <td>2022-10-19 05:52:22.866</td>\n",
       "      <td>49-53 Ben Boyd Rd, Neutral Bay NSW 2089, Austr...</td>\n",
       "      <td>ATM 7409, Level 2, Sydney Domestic Airport T2,...</td>\n",
       "      <td>60.90</td>\n",
       "      <td>32437898.0</td>\n",
       "      <td>2022-10-19 05:56:25.120</td>\n",
       "      <td>-33.837923</td>\n",
       "      <td>151.217588</td>\n",
       "      <td>-33.933963</td>\n",
       "      <td>151.180537</td>\n",
       "      <td>NotCompleted</td>\n",
       "    </tr>\n",
       "    <tr>\n",
       "      <th>896659</th>\n",
       "      <td>0056add0-4f97-11ed-9661-47dabcf94230</td>\n",
       "      <td>0881df095b1a6de4b06e97be0adc31b5</td>\n",
       "      <td>2022-10-19 21:15:48.270</td>\n",
       "      <td>72 Park Ave, Kotara NSW 2289, Australia</td>\n",
       "      <td>17 Fowler St, Hamilton South NSW 2303, Australia</td>\n",
       "      <td>18.59</td>\n",
       "      <td>32457847.0</td>\n",
       "      <td>2022-10-19 21:16:07.230</td>\n",
       "      <td>-32.940391</td>\n",
       "      <td>151.711229</td>\n",
       "      <td>-32.935792</td>\n",
       "      <td>151.742417</td>\n",
       "      <td>Completed</td>\n",
       "    </tr>\n",
       "    <tr>\n",
       "      <th>1103082</th>\n",
       "      <td>0056add0-4f97-11ed-9661-47dabcf94230</td>\n",
       "      <td>0881df095b1a6de4b06e97be0adc31b5</td>\n",
       "      <td>2022-10-19 21:15:48.270</td>\n",
       "      <td>72 Park Ave, Kotara NSW 2289, Australia</td>\n",
       "      <td>17 Fowler St, Hamilton South NSW 2303, Australia</td>\n",
       "      <td>18.59</td>\n",
       "      <td>32457850.0</td>\n",
       "      <td>2022-10-19 21:16:15.403</td>\n",
       "      <td>-32.940391</td>\n",
       "      <td>151.711229</td>\n",
       "      <td>-32.935792</td>\n",
       "      <td>151.742417</td>\n",
       "      <td>NotCompleted</td>\n",
       "    </tr>\n",
       "    <tr>\n",
       "      <th>1002248</th>\n",
       "      <td>00738720-46f0-11ed-9661-47dabcf94230</td>\n",
       "      <td>19d1af178252c65f698387af9778e32e</td>\n",
       "      <td>2022-10-08 21:00:13.203</td>\n",
       "      <td>1427 Malvern Rd, Malvern VIC 3144, Australia</td>\n",
       "      <td>49 Luxmoore St, Cheltenham VIC 3192, Australia</td>\n",
       "      <td>46.41</td>\n",
       "      <td>32199112.0</td>\n",
       "      <td>2022-10-08 21:00:26.580</td>\n",
       "      <td>-37.853024</td>\n",
       "      <td>145.041855</td>\n",
       "      <td>-37.959602</td>\n",
       "      <td>145.047761</td>\n",
       "      <td>NotCompleted</td>\n",
       "    </tr>\n",
       "    <tr>\n",
       "      <th>710730</th>\n",
       "      <td>00738720-46f0-11ed-9661-47dabcf94230</td>\n",
       "      <td>19d1af178252c65f698387af9778e32e</td>\n",
       "      <td>2022-10-08 21:00:13.203</td>\n",
       "      <td>1427 Malvern Rd, Malvern VIC 3144, Australia</td>\n",
       "      <td>49 Luxmoore St, Cheltenham VIC 3192, Australia</td>\n",
       "      <td>46.41</td>\n",
       "      <td>32199149.0</td>\n",
       "      <td>2022-10-08 21:02:14.166</td>\n",
       "      <td>-37.853024</td>\n",
       "      <td>145.041855</td>\n",
       "      <td>-37.959602</td>\n",
       "      <td>145.047761</td>\n",
       "      <td>Completed</td>\n",
       "    </tr>\n",
       "    <tr>\n",
       "      <th>681402</th>\n",
       "      <td>00934800-484c-11ed-9661-47dabcf94230</td>\n",
       "      <td>6050C2558FC645E7AE9D4CD93599EF28</td>\n",
       "      <td>2022-10-10 14:31:18.273</td>\n",
       "      <td>25 Ocean View Ave, Airlie Beach QLD 4802, Aust...</td>\n",
       "      <td>1/370 Shute Harbour Rd, Airlie Beach QLD 4802,...</td>\n",
       "      <td>7.77</td>\n",
       "      <td>32234691.0</td>\n",
       "      <td>2022-10-10 14:31:52.346</td>\n",
       "      <td>-20.263768</td>\n",
       "      <td>148.716019</td>\n",
       "      <td>-20.269194</td>\n",
       "      <td>148.718982</td>\n",
       "      <td>Completed</td>\n",
       "    </tr>\n",
       "    <tr>\n",
       "      <th>683459</th>\n",
       "      <td>00934800-484c-11ed-9661-47dabcf94230</td>\n",
       "      <td>6050C2558FC645E7AE9D4CD93599EF28</td>\n",
       "      <td>2022-10-10 14:31:18.273</td>\n",
       "      <td>25 Ocean View Ave, Airlie Beach QLD 4802, Aust...</td>\n",
       "      <td>1/370 Shute Harbour Rd, Airlie Beach QLD 4802,...</td>\n",
       "      <td>7.77</td>\n",
       "      <td>32234736.0</td>\n",
       "      <td>2022-10-10 14:34:00.246</td>\n",
       "      <td>-20.263768</td>\n",
       "      <td>148.716019</td>\n",
       "      <td>-20.269194</td>\n",
       "      <td>148.718982</td>\n",
       "      <td>Completed</td>\n",
       "    </tr>\n",
       "    <tr>\n",
       "      <th>1035836</th>\n",
       "      <td>009d9410-4903-11ed-8cc4-f1bd638415f1</td>\n",
       "      <td>FCB7F72DE78E4CD4AEF2E1C2884F71D4</td>\n",
       "      <td>2022-10-11 12:21:16.243</td>\n",
       "      <td>21 Harry St, Eastlakes NSW 2018, Australia</td>\n",
       "      <td>Level 2/99 Spring St, Bondi Junction NSW 2022,...</td>\n",
       "      <td>33.39</td>\n",
       "      <td>32252047.0</td>\n",
       "      <td>2022-10-11 12:21:33.273</td>\n",
       "      <td>-33.930886</td>\n",
       "      <td>151.207445</td>\n",
       "      <td>-33.892792</td>\n",
       "      <td>151.249252</td>\n",
       "      <td>NotCompleted</td>\n",
       "    </tr>\n",
       "    <tr>\n",
       "      <th>764580</th>\n",
       "      <td>009d9410-4903-11ed-8cc4-f1bd638415f1</td>\n",
       "      <td>FCB7F72DE78E4CD4AEF2E1C2884F71D4</td>\n",
       "      <td>2022-10-11 12:21:16.243</td>\n",
       "      <td>21 Harry St, Eastlakes NSW 2018, Australia</td>\n",
       "      <td>Level 2/99 Spring St, Bondi Junction NSW 2022,...</td>\n",
       "      <td>33.39</td>\n",
       "      <td>32252061.0</td>\n",
       "      <td>2022-10-11 12:22:23.143</td>\n",
       "      <td>-33.930886</td>\n",
       "      <td>151.207445</td>\n",
       "      <td>-33.892792</td>\n",
       "      <td>151.249252</td>\n",
       "      <td>Completed</td>\n",
       "    </tr>\n",
       "    <tr>\n",
       "      <th>762554</th>\n",
       "      <td>009fe680-4c4f-11ed-9661-47dabcf94230</td>\n",
       "      <td>98261F9F5801420BBB53CE314DA213D2</td>\n",
       "      <td>2022-10-15 17:02:51.496</td>\n",
       "      <td>38A Northland Rd, Bellevue Hill NSW 2023, Aust...</td>\n",
       "      <td>12 Argyle St, The Rocks NSW 2000, Australia</td>\n",
       "      <td>34.13</td>\n",
       "      <td>32357735.0</td>\n",
       "      <td>2022-10-15 17:03:08.320</td>\n",
       "      <td>-33.885988</td>\n",
       "      <td>151.251972</td>\n",
       "      <td>-33.858819</td>\n",
       "      <td>151.207423</td>\n",
       "      <td>Completed</td>\n",
       "    </tr>\n",
       "    <tr>\n",
       "      <th>1026942</th>\n",
       "      <td>009fe680-4c4f-11ed-9661-47dabcf94230</td>\n",
       "      <td>98261F9F5801420BBB53CE314DA213D2</td>\n",
       "      <td>2022-10-15 17:02:51.496</td>\n",
       "      <td>38A Northland Rd, Bellevue Hill NSW 2023, Aust...</td>\n",
       "      <td>12 Argyle St, The Rocks NSW 2000, Australia</td>\n",
       "      <td>34.13</td>\n",
       "      <td>32357738.0</td>\n",
       "      <td>2022-10-15 17:03:17.806</td>\n",
       "      <td>-33.885988</td>\n",
       "      <td>151.251972</td>\n",
       "      <td>-33.858819</td>\n",
       "      <td>151.207423</td>\n",
       "      <td>NotCompleted</td>\n",
       "    </tr>\n",
       "    <tr>\n",
       "      <th>1042128</th>\n",
       "      <td>00a8efa0-3584-11ed-9a00-d5b713a64e81</td>\n",
       "      <td>014a2fe17ccafd9dc20137266bfbc598</td>\n",
       "      <td>2022-09-16 15:54:18.136</td>\n",
       "      <td>297 Springvale Rd, Glen Waverley VIC 3150, Aus...</td>\n",
       "      <td>Shop1/308 Springvale Rd, Springvale VIC 3171, ...</td>\n",
       "      <td>28.88</td>\n",
       "      <td>31685299.0</td>\n",
       "      <td>2022-09-16 15:54:25.260</td>\n",
       "      <td>-37.883045</td>\n",
       "      <td>145.163879</td>\n",
       "      <td>-37.954005</td>\n",
       "      <td>145.151291</td>\n",
       "      <td>NotCompleted</td>\n",
       "    </tr>\n",
       "    <tr>\n",
       "      <th>1042127</th>\n",
       "      <td>00a8efa0-3584-11ed-9a00-d5b713a64e81</td>\n",
       "      <td>014a2fe17ccafd9dc20137266bfbc598</td>\n",
       "      <td>2022-09-16 15:54:18.136</td>\n",
       "      <td>297 Springvale Rd, Glen Waverley VIC 3150, Aus...</td>\n",
       "      <td>Shop1/308 Springvale Rd, Springvale VIC 3171, ...</td>\n",
       "      <td>28.88</td>\n",
       "      <td>31685331.0</td>\n",
       "      <td>2022-09-16 15:55:39.403</td>\n",
       "      <td>-37.883045</td>\n",
       "      <td>145.163879</td>\n",
       "      <td>-37.954005</td>\n",
       "      <td>145.151291</td>\n",
       "      <td>NotCompleted</td>\n",
       "    </tr>\n",
       "    <tr>\n",
       "      <th>1042993</th>\n",
       "      <td>00ae0340-3585-11ed-9992-2bb9650dd4cf</td>\n",
       "      <td>8A4D3EDB95F047598BDD414F1918FBA1</td>\n",
       "      <td>2022-09-16 16:01:27.666</td>\n",
       "      <td>60 Carrington St, Sydney NSW 2000, Australia</td>\n",
       "      <td>10 Cabramatta Rd, Mosman NSW 2088, Australia</td>\n",
       "      <td>30.56</td>\n",
       "      <td>31685498.0</td>\n",
       "      <td>2022-09-16 16:01:34.246</td>\n",
       "      <td>-33.866676</td>\n",
       "      <td>151.206513</td>\n",
       "      <td>-33.830148</td>\n",
       "      <td>151.236357</td>\n",
       "      <td>NotCompleted</td>\n",
       "    </tr>\n",
       "    <tr>\n",
       "      <th>780107</th>\n",
       "      <td>00ae0340-3585-11ed-9992-2bb9650dd4cf</td>\n",
       "      <td>8A4D3EDB95F047598BDD414F1918FBA1</td>\n",
       "      <td>2022-09-16 16:01:27.666</td>\n",
       "      <td>60 Carrington St, Sydney NSW 2000, Australia</td>\n",
       "      <td>10 Cabramatta Rd, Mosman NSW 2088, Australia</td>\n",
       "      <td>30.56</td>\n",
       "      <td>31685529.0</td>\n",
       "      <td>2022-09-16 16:02:22.756</td>\n",
       "      <td>-33.866676</td>\n",
       "      <td>151.206513</td>\n",
       "      <td>-33.830148</td>\n",
       "      <td>151.236357</td>\n",
       "      <td>Completed</td>\n",
       "    </tr>\n",
       "    <tr>\n",
       "      <th>797002</th>\n",
       "      <td>00c61cf0-2e23-11ed-9a00-d5b713a64e81</td>\n",
       "      <td>063248625C484F12AF74E154958B3226</td>\n",
       "      <td>2022-09-07 06:32:19.006</td>\n",
       "      <td>3 Bank St, North Sydney NSW 2060, Australia</td>\n",
       "      <td>14 Darling Dr, Sydney NSW 2000, Australia</td>\n",
       "      <td>28.35</td>\n",
       "      <td>31465229.0</td>\n",
       "      <td>2022-09-07 06:32:38.280</td>\n",
       "      <td>-33.840713</td>\n",
       "      <td>151.201680</td>\n",
       "      <td>-33.874856</td>\n",
       "      <td>151.199512</td>\n",
       "      <td>Completed</td>\n",
       "    </tr>\n",
       "    <tr>\n",
       "      <th>1047242</th>\n",
       "      <td>00c61cf0-2e23-11ed-9a00-d5b713a64e81</td>\n",
       "      <td>063248625C484F12AF74E154958B3226</td>\n",
       "      <td>2022-09-07 06:32:19.006</td>\n",
       "      <td>3 Bank St, North Sydney NSW 2060, Australia</td>\n",
       "      <td>14 Darling Dr, Sydney NSW 2000, Australia</td>\n",
       "      <td>28.35</td>\n",
       "      <td>31465268.0</td>\n",
       "      <td>2022-09-07 06:35:20.530</td>\n",
       "      <td>-33.840713</td>\n",
       "      <td>151.201680</td>\n",
       "      <td>-33.874856</td>\n",
       "      <td>151.199512</td>\n",
       "      <td>NotCompleted</td>\n",
       "    </tr>\n",
       "  </tbody>\n",
       "</table>\n",
       "</div>"
      ],
      "text/plain": [
       "                                 partitionKey  \\\n",
       "671353   000bafa0-2f6d-11ed-aeba-d39c8d7719af   \n",
       "986147   000bafa0-2f6d-11ed-aeba-d39c8d7719af   \n",
       "980060   0024cd00-4f16-11ed-8cc4-f1bd638415f1   \n",
       "980059   0024cd00-4f16-11ed-8cc4-f1bd638415f1   \n",
       "896659   0056add0-4f97-11ed-9661-47dabcf94230   \n",
       "1103082  0056add0-4f97-11ed-9661-47dabcf94230   \n",
       "1002248  00738720-46f0-11ed-9661-47dabcf94230   \n",
       "710730   00738720-46f0-11ed-9661-47dabcf94230   \n",
       "681402   00934800-484c-11ed-9661-47dabcf94230   \n",
       "683459   00934800-484c-11ed-9661-47dabcf94230   \n",
       "1035836  009d9410-4903-11ed-8cc4-f1bd638415f1   \n",
       "764580   009d9410-4903-11ed-8cc4-f1bd638415f1   \n",
       "762554   009fe680-4c4f-11ed-9661-47dabcf94230   \n",
       "1026942  009fe680-4c4f-11ed-9661-47dabcf94230   \n",
       "1042128  00a8efa0-3584-11ed-9a00-d5b713a64e81   \n",
       "1042127  00a8efa0-3584-11ed-9a00-d5b713a64e81   \n",
       "1042993  00ae0340-3585-11ed-9992-2bb9650dd4cf   \n",
       "780107   00ae0340-3585-11ed-9992-2bb9650dd4cf   \n",
       "797002   00c61cf0-2e23-11ed-9a00-d5b713a64e81   \n",
       "1047242  00c61cf0-2e23-11ed-9a00-d5b713a64e81   \n",
       "\n",
       "                           user_pseudo_id                createdAt  \\\n",
       "671353   EEEB8EA50CF946A383580FA06868EA7D  2022-09-08 21:54:31.706   \n",
       "986147   EEEB8EA50CF946A383580FA06868EA7D  2022-09-08 21:54:31.706   \n",
       "980060   7B4D91163B174E27925EA76313763DA2  2022-10-19 05:52:22.866   \n",
       "980059   7B4D91163B174E27925EA76313763DA2  2022-10-19 05:52:22.866   \n",
       "896659   0881df095b1a6de4b06e97be0adc31b5  2022-10-19 21:15:48.270   \n",
       "1103082  0881df095b1a6de4b06e97be0adc31b5  2022-10-19 21:15:48.270   \n",
       "1002248  19d1af178252c65f698387af9778e32e  2022-10-08 21:00:13.203   \n",
       "710730   19d1af178252c65f698387af9778e32e  2022-10-08 21:00:13.203   \n",
       "681402   6050C2558FC645E7AE9D4CD93599EF28  2022-10-10 14:31:18.273   \n",
       "683459   6050C2558FC645E7AE9D4CD93599EF28  2022-10-10 14:31:18.273   \n",
       "1035836  FCB7F72DE78E4CD4AEF2E1C2884F71D4  2022-10-11 12:21:16.243   \n",
       "764580   FCB7F72DE78E4CD4AEF2E1C2884F71D4  2022-10-11 12:21:16.243   \n",
       "762554   98261F9F5801420BBB53CE314DA213D2  2022-10-15 17:02:51.496   \n",
       "1026942  98261F9F5801420BBB53CE314DA213D2  2022-10-15 17:02:51.496   \n",
       "1042128  014a2fe17ccafd9dc20137266bfbc598  2022-09-16 15:54:18.136   \n",
       "1042127  014a2fe17ccafd9dc20137266bfbc598  2022-09-16 15:54:18.136   \n",
       "1042993  8A4D3EDB95F047598BDD414F1918FBA1  2022-09-16 16:01:27.666   \n",
       "780107   8A4D3EDB95F047598BDD414F1918FBA1  2022-09-16 16:01:27.666   \n",
       "797002   063248625C484F12AF74E154958B3226  2022-09-07 06:32:19.006   \n",
       "1047242  063248625C484F12AF74E154958B3226  2022-09-07 06:32:19.006   \n",
       "\n",
       "                                              startAddress  \\\n",
       "671353     6 Canyon Rd, Baulkham Hills NSW 2153, Australia   \n",
       "986147     6 Canyon Rd, Baulkham Hills NSW 2153, Australia   \n",
       "980060   49-53 Ben Boyd Rd, Neutral Bay NSW 2089, Austr...   \n",
       "980059   49-53 Ben Boyd Rd, Neutral Bay NSW 2089, Austr...   \n",
       "896659             72 Park Ave, Kotara NSW 2289, Australia   \n",
       "1103082            72 Park Ave, Kotara NSW 2289, Australia   \n",
       "1002248       1427 Malvern Rd, Malvern VIC 3144, Australia   \n",
       "710730        1427 Malvern Rd, Malvern VIC 3144, Australia   \n",
       "681402   25 Ocean View Ave, Airlie Beach QLD 4802, Aust...   \n",
       "683459   25 Ocean View Ave, Airlie Beach QLD 4802, Aust...   \n",
       "1035836         21 Harry St, Eastlakes NSW 2018, Australia   \n",
       "764580          21 Harry St, Eastlakes NSW 2018, Australia   \n",
       "762554   38A Northland Rd, Bellevue Hill NSW 2023, Aust...   \n",
       "1026942  38A Northland Rd, Bellevue Hill NSW 2023, Aust...   \n",
       "1042128  297 Springvale Rd, Glen Waverley VIC 3150, Aus...   \n",
       "1042127  297 Springvale Rd, Glen Waverley VIC 3150, Aus...   \n",
       "1042993       60 Carrington St, Sydney NSW 2000, Australia   \n",
       "780107        60 Carrington St, Sydney NSW 2000, Australia   \n",
       "797002         3 Bank St, North Sydney NSW 2060, Australia   \n",
       "1047242        3 Bank St, North Sydney NSW 2060, Australia   \n",
       "\n",
       "                                                endAddress  tripEstimate  \\\n",
       "671353      3 Caledonia St, Paddington NSW 2021, Australia        117.50   \n",
       "986147      3 Caledonia St, Paddington NSW 2021, Australia        117.50   \n",
       "980060   ATM 7409, Level 2, Sydney Domestic Airport T2,...         60.90   \n",
       "980059   ATM 7409, Level 2, Sydney Domestic Airport T2,...         60.90   \n",
       "896659    17 Fowler St, Hamilton South NSW 2303, Australia         18.59   \n",
       "1103082   17 Fowler St, Hamilton South NSW 2303, Australia         18.59   \n",
       "1002248     49 Luxmoore St, Cheltenham VIC 3192, Australia         46.41   \n",
       "710730      49 Luxmoore St, Cheltenham VIC 3192, Australia         46.41   \n",
       "681402   1/370 Shute Harbour Rd, Airlie Beach QLD 4802,...          7.77   \n",
       "683459   1/370 Shute Harbour Rd, Airlie Beach QLD 4802,...          7.77   \n",
       "1035836  Level 2/99 Spring St, Bondi Junction NSW 2022,...         33.39   \n",
       "764580   Level 2/99 Spring St, Bondi Junction NSW 2022,...         33.39   \n",
       "762554         12 Argyle St, The Rocks NSW 2000, Australia         34.13   \n",
       "1026942        12 Argyle St, The Rocks NSW 2000, Australia         34.13   \n",
       "1042128  Shop1/308 Springvale Rd, Springvale VIC 3171, ...         28.88   \n",
       "1042127  Shop1/308 Springvale Rd, Springvale VIC 3171, ...         28.88   \n",
       "1042993       10 Cabramatta Rd, Mosman NSW 2088, Australia         30.56   \n",
       "780107        10 Cabramatta Rd, Mosman NSW 2088, Australia         30.56   \n",
       "797002           14 Darling Dr, Sydney NSW 2000, Australia         28.35   \n",
       "1047242          14 Darling Dr, Sydney NSW 2000, Australia         28.35   \n",
       "\n",
       "          BookingID       BookingCreatedTime  PickUp_Latitude  \\\n",
       "671353   31506625.0  2022-09-08 21:55:38.846       -33.766901   \n",
       "986147   31506628.0  2022-09-08 21:55:59.770       -33.766901   \n",
       "980060   32437894.0  2022-10-19 05:56:04.786       -33.837923   \n",
       "980059   32437898.0  2022-10-19 05:56:25.120       -33.837923   \n",
       "896659   32457847.0  2022-10-19 21:16:07.230       -32.940391   \n",
       "1103082  32457850.0  2022-10-19 21:16:15.403       -32.940391   \n",
       "1002248  32199112.0  2022-10-08 21:00:26.580       -37.853024   \n",
       "710730   32199149.0  2022-10-08 21:02:14.166       -37.853024   \n",
       "681402   32234691.0  2022-10-10 14:31:52.346       -20.263768   \n",
       "683459   32234736.0  2022-10-10 14:34:00.246       -20.263768   \n",
       "1035836  32252047.0  2022-10-11 12:21:33.273       -33.930886   \n",
       "764580   32252061.0  2022-10-11 12:22:23.143       -33.930886   \n",
       "762554   32357735.0  2022-10-15 17:03:08.320       -33.885988   \n",
       "1026942  32357738.0  2022-10-15 17:03:17.806       -33.885988   \n",
       "1042128  31685299.0  2022-09-16 15:54:25.260       -37.883045   \n",
       "1042127  31685331.0  2022-09-16 15:55:39.403       -37.883045   \n",
       "1042993  31685498.0  2022-09-16 16:01:34.246       -33.866676   \n",
       "780107   31685529.0  2022-09-16 16:02:22.756       -33.866676   \n",
       "797002   31465229.0  2022-09-07 06:32:38.280       -33.840713   \n",
       "1047242  31465268.0  2022-09-07 06:35:20.530       -33.840713   \n",
       "\n",
       "         PickUp_Longitude  DropOff_Latitude  DropOff_Longitude DispatchStatus  \n",
       "671353         150.999133        -33.886285         151.232315      Completed  \n",
       "986147         150.999133        -33.886285         151.232315   NotCompleted  \n",
       "980060         151.217588        -33.933963         151.180537   NotCompleted  \n",
       "980059         151.217588        -33.933963         151.180537   NotCompleted  \n",
       "896659         151.711229        -32.935792         151.742417      Completed  \n",
       "1103082        151.711229        -32.935792         151.742417   NotCompleted  \n",
       "1002248        145.041855        -37.959602         145.047761   NotCompleted  \n",
       "710730         145.041855        -37.959602         145.047761      Completed  \n",
       "681402         148.716019        -20.269194         148.718982      Completed  \n",
       "683459         148.716019        -20.269194         148.718982      Completed  \n",
       "1035836        151.207445        -33.892792         151.249252   NotCompleted  \n",
       "764580         151.207445        -33.892792         151.249252      Completed  \n",
       "762554         151.251972        -33.858819         151.207423      Completed  \n",
       "1026942        151.251972        -33.858819         151.207423   NotCompleted  \n",
       "1042128        145.163879        -37.954005         145.151291   NotCompleted  \n",
       "1042127        145.163879        -37.954005         145.151291   NotCompleted  \n",
       "1042993        151.206513        -33.830148         151.236357   NotCompleted  \n",
       "780107         151.206513        -33.830148         151.236357      Completed  \n",
       "797002         151.201680        -33.874856         151.199512      Completed  \n",
       "1047242        151.201680        -33.874856         151.199512   NotCompleted  "
      ]
     },
     "execution_count": 7,
     "metadata": {},
     "output_type": "execute_result"
    }
   ],
   "source": [
    "raw[raw.duplicated(subset=[\"partitionKey\"], keep=False)].sort_values(by=[\"partitionKey\",\"BookingCreatedTime\"]).head(20)"
   ]
  },
  {
   "cell_type": "code",
   "execution_count": 8,
   "id": "7e27bf52-4471-4704-8403-69aa3528465a",
   "metadata": {},
   "outputs": [
    {
     "data": {
      "text/html": [
       "<div>\n",
       "<style scoped>\n",
       "    .dataframe tbody tr th:only-of-type {\n",
       "        vertical-align: middle;\n",
       "    }\n",
       "\n",
       "    .dataframe tbody tr th {\n",
       "        vertical-align: top;\n",
       "    }\n",
       "\n",
       "    .dataframe thead th {\n",
       "        text-align: right;\n",
       "    }\n",
       "</style>\n",
       "<table border=\"1\" class=\"dataframe\">\n",
       "  <thead>\n",
       "    <tr style=\"text-align: right;\">\n",
       "      <th></th>\n",
       "      <th>Numbers</th>\n",
       "    </tr>\n",
       "  </thead>\n",
       "  <tbody>\n",
       "    <tr>\n",
       "      <th>bd3b05c0-51f6-11ed-8cc4-f1bd638415f1</th>\n",
       "      <td>8</td>\n",
       "    </tr>\n",
       "    <tr>\n",
       "      <th>18414ee0-584e-11ed-8b11-1f5b62fad19f</th>\n",
       "      <td>5</td>\n",
       "    </tr>\n",
       "    <tr>\n",
       "      <th>5fdbdce0-30e2-11ed-9992-2bb9650dd4cf</th>\n",
       "      <td>5</td>\n",
       "    </tr>\n",
       "    <tr>\n",
       "      <th>f392dde0-4149-11ed-8cc4-f1bd638415f1</th>\n",
       "      <td>5</td>\n",
       "    </tr>\n",
       "    <tr>\n",
       "      <th>d23e2580-2d82-11ed-aeba-d39c8d7719af</th>\n",
       "      <td>5</td>\n",
       "    </tr>\n",
       "    <tr>\n",
       "      <th>...</th>\n",
       "      <td>...</td>\n",
       "    </tr>\n",
       "    <tr>\n",
       "      <th>d453dfe0-35b6-11ed-9a00-d5b713a64e81</th>\n",
       "      <td>2</td>\n",
       "    </tr>\n",
       "    <tr>\n",
       "      <th>253aa540-300a-11ed-9a00-d5b713a64e81</th>\n",
       "      <td>2</td>\n",
       "    </tr>\n",
       "    <tr>\n",
       "      <th>72fdece0-3408-11ed-9a00-d5b713a64e81</th>\n",
       "      <td>2</td>\n",
       "    </tr>\n",
       "    <tr>\n",
       "      <th>eece6250-3bf6-11ed-9a00-d5b713a64e81</th>\n",
       "      <td>2</td>\n",
       "    </tr>\n",
       "    <tr>\n",
       "      <th>1d2f8cf0-4610-11ed-8cc4-f1bd638415f1</th>\n",
       "      <td>2</td>\n",
       "    </tr>\n",
       "  </tbody>\n",
       "</table>\n",
       "<p>2704 rows × 1 columns</p>\n",
       "</div>"
      ],
      "text/plain": [
       "                                      Numbers\n",
       "bd3b05c0-51f6-11ed-8cc4-f1bd638415f1        8\n",
       "18414ee0-584e-11ed-8b11-1f5b62fad19f        5\n",
       "5fdbdce0-30e2-11ed-9992-2bb9650dd4cf        5\n",
       "f392dde0-4149-11ed-8cc4-f1bd638415f1        5\n",
       "d23e2580-2d82-11ed-aeba-d39c8d7719af        5\n",
       "...                                       ...\n",
       "d453dfe0-35b6-11ed-9a00-d5b713a64e81        2\n",
       "253aa540-300a-11ed-9a00-d5b713a64e81        2\n",
       "72fdece0-3408-11ed-9a00-d5b713a64e81        2\n",
       "eece6250-3bf6-11ed-9a00-d5b713a64e81        2\n",
       "1d2f8cf0-4610-11ed-8cc4-f1bd638415f1        2\n",
       "\n",
       "[2704 rows x 1 columns]"
      ]
     },
     "execution_count": 8,
     "metadata": {},
     "output_type": "execute_result"
    }
   ],
   "source": [
    "partition_duplicated=pd.DataFrame(data=lk_duplicate_value,index=lk_duplicate,columns=['Numbers'])\n",
    "partition_duplicated\n",
    "#这里也是创建出现次数"
   ]
  },
  {
   "cell_type": "markdown",
   "id": "f7bb33f6-66d2-4414-b8fa-a46ef0da7c7a",
   "metadata": {
    "tags": []
   },
   "source": [
    "通过观察，数据集中patitionKey重复字段可分为以下几种情况：  \n",
    "* 情况1：全部未完成\n",
    "* 情况2：只有最后订单完成\n",
    "* 情况3：超过一个订单完成\n",
    "* 情况4：一个前序订单完成而其他订单未完成  \n",
    "\n",
    "情况1&2符合用户的预订流程逻辑，故不做处理。情况3&4，并不符合用户使用app的流程逻辑，推测可能是系统问题导致，因此考虑直接删除对应partitionKey的全部记录。"
   ]
  },
  {
   "cell_type": "code",
   "execution_count": 9,
   "id": "94165e88-d6d5-45a6-8ce3-f8116f66612a",
   "metadata": {
    "tags": []
   },
   "outputs": [
    {
     "data": {
      "text/html": [
       "<div>\n",
       "<style scoped>\n",
       "    .dataframe tbody tr th:only-of-type {\n",
       "        vertical-align: middle;\n",
       "    }\n",
       "\n",
       "    .dataframe tbody tr th {\n",
       "        vertical-align: top;\n",
       "    }\n",
       "\n",
       "    .dataframe thead th {\n",
       "        text-align: right;\n",
       "    }\n",
       "</style>\n",
       "<table border=\"1\" class=\"dataframe\">\n",
       "  <thead>\n",
       "    <tr style=\"text-align: right;\">\n",
       "      <th></th>\n",
       "      <th>partitionKey</th>\n",
       "      <th>BookingCreatedTime</th>\n",
       "      <th>DispatchStatus</th>\n",
       "    </tr>\n",
       "  </thead>\n",
       "  <tbody>\n",
       "    <tr>\n",
       "      <th>671353</th>\n",
       "      <td>000bafa0-2f6d-11ed-aeba-d39c8d7719af</td>\n",
       "      <td>2022-09-08 21:55:38.846</td>\n",
       "      <td>Completed</td>\n",
       "    </tr>\n",
       "    <tr>\n",
       "      <th>986147</th>\n",
       "      <td>000bafa0-2f6d-11ed-aeba-d39c8d7719af</td>\n",
       "      <td>2022-09-08 21:55:59.770</td>\n",
       "      <td>NotCompleted</td>\n",
       "    </tr>\n",
       "    <tr>\n",
       "      <th>980060</th>\n",
       "      <td>0024cd00-4f16-11ed-8cc4-f1bd638415f1</td>\n",
       "      <td>2022-10-19 05:56:04.786</td>\n",
       "      <td>NotCompleted</td>\n",
       "    </tr>\n",
       "    <tr>\n",
       "      <th>980059</th>\n",
       "      <td>0024cd00-4f16-11ed-8cc4-f1bd638415f1</td>\n",
       "      <td>2022-10-19 05:56:25.120</td>\n",
       "      <td>NotCompleted</td>\n",
       "    </tr>\n",
       "    <tr>\n",
       "      <th>896659</th>\n",
       "      <td>0056add0-4f97-11ed-9661-47dabcf94230</td>\n",
       "      <td>2022-10-19 21:16:07.230</td>\n",
       "      <td>Completed</td>\n",
       "    </tr>\n",
       "    <tr>\n",
       "      <th>1103082</th>\n",
       "      <td>0056add0-4f97-11ed-9661-47dabcf94230</td>\n",
       "      <td>2022-10-19 21:16:15.403</td>\n",
       "      <td>NotCompleted</td>\n",
       "    </tr>\n",
       "    <tr>\n",
       "      <th>1002248</th>\n",
       "      <td>00738720-46f0-11ed-9661-47dabcf94230</td>\n",
       "      <td>2022-10-08 21:00:26.580</td>\n",
       "      <td>NotCompleted</td>\n",
       "    </tr>\n",
       "    <tr>\n",
       "      <th>710730</th>\n",
       "      <td>00738720-46f0-11ed-9661-47dabcf94230</td>\n",
       "      <td>2022-10-08 21:02:14.166</td>\n",
       "      <td>Completed</td>\n",
       "    </tr>\n",
       "    <tr>\n",
       "      <th>681402</th>\n",
       "      <td>00934800-484c-11ed-9661-47dabcf94230</td>\n",
       "      <td>2022-10-10 14:31:52.346</td>\n",
       "      <td>Completed</td>\n",
       "    </tr>\n",
       "    <tr>\n",
       "      <th>683459</th>\n",
       "      <td>00934800-484c-11ed-9661-47dabcf94230</td>\n",
       "      <td>2022-10-10 14:34:00.246</td>\n",
       "      <td>Completed</td>\n",
       "    </tr>\n",
       "    <tr>\n",
       "      <th>1035836</th>\n",
       "      <td>009d9410-4903-11ed-8cc4-f1bd638415f1</td>\n",
       "      <td>2022-10-11 12:21:33.273</td>\n",
       "      <td>NotCompleted</td>\n",
       "    </tr>\n",
       "    <tr>\n",
       "      <th>764580</th>\n",
       "      <td>009d9410-4903-11ed-8cc4-f1bd638415f1</td>\n",
       "      <td>2022-10-11 12:22:23.143</td>\n",
       "      <td>Completed</td>\n",
       "    </tr>\n",
       "    <tr>\n",
       "      <th>762554</th>\n",
       "      <td>009fe680-4c4f-11ed-9661-47dabcf94230</td>\n",
       "      <td>2022-10-15 17:03:08.320</td>\n",
       "      <td>Completed</td>\n",
       "    </tr>\n",
       "    <tr>\n",
       "      <th>1026942</th>\n",
       "      <td>009fe680-4c4f-11ed-9661-47dabcf94230</td>\n",
       "      <td>2022-10-15 17:03:17.806</td>\n",
       "      <td>NotCompleted</td>\n",
       "    </tr>\n",
       "    <tr>\n",
       "      <th>1042128</th>\n",
       "      <td>00a8efa0-3584-11ed-9a00-d5b713a64e81</td>\n",
       "      <td>2022-09-16 15:54:25.260</td>\n",
       "      <td>NotCompleted</td>\n",
       "    </tr>\n",
       "  </tbody>\n",
       "</table>\n",
       "</div>"
      ],
      "text/plain": [
       "                                 partitionKey       BookingCreatedTime  \\\n",
       "671353   000bafa0-2f6d-11ed-aeba-d39c8d7719af  2022-09-08 21:55:38.846   \n",
       "986147   000bafa0-2f6d-11ed-aeba-d39c8d7719af  2022-09-08 21:55:59.770   \n",
       "980060   0024cd00-4f16-11ed-8cc4-f1bd638415f1  2022-10-19 05:56:04.786   \n",
       "980059   0024cd00-4f16-11ed-8cc4-f1bd638415f1  2022-10-19 05:56:25.120   \n",
       "896659   0056add0-4f97-11ed-9661-47dabcf94230  2022-10-19 21:16:07.230   \n",
       "1103082  0056add0-4f97-11ed-9661-47dabcf94230  2022-10-19 21:16:15.403   \n",
       "1002248  00738720-46f0-11ed-9661-47dabcf94230  2022-10-08 21:00:26.580   \n",
       "710730   00738720-46f0-11ed-9661-47dabcf94230  2022-10-08 21:02:14.166   \n",
       "681402   00934800-484c-11ed-9661-47dabcf94230  2022-10-10 14:31:52.346   \n",
       "683459   00934800-484c-11ed-9661-47dabcf94230  2022-10-10 14:34:00.246   \n",
       "1035836  009d9410-4903-11ed-8cc4-f1bd638415f1  2022-10-11 12:21:33.273   \n",
       "764580   009d9410-4903-11ed-8cc4-f1bd638415f1  2022-10-11 12:22:23.143   \n",
       "762554   009fe680-4c4f-11ed-9661-47dabcf94230  2022-10-15 17:03:08.320   \n",
       "1026942  009fe680-4c4f-11ed-9661-47dabcf94230  2022-10-15 17:03:17.806   \n",
       "1042128  00a8efa0-3584-11ed-9a00-d5b713a64e81  2022-09-16 15:54:25.260   \n",
       "\n",
       "        DispatchStatus  \n",
       "671353       Completed  \n",
       "986147    NotCompleted  \n",
       "980060    NotCompleted  \n",
       "980059    NotCompleted  \n",
       "896659       Completed  \n",
       "1103082   NotCompleted  \n",
       "1002248   NotCompleted  \n",
       "710730       Completed  \n",
       "681402       Completed  \n",
       "683459       Completed  \n",
       "1035836   NotCompleted  \n",
       "764580       Completed  \n",
       "762554       Completed  \n",
       "1026942   NotCompleted  \n",
       "1042128   NotCompleted  "
      ]
     },
     "execution_count": 9,
     "metadata": {},
     "output_type": "execute_result"
    }
   ],
   "source": [
    "subset = raw[raw.duplicated(subset=[\"partitionKey\"], keep=False)].sort_values(by=[\"partitionKey\",\"BookingCreatedTime\"])[[\"partitionKey\", \"BookingCreatedTime\", \"DispatchStatus\"]]\n",
    "subset.head(15)"
   ]
  },
  {
   "cell_type": "markdown",
   "id": "759345a3-b483-44b4-a5c2-68ab81fe9f8d",
   "metadata": {},
   "source": [
    "直接算哪种情况（对哦 这个个人作业不要求交代码，只要汇报就行了）"
   ]
  },
  {
   "cell_type": "code",
   "execution_count": 10,
   "id": "d2c61952-2621-4016-a69d-34685dd92e5f",
   "metadata": {
    "tags": []
   },
   "outputs": [],
   "source": [
    "for key in partition_duplicated.index:\n",
    "    temp = subset[subset[\"partitionKey\"] == key]\n",
    "    if len(temp) - temp[\"DispatchStatus\"].str.contains(\"NotCompleted\").sum() == 0:  # 情景1...\n",
    "        # 相减是吧！一共多少条重复-没完成的，如果是0，说明全都是没完成的\n",
    "        partition_duplicated.loc[key, \"Scenario\"] = 1\n",
    "    elif len(temp) - temp[\"DispatchStatus\"].str.contains(\"NotCompleted\").sum() == 1 and temp[\"DispatchStatus\"].values[-1] == \"Completed\":  # 情景2\n",
    "        partition_duplicated.loc[key, \"Scenario\"] = 2\n",
    "    elif len(temp) - temp[\"DispatchStatus\"].str.contains(\"NotCompleted\").sum() > 1:  # 情景3\n",
    "        partition_duplicated.loc[key, \"Scenario\"] = 3\n",
    "    elif temp[\"DispatchStatus\"].values[-1] == \"NotCompleted\" and len(temp) - temp[\"DispatchStatus\"].str.contains(\"NotComplete\").sum() != 0:  # 情景4\n",
    "        partition_duplicated.loc[key, \"Scenario\"] = 4"
   ]
  },
  {
   "cell_type": "code",
   "execution_count": 11,
   "id": "ff1f5f3f-448b-4ea6-a9bd-24bf89f63fbf",
   "metadata": {
    "tags": []
   },
   "outputs": [
    {
     "data": {
      "text/plain": [
       "0"
      ]
     },
     "execution_count": 11,
     "metadata": {},
     "output_type": "execute_result"
    }
   ],
   "source": [
    "len(partition_duplicated) - partition_duplicated[\"Scenario\"].notnull().sum()#check有没有问题用的"
   ]
  },
  {
   "cell_type": "code",
   "execution_count": 12,
   "id": "4d9f5b9d-2380-475d-ac0c-42ca8506413f",
   "metadata": {
    "tags": []
   },
   "outputs": [
    {
     "data": {
      "text/plain": [
       "1.0    1028\n",
       "2.0     946\n",
       "3.0     200\n",
       "4.0     530\n",
       "Name: Scenario, dtype: int64"
      ]
     },
     "execution_count": 12,
     "metadata": {},
     "output_type": "execute_result"
    }
   ],
   "source": [
    "partition_duplicated[\"Scenario\"].value_counts().sort_index()"
   ]
  },
  {
   "cell_type": "code",
   "execution_count": 13,
   "id": "8e7aa44e-7957-4ba7-aa31-cb6904afc493",
   "metadata": {
    "tags": []
   },
   "outputs": [
    {
     "data": {
      "text/html": [
       "<div>\n",
       "<style scoped>\n",
       "    .dataframe tbody tr th:only-of-type {\n",
       "        vertical-align: middle;\n",
       "    }\n",
       "\n",
       "    .dataframe tbody tr th {\n",
       "        vertical-align: top;\n",
       "    }\n",
       "\n",
       "    .dataframe thead th {\n",
       "        text-align: right;\n",
       "    }\n",
       "</style>\n",
       "<table border=\"1\" class=\"dataframe\">\n",
       "  <thead>\n",
       "    <tr style=\"text-align: right;\">\n",
       "      <th></th>\n",
       "      <th>Numbers</th>\n",
       "      <th>Scenario</th>\n",
       "    </tr>\n",
       "  </thead>\n",
       "  <tbody>\n",
       "    <tr>\n",
       "      <th>bd3b05c0-51f6-11ed-8cc4-f1bd638415f1</th>\n",
       "      <td>8</td>\n",
       "      <td>1.0</td>\n",
       "    </tr>\n",
       "    <tr>\n",
       "      <th>18414ee0-584e-11ed-8b11-1f5b62fad19f</th>\n",
       "      <td>5</td>\n",
       "      <td>1.0</td>\n",
       "    </tr>\n",
       "    <tr>\n",
       "      <th>5fdbdce0-30e2-11ed-9992-2bb9650dd4cf</th>\n",
       "      <td>5</td>\n",
       "      <td>4.0</td>\n",
       "    </tr>\n",
       "    <tr>\n",
       "      <th>f392dde0-4149-11ed-8cc4-f1bd638415f1</th>\n",
       "      <td>5</td>\n",
       "      <td>4.0</td>\n",
       "    </tr>\n",
       "    <tr>\n",
       "      <th>d23e2580-2d82-11ed-aeba-d39c8d7719af</th>\n",
       "      <td>5</td>\n",
       "      <td>2.0</td>\n",
       "    </tr>\n",
       "    <tr>\n",
       "      <th>...</th>\n",
       "      <td>...</td>\n",
       "      <td>...</td>\n",
       "    </tr>\n",
       "    <tr>\n",
       "      <th>d453dfe0-35b6-11ed-9a00-d5b713a64e81</th>\n",
       "      <td>2</td>\n",
       "      <td>2.0</td>\n",
       "    </tr>\n",
       "    <tr>\n",
       "      <th>253aa540-300a-11ed-9a00-d5b713a64e81</th>\n",
       "      <td>2</td>\n",
       "      <td>4.0</td>\n",
       "    </tr>\n",
       "    <tr>\n",
       "      <th>72fdece0-3408-11ed-9a00-d5b713a64e81</th>\n",
       "      <td>2</td>\n",
       "      <td>2.0</td>\n",
       "    </tr>\n",
       "    <tr>\n",
       "      <th>eece6250-3bf6-11ed-9a00-d5b713a64e81</th>\n",
       "      <td>2</td>\n",
       "      <td>2.0</td>\n",
       "    </tr>\n",
       "    <tr>\n",
       "      <th>1d2f8cf0-4610-11ed-8cc4-f1bd638415f1</th>\n",
       "      <td>2</td>\n",
       "      <td>2.0</td>\n",
       "    </tr>\n",
       "  </tbody>\n",
       "</table>\n",
       "<p>2704 rows × 2 columns</p>\n",
       "</div>"
      ],
      "text/plain": [
       "                                      Numbers  Scenario\n",
       "bd3b05c0-51f6-11ed-8cc4-f1bd638415f1        8       1.0\n",
       "18414ee0-584e-11ed-8b11-1f5b62fad19f        5       1.0\n",
       "5fdbdce0-30e2-11ed-9992-2bb9650dd4cf        5       4.0\n",
       "f392dde0-4149-11ed-8cc4-f1bd638415f1        5       4.0\n",
       "d23e2580-2d82-11ed-aeba-d39c8d7719af        5       2.0\n",
       "...                                       ...       ...\n",
       "d453dfe0-35b6-11ed-9a00-d5b713a64e81        2       2.0\n",
       "253aa540-300a-11ed-9a00-d5b713a64e81        2       4.0\n",
       "72fdece0-3408-11ed-9a00-d5b713a64e81        2       2.0\n",
       "eece6250-3bf6-11ed-9a00-d5b713a64e81        2       2.0\n",
       "1d2f8cf0-4610-11ed-8cc4-f1bd638415f1        2       2.0\n",
       "\n",
       "[2704 rows x 2 columns]"
      ]
     },
     "execution_count": 13,
     "metadata": {},
     "output_type": "execute_result"
    }
   ],
   "source": [
    "partition_duplicated"
   ]
  },
  {
   "cell_type": "markdown",
   "id": "62d60295-c4a2-4c55-9e19-cf36381b76b5",
   "metadata": {},
   "source": [
    "存储index（scenario为1 2），之后drop"
   ]
  },
  {
   "cell_type": "code",
   "execution_count": 14,
   "id": "67413938-11ca-4306-a061-c8685648c7cf",
   "metadata": {},
   "outputs": [],
   "source": [
    "s1s2_index=partition_duplicated[(partition_duplicated['Scenario']==1) | (partition_duplicated['Scenario']==2)].index"
   ]
  },
  {
   "cell_type": "code",
   "execution_count": 15,
   "id": "28a05517-162d-4443-8b53-e9f41c1dd1d3",
   "metadata": {
    "tags": []
   },
   "outputs": [],
   "source": [
    "dropindex = raw[\"partitionKey\"].isin(partition_duplicated[(partition_duplicated[\"Scenario\"]==3) | (partition_duplicated[\"Scenario\"]==4)].index.values)\n",
    "raw = raw[~dropindex]#取反，提取不符合条件的值"
   ]
  },
  {
   "cell_type": "markdown",
   "id": "cd2b901b-27c6-41c0-98e9-492489105f0c",
   "metadata": {
    "tags": []
   },
   "source": [
    "#### BookingID\n",
    "BookingID没有任何重复记录。"
   ]
  },
  {
   "cell_type": "code",
   "execution_count": 16,
   "id": "79af9e46-0bf5-416b-9a43-bbb0568c0b44",
   "metadata": {
    "tags": []
   },
   "outputs": [
    {
     "data": {
      "text/plain": [
       "True"
      ]
     },
     "execution_count": 16,
     "metadata": {},
     "output_type": "execute_result"
    }
   ],
   "source": [
    "bks = raw[raw[\"BookingID\"].notnull()]\n",
    "len(bks)  == bks[\"BookingID\"].nunique()#查bid不为零的子集的长度，以及bid独特值的个数"
   ]
  },
  {
   "cell_type": "markdown",
   "id": "0dce0345-9d48-40ef-87df-8fcdee45dbdf",
   "metadata": {
    "tags": [],
    "toc-hr-collapsed": true
   },
   "source": [
    "### 2.1.2 逻辑判断去重\n",
    "在唯一字段的检验中，我们已经剔除了不符合流程逻辑的partitionKey重复记录，并保留了符合逻辑且反应现实的重复记录。但是基于观察，我们不难发现数据集中还存在一些其他不符合逻辑的重复记录，这些记录通过对单一的唯一字段进行检验无法找出，需要多变量联合筛选。  \n",
    "具体来说，尽管从全数据集来看，LookUp时间和Booking时间是可以重复的字段。但是对于同一个用户来说，在同一时间进行多次查询或预订显然是不符合逻辑的。因此在此部分中，我们考虑将用户id和两个时间字段进行交叉检验，并对存在逻辑问题的记录进行清理。"
   ]
  },
  {
   "cell_type": "markdown",
   "id": "5b4ca8b4-ea88-4409-a4b5-26b0944d2417",
   "metadata": {},
   "source": [
    "#### user_pseudo_id & createdAt\n",
    "通过筛选，将同一用户、同一时间但却有不重复partitionKey的记录挑选出来，一共24条。显然，同一用户不可能在完全相同的时间里提出多次不同（partitionKey不同）的lookup请求，因此考虑将重复记录删除，保留一条记录。若有booking记录，则保留带有booking的记录。"
   ]
  },
  {
   "cell_type": "code",
   "execution_count": 17,
   "id": "90a09c94-548f-4962-b777-709f42fdee2b",
   "metadata": {
    "tags": []
   },
   "outputs": [],
   "source": [
    "# 查看同一用户同一时间有LookUp记录的数量\n",
    "\n",
    "# 选出同一用户同一时间的LookUp记录\n",
    "temp = raw[raw.duplicated(subset=[\"user_pseudo_id\", \"createdAt\"], keep=False)].sort_values(by=[\"user_pseudo_id\"])  \n",
    "# 其中有一部分是重复partitionKey的记录，已在上面完成处理，找出不带有重复partitionKey的记录的key\n",
    "key = temp[\"partitionKey\"].value_counts()[temp[\"partitionKey\"].value_counts() == 1].index.values  \n",
    "idx = temp[\"partitionKey\"].isin(key)\n",
    "temp = temp[idx].sort_values(by=[\"user_pseudo_id\",\"BookingID\"])\n",
    "# 一共有24条记录"
   ]
  },
  {
   "cell_type": "code",
   "execution_count": 24,
   "id": "184d22d0-dddc-41e6-b857-8a94bf0c4c08",
   "metadata": {
    "scrolled": true,
    "tags": []
   },
   "outputs": [
    {
     "data": {
      "text/html": [
       "<div>\n",
       "<style scoped>\n",
       "    .dataframe tbody tr th:only-of-type {\n",
       "        vertical-align: middle;\n",
       "    }\n",
       "\n",
       "    .dataframe tbody tr th {\n",
       "        vertical-align: top;\n",
       "    }\n",
       "\n",
       "    .dataframe thead th {\n",
       "        text-align: right;\n",
       "    }\n",
       "</style>\n",
       "<table border=\"1\" class=\"dataframe\">\n",
       "  <thead>\n",
       "    <tr style=\"text-align: right;\">\n",
       "      <th></th>\n",
       "      <th>partitionKey</th>\n",
       "      <th>user_pseudo_id</th>\n",
       "      <th>createdAt</th>\n",
       "      <th>startAddress</th>\n",
       "      <th>endAddress</th>\n",
       "      <th>tripEstimate</th>\n",
       "      <th>BookingID</th>\n",
       "      <th>BookingCreatedTime</th>\n",
       "      <th>PickUp_Latitude</th>\n",
       "      <th>PickUp_Longitude</th>\n",
       "      <th>DropOff_Latitude</th>\n",
       "      <th>DropOff_Longitude</th>\n",
       "      <th>DispatchStatus</th>\n",
       "    </tr>\n",
       "  </thead>\n",
       "  <tbody>\n",
       "    <tr>\n",
       "      <th>302517</th>\n",
       "      <td>1f702ef0-2fe7-11ed-aeba-d39c8d7719af</td>\n",
       "      <td>0295699BB96C4A10B921DC0671C726BE</td>\n",
       "      <td>2022-09-09 12:28:42.973</td>\n",
       "      <td>Domestic Airport Station, Mascot NSW 2020, Aus...</td>\n",
       "      <td>38 Chesterfield Parade, Bronte NSW 2024, Austr...</td>\n",
       "      <td>41.58</td>\n",
       "      <td>NaN</td>\n",
       "      <td>NaN</td>\n",
       "      <td>NaN</td>\n",
       "      <td>NaN</td>\n",
       "      <td>NaN</td>\n",
       "      <td>NaN</td>\n",
       "      <td>NaN</td>\n",
       "    </tr>\n",
       "    <tr>\n",
       "      <th>302337</th>\n",
       "      <td>1f702ef0-2fe7-11ed-9a00-d5b713a64e81</td>\n",
       "      <td>0295699BB96C4A10B921DC0671C726BE</td>\n",
       "      <td>2022-09-09 12:28:42.973</td>\n",
       "      <td>Domestic Airport Station, Mascot NSW 2020, Aus...</td>\n",
       "      <td>38 Chesterfield Parade, Bronte NSW 2024, Austr...</td>\n",
       "      <td>41.58</td>\n",
       "      <td>NaN</td>\n",
       "      <td>NaN</td>\n",
       "      <td>NaN</td>\n",
       "      <td>NaN</td>\n",
       "      <td>NaN</td>\n",
       "      <td>NaN</td>\n",
       "      <td>NaN</td>\n",
       "    </tr>\n",
       "    <tr>\n",
       "      <th>357284</th>\n",
       "      <td>4a73a540-4dac-11ed-9661-47dabcf94230</td>\n",
       "      <td>0E9EDF31EB204423BB9FA63D783FC868</td>\n",
       "      <td>2022-10-17 10:43:09.716</td>\n",
       "      <td>4 Mesa Link, Baldivis WA 6171, Australia</td>\n",
       "      <td>21 Enterprise Way, Rockingham WA 6168, Australia</td>\n",
       "      <td>37.49</td>\n",
       "      <td>NaN</td>\n",
       "      <td>NaN</td>\n",
       "      <td>NaN</td>\n",
       "      <td>NaN</td>\n",
       "      <td>NaN</td>\n",
       "      <td>NaN</td>\n",
       "      <td>NaN</td>\n",
       "    </tr>\n",
       "    <tr>\n",
       "      <th>357193</th>\n",
       "      <td>4a735720-4dac-11ed-8cc4-f1bd638415f1</td>\n",
       "      <td>0E9EDF31EB204423BB9FA63D783FC868</td>\n",
       "      <td>2022-10-17 10:43:09.716</td>\n",
       "      <td>4 Mesa Link, Baldivis WA 6171, Australia</td>\n",
       "      <td>21 Enterprise Way, Rockingham WA 6168, Australia</td>\n",
       "      <td>37.49</td>\n",
       "      <td>NaN</td>\n",
       "      <td>NaN</td>\n",
       "      <td>NaN</td>\n",
       "      <td>NaN</td>\n",
       "      <td>NaN</td>\n",
       "      <td>NaN</td>\n",
       "      <td>NaN</td>\n",
       "    </tr>\n",
       "    <tr>\n",
       "      <th>218292</th>\n",
       "      <td>7c906290-421f-11ed-9661-47dabcf94230</td>\n",
       "      <td>2E80FAA2D2854929AE1C2BDB9F108F63</td>\n",
       "      <td>2022-10-02 17:57:31.963</td>\n",
       "      <td>32 Timbertop Mead, Burleigh Heads QLD 4220, Au...</td>\n",
       "      <td>12 Walton St, Southport QLD 4215, Australia</td>\n",
       "      <td>58.80</td>\n",
       "      <td>NaN</td>\n",
       "      <td>NaN</td>\n",
       "      <td>NaN</td>\n",
       "      <td>NaN</td>\n",
       "      <td>NaN</td>\n",
       "      <td>NaN</td>\n",
       "      <td>NaN</td>\n",
       "    </tr>\n",
       "    <tr>\n",
       "      <th>218491</th>\n",
       "      <td>7c90d7c0-421f-11ed-8cc4-f1bd638415f1</td>\n",
       "      <td>2E80FAA2D2854929AE1C2BDB9F108F63</td>\n",
       "      <td>2022-10-02 17:57:31.963</td>\n",
       "      <td>32 Timbertop Mead, Burleigh Heads QLD 4220, Au...</td>\n",
       "      <td>12 Walton St, Southport QLD 4215, Australia</td>\n",
       "      <td>58.80</td>\n",
       "      <td>NaN</td>\n",
       "      <td>NaN</td>\n",
       "      <td>NaN</td>\n",
       "      <td>NaN</td>\n",
       "      <td>NaN</td>\n",
       "      <td>NaN</td>\n",
       "      <td>NaN</td>\n",
       "    </tr>\n",
       "    <tr>\n",
       "      <th>318066</th>\n",
       "      <td>6054f7f0-5596-11ed-bafc-eb69a13397eb</td>\n",
       "      <td>5209AF53D3F64097B466EDDB77EB0BEE</td>\n",
       "      <td>2022-10-27 12:26:26.800</td>\n",
       "      <td>Cnr Sayers Rd &amp;, Forsyth Rd, Williams Landing ...</td>\n",
       "      <td>21 Export Dr, Brooklyn VIC 3012, Australia</td>\n",
       "      <td>42.11</td>\n",
       "      <td>NaN</td>\n",
       "      <td>NaN</td>\n",
       "      <td>NaN</td>\n",
       "      <td>NaN</td>\n",
       "      <td>NaN</td>\n",
       "      <td>NaN</td>\n",
       "      <td>NaN</td>\n",
       "    </tr>\n",
       "    <tr>\n",
       "      <th>317751</th>\n",
       "      <td>6054f7f3-5596-11ed-bafc-eb69a13397eb</td>\n",
       "      <td>5209AF53D3F64097B466EDDB77EB0BEE</td>\n",
       "      <td>2022-10-27 12:26:26.800</td>\n",
       "      <td>Cnr Sayers Rd &amp;, Forsyth Rd, Williams Landing ...</td>\n",
       "      <td>21 Export Dr, Brooklyn VIC 3012, Australia</td>\n",
       "      <td>42.11</td>\n",
       "      <td>NaN</td>\n",
       "      <td>NaN</td>\n",
       "      <td>NaN</td>\n",
       "      <td>NaN</td>\n",
       "      <td>NaN</td>\n",
       "      <td>NaN</td>\n",
       "      <td>NaN</td>\n",
       "    </tr>\n",
       "    <tr>\n",
       "      <th>397344</th>\n",
       "      <td>7315b5d0-3af3-4d74-bc8e-aba9d365a692</td>\n",
       "      <td>7B195F2F25E442D58C755696287370B4</td>\n",
       "      <td>2022-10-26 20:28:54.446</td>\n",
       "      <td>2 Weeroona Ave, Bendigo VIC 3550, Australia</td>\n",
       "      <td>7 Rathbones Ln, Maiden Gully VIC 3551, Australia</td>\n",
       "      <td>32.03</td>\n",
       "      <td>NaN</td>\n",
       "      <td>NaN</td>\n",
       "      <td>NaN</td>\n",
       "      <td>NaN</td>\n",
       "      <td>NaN</td>\n",
       "      <td>NaN</td>\n",
       "      <td>NaN</td>\n",
       "    </tr>\n",
       "    <tr>\n",
       "      <th>397462</th>\n",
       "      <td>ff5a0236-c955-40fd-9149-472d2d13a0f4</td>\n",
       "      <td>7B195F2F25E442D58C755696287370B4</td>\n",
       "      <td>2022-10-26 20:28:54.446</td>\n",
       "      <td>2 Weeroona Ave, Bendigo VIC 3550, Australia</td>\n",
       "      <td>7 Rathbones Ln, Maiden Gully VIC 3551, Australia</td>\n",
       "      <td>32.03</td>\n",
       "      <td>NaN</td>\n",
       "      <td>NaN</td>\n",
       "      <td>NaN</td>\n",
       "      <td>NaN</td>\n",
       "      <td>NaN</td>\n",
       "      <td>NaN</td>\n",
       "      <td>NaN</td>\n",
       "    </tr>\n",
       "    <tr>\n",
       "      <th>858629</th>\n",
       "      <td>af264cc0-4bb5-11ed-9661-47dabcf94230</td>\n",
       "      <td>8265D849647C40D1A3851EF48255D782</td>\n",
       "      <td>2022-10-14 22:45:21.803</td>\n",
       "      <td>57 Stradbroke Ave, Wynnum QLD 4178, Australia</td>\n",
       "      <td>21 Meilandt St, Wynnum QLD 4178, Australia</td>\n",
       "      <td>12.08</td>\n",
       "      <td>32339190.0</td>\n",
       "      <td>2022-10-14 22:45:42.750</td>\n",
       "      <td>-27.446814</td>\n",
       "      <td>153.166768</td>\n",
       "      <td>-27.434098</td>\n",
       "      <td>153.156709</td>\n",
       "      <td>Completed</td>\n",
       "    </tr>\n",
       "    <tr>\n",
       "      <th>466297</th>\n",
       "      <td>af25d790-4bb5-11ed-8cc4-f1bd638415f1</td>\n",
       "      <td>8265D849647C40D1A3851EF48255D782</td>\n",
       "      <td>2022-10-14 22:45:21.803</td>\n",
       "      <td>57 Stradbroke Ave, Wynnum QLD 4178, Australia</td>\n",
       "      <td>21 Meilandt St, Wynnum QLD 4178, Australia</td>\n",
       "      <td>12.08</td>\n",
       "      <td>NaN</td>\n",
       "      <td>NaN</td>\n",
       "      <td>NaN</td>\n",
       "      <td>NaN</td>\n",
       "      <td>NaN</td>\n",
       "      <td>NaN</td>\n",
       "      <td>NaN</td>\n",
       "    </tr>\n",
       "    <tr>\n",
       "      <th>175484</th>\n",
       "      <td>c8c2b750-4f9c-11ed-9661-47dabcf94230</td>\n",
       "      <td>8B6115A500FA4CED99E914F5195B7B8A</td>\n",
       "      <td>2022-10-19 21:57:12.003</td>\n",
       "      <td>3 Sueinnes St, Eagleby QLD 4207, Australia</td>\n",
       "      <td>Shop 6/195 Vienna Rd, Alexandra Hills QLD 4161...</td>\n",
       "      <td>78.96</td>\n",
       "      <td>NaN</td>\n",
       "      <td>NaN</td>\n",
       "      <td>NaN</td>\n",
       "      <td>NaN</td>\n",
       "      <td>NaN</td>\n",
       "      <td>NaN</td>\n",
       "      <td>NaN</td>\n",
       "    </tr>\n",
       "    <tr>\n",
       "      <th>175468</th>\n",
       "      <td>c8c24220-4f9c-11ed-9661-47dabcf94230</td>\n",
       "      <td>8B6115A500FA4CED99E914F5195B7B8A</td>\n",
       "      <td>2022-10-19 21:57:12.003</td>\n",
       "      <td>3 Sueinnes St, Eagleby QLD 4207, Australia</td>\n",
       "      <td>Shop 6/195 Vienna Rd, Alexandra Hills QLD 4161...</td>\n",
       "      <td>78.96</td>\n",
       "      <td>NaN</td>\n",
       "      <td>NaN</td>\n",
       "      <td>NaN</td>\n",
       "      <td>NaN</td>\n",
       "      <td>NaN</td>\n",
       "      <td>NaN</td>\n",
       "      <td>NaN</td>\n",
       "    </tr>\n",
       "    <tr>\n",
       "      <th>504176</th>\n",
       "      <td>284f7080-42fc-11ed-8cc4-f1bd638415f1</td>\n",
       "      <td>8D1A91AC7FB442F394CE3EC9D72F0E4E</td>\n",
       "      <td>2022-10-03 20:17:09.386</td>\n",
       "      <td>82 B68, Battery Point TAS 7004, Australia</td>\n",
       "      <td>2 Gordons Hill Rd, Rosny Park TAS 7018, Australia</td>\n",
       "      <td>21.84</td>\n",
       "      <td>NaN</td>\n",
       "      <td>NaN</td>\n",
       "      <td>NaN</td>\n",
       "      <td>NaN</td>\n",
       "      <td>NaN</td>\n",
       "      <td>NaN</td>\n",
       "      <td>NaN</td>\n",
       "    </tr>\n",
       "    <tr>\n",
       "      <th>504459</th>\n",
       "      <td>284fe5b0-42fc-11ed-9661-47dabcf94230</td>\n",
       "      <td>8D1A91AC7FB442F394CE3EC9D72F0E4E</td>\n",
       "      <td>2022-10-03 20:17:09.386</td>\n",
       "      <td>82 B68, Battery Point TAS 7004, Australia</td>\n",
       "      <td>2 Gordons Hill Rd, Rosny Park TAS 7018, Australia</td>\n",
       "      <td>21.84</td>\n",
       "      <td>NaN</td>\n",
       "      <td>NaN</td>\n",
       "      <td>NaN</td>\n",
       "      <td>NaN</td>\n",
       "      <td>NaN</td>\n",
       "      <td>NaN</td>\n",
       "      <td>NaN</td>\n",
       "    </tr>\n",
       "    <tr>\n",
       "      <th>445962</th>\n",
       "      <td>3c6e31c0-46ab-11ed-8cc4-f1bd638415f1</td>\n",
       "      <td>A43EE6920D454111B243EE3730F11B47</td>\n",
       "      <td>2022-10-08 12:47:58.556</td>\n",
       "      <td>20 Junction Rd, Morningside QLD 4170, Australia</td>\n",
       "      <td>45 Peachdale St, Tingalpa QLD 4173, Australia</td>\n",
       "      <td>27.20</td>\n",
       "      <td>NaN</td>\n",
       "      <td>NaN</td>\n",
       "      <td>NaN</td>\n",
       "      <td>NaN</td>\n",
       "      <td>NaN</td>\n",
       "      <td>NaN</td>\n",
       "      <td>NaN</td>\n",
       "    </tr>\n",
       "    <tr>\n",
       "      <th>446079</th>\n",
       "      <td>3c6e31c0-46ab-11ed-9661-47dabcf94230</td>\n",
       "      <td>A43EE6920D454111B243EE3730F11B47</td>\n",
       "      <td>2022-10-08 12:47:58.556</td>\n",
       "      <td>20 Junction Rd, Morningside QLD 4170, Australia</td>\n",
       "      <td>45 Peachdale St, Tingalpa QLD 4173, Australia</td>\n",
       "      <td>27.20</td>\n",
       "      <td>NaN</td>\n",
       "      <td>NaN</td>\n",
       "      <td>NaN</td>\n",
       "      <td>NaN</td>\n",
       "      <td>NaN</td>\n",
       "      <td>NaN</td>\n",
       "      <td>NaN</td>\n",
       "    </tr>\n",
       "    <tr>\n",
       "      <th>226216</th>\n",
       "      <td>bdce49d0-489a-11ed-9661-47dabcf94230</td>\n",
       "      <td>B54E93A196A84F9DACC0D73FD6CF31C9</td>\n",
       "      <td>2022-10-10 23:54:56.493</td>\n",
       "      <td>20 Colchester Rd, Capel Sound VIC 3940, Australia</td>\n",
       "      <td>466 Esplanade, Mount Martha VIC 3934, Australia</td>\n",
       "      <td>57.65</td>\n",
       "      <td>NaN</td>\n",
       "      <td>NaN</td>\n",
       "      <td>NaN</td>\n",
       "      <td>NaN</td>\n",
       "      <td>NaN</td>\n",
       "      <td>NaN</td>\n",
       "      <td>NaN</td>\n",
       "    </tr>\n",
       "    <tr>\n",
       "      <th>226258</th>\n",
       "      <td>bdcdfbb0-489a-11ed-9661-47dabcf94230</td>\n",
       "      <td>B54E93A196A84F9DACC0D73FD6CF31C9</td>\n",
       "      <td>2022-10-10 23:54:56.493</td>\n",
       "      <td>20 Colchester Rd, Capel Sound VIC 3940, Australia</td>\n",
       "      <td>466 Esplanade, Mount Martha VIC 3934, Australia</td>\n",
       "      <td>57.65</td>\n",
       "      <td>NaN</td>\n",
       "      <td>NaN</td>\n",
       "      <td>NaN</td>\n",
       "      <td>NaN</td>\n",
       "      <td>NaN</td>\n",
       "      <td>NaN</td>\n",
       "      <td>NaN</td>\n",
       "    </tr>\n",
       "    <tr>\n",
       "      <th>803004</th>\n",
       "      <td>22f67cb0-3bb2-11ed-9a00-d5b713a64e81</td>\n",
       "      <td>B894C2B1C86A4A83B2EB5A17DFC95DB0</td>\n",
       "      <td>2022-09-24 12:39:39.516</td>\n",
       "      <td>32 Elder St, Clarinda VIC 3169, Australia</td>\n",
       "      <td>54 Wright St, McKinnon VIC 3204, Australia</td>\n",
       "      <td>27.51</td>\n",
       "      <td>31863211.0</td>\n",
       "      <td>2022-09-24 12:39:47.290</td>\n",
       "      <td>-37.929680</td>\n",
       "      <td>145.104307</td>\n",
       "      <td>-37.912491</td>\n",
       "      <td>145.030843</td>\n",
       "      <td>Completed</td>\n",
       "    </tr>\n",
       "    <tr>\n",
       "      <th>426805</th>\n",
       "      <td>22f6cad0-3bb2-11ed-9a00-d5b713a64e81</td>\n",
       "      <td>B894C2B1C86A4A83B2EB5A17DFC95DB0</td>\n",
       "      <td>2022-09-24 12:39:39.516</td>\n",
       "      <td>32 Elder St, Clarinda VIC 3169, Australia</td>\n",
       "      <td>54 Wright St, McKinnon VIC 3204, Australia</td>\n",
       "      <td>27.51</td>\n",
       "      <td>NaN</td>\n",
       "      <td>NaN</td>\n",
       "      <td>NaN</td>\n",
       "      <td>NaN</td>\n",
       "      <td>NaN</td>\n",
       "      <td>NaN</td>\n",
       "      <td>NaN</td>\n",
       "    </tr>\n",
       "    <tr>\n",
       "      <th>854638</th>\n",
       "      <td>4a487020-29c9-11ed-aeba-d39c8d7719af</td>\n",
       "      <td>a59a2c3e0bfe1dc162b8c5d912f102b7</td>\n",
       "      <td>2022-09-01 17:40:02.976</td>\n",
       "      <td>90 Albert St, East Melbourne VIC 3002, Australia</td>\n",
       "      <td>557 Little Lonsdale St, Melbourne VIC 3000, Au...</td>\n",
       "      <td>21.32</td>\n",
       "      <td>31345098.0</td>\n",
       "      <td>2022-09-01 17:40:19.096</td>\n",
       "      <td>-37.810493</td>\n",
       "      <td>144.988051</td>\n",
       "      <td>-37.813301</td>\n",
       "      <td>144.955358</td>\n",
       "      <td>Completed</td>\n",
       "    </tr>\n",
       "    <tr>\n",
       "      <th>591485</th>\n",
       "      <td>4a47faf0-29c9-11ed-aeba-d39c8d7719af</td>\n",
       "      <td>a59a2c3e0bfe1dc162b8c5d912f102b7</td>\n",
       "      <td>2022-09-01 17:40:02.976</td>\n",
       "      <td>90 Albert St, East Melbourne VIC 3002, Australia</td>\n",
       "      <td>557 Little Lonsdale St, Melbourne VIC 3000, Au...</td>\n",
       "      <td>21.21</td>\n",
       "      <td>NaN</td>\n",
       "      <td>NaN</td>\n",
       "      <td>NaN</td>\n",
       "      <td>NaN</td>\n",
       "      <td>NaN</td>\n",
       "      <td>NaN</td>\n",
       "      <td>NaN</td>\n",
       "    </tr>\n",
       "  </tbody>\n",
       "</table>\n",
       "</div>"
      ],
      "text/plain": [
       "                                partitionKey  \\\n",
       "302517  1f702ef0-2fe7-11ed-aeba-d39c8d7719af   \n",
       "302337  1f702ef0-2fe7-11ed-9a00-d5b713a64e81   \n",
       "357284  4a73a540-4dac-11ed-9661-47dabcf94230   \n",
       "357193  4a735720-4dac-11ed-8cc4-f1bd638415f1   \n",
       "218292  7c906290-421f-11ed-9661-47dabcf94230   \n",
       "218491  7c90d7c0-421f-11ed-8cc4-f1bd638415f1   \n",
       "318066  6054f7f0-5596-11ed-bafc-eb69a13397eb   \n",
       "317751  6054f7f3-5596-11ed-bafc-eb69a13397eb   \n",
       "397344  7315b5d0-3af3-4d74-bc8e-aba9d365a692   \n",
       "397462  ff5a0236-c955-40fd-9149-472d2d13a0f4   \n",
       "858629  af264cc0-4bb5-11ed-9661-47dabcf94230   \n",
       "466297  af25d790-4bb5-11ed-8cc4-f1bd638415f1   \n",
       "175484  c8c2b750-4f9c-11ed-9661-47dabcf94230   \n",
       "175468  c8c24220-4f9c-11ed-9661-47dabcf94230   \n",
       "504176  284f7080-42fc-11ed-8cc4-f1bd638415f1   \n",
       "504459  284fe5b0-42fc-11ed-9661-47dabcf94230   \n",
       "445962  3c6e31c0-46ab-11ed-8cc4-f1bd638415f1   \n",
       "446079  3c6e31c0-46ab-11ed-9661-47dabcf94230   \n",
       "226216  bdce49d0-489a-11ed-9661-47dabcf94230   \n",
       "226258  bdcdfbb0-489a-11ed-9661-47dabcf94230   \n",
       "803004  22f67cb0-3bb2-11ed-9a00-d5b713a64e81   \n",
       "426805  22f6cad0-3bb2-11ed-9a00-d5b713a64e81   \n",
       "854638  4a487020-29c9-11ed-aeba-d39c8d7719af   \n",
       "591485  4a47faf0-29c9-11ed-aeba-d39c8d7719af   \n",
       "\n",
       "                          user_pseudo_id                createdAt  \\\n",
       "302517  0295699BB96C4A10B921DC0671C726BE  2022-09-09 12:28:42.973   \n",
       "302337  0295699BB96C4A10B921DC0671C726BE  2022-09-09 12:28:42.973   \n",
       "357284  0E9EDF31EB204423BB9FA63D783FC868  2022-10-17 10:43:09.716   \n",
       "357193  0E9EDF31EB204423BB9FA63D783FC868  2022-10-17 10:43:09.716   \n",
       "218292  2E80FAA2D2854929AE1C2BDB9F108F63  2022-10-02 17:57:31.963   \n",
       "218491  2E80FAA2D2854929AE1C2BDB9F108F63  2022-10-02 17:57:31.963   \n",
       "318066  5209AF53D3F64097B466EDDB77EB0BEE  2022-10-27 12:26:26.800   \n",
       "317751  5209AF53D3F64097B466EDDB77EB0BEE  2022-10-27 12:26:26.800   \n",
       "397344  7B195F2F25E442D58C755696287370B4  2022-10-26 20:28:54.446   \n",
       "397462  7B195F2F25E442D58C755696287370B4  2022-10-26 20:28:54.446   \n",
       "858629  8265D849647C40D1A3851EF48255D782  2022-10-14 22:45:21.803   \n",
       "466297  8265D849647C40D1A3851EF48255D782  2022-10-14 22:45:21.803   \n",
       "175484  8B6115A500FA4CED99E914F5195B7B8A  2022-10-19 21:57:12.003   \n",
       "175468  8B6115A500FA4CED99E914F5195B7B8A  2022-10-19 21:57:12.003   \n",
       "504176  8D1A91AC7FB442F394CE3EC9D72F0E4E  2022-10-03 20:17:09.386   \n",
       "504459  8D1A91AC7FB442F394CE3EC9D72F0E4E  2022-10-03 20:17:09.386   \n",
       "445962  A43EE6920D454111B243EE3730F11B47  2022-10-08 12:47:58.556   \n",
       "446079  A43EE6920D454111B243EE3730F11B47  2022-10-08 12:47:58.556   \n",
       "226216  B54E93A196A84F9DACC0D73FD6CF31C9  2022-10-10 23:54:56.493   \n",
       "226258  B54E93A196A84F9DACC0D73FD6CF31C9  2022-10-10 23:54:56.493   \n",
       "803004  B894C2B1C86A4A83B2EB5A17DFC95DB0  2022-09-24 12:39:39.516   \n",
       "426805  B894C2B1C86A4A83B2EB5A17DFC95DB0  2022-09-24 12:39:39.516   \n",
       "854638  a59a2c3e0bfe1dc162b8c5d912f102b7  2022-09-01 17:40:02.976   \n",
       "591485  a59a2c3e0bfe1dc162b8c5d912f102b7  2022-09-01 17:40:02.976   \n",
       "\n",
       "                                             startAddress  \\\n",
       "302517  Domestic Airport Station, Mascot NSW 2020, Aus...   \n",
       "302337  Domestic Airport Station, Mascot NSW 2020, Aus...   \n",
       "357284           4 Mesa Link, Baldivis WA 6171, Australia   \n",
       "357193           4 Mesa Link, Baldivis WA 6171, Australia   \n",
       "218292  32 Timbertop Mead, Burleigh Heads QLD 4220, Au...   \n",
       "218491  32 Timbertop Mead, Burleigh Heads QLD 4220, Au...   \n",
       "318066  Cnr Sayers Rd &, Forsyth Rd, Williams Landing ...   \n",
       "317751  Cnr Sayers Rd &, Forsyth Rd, Williams Landing ...   \n",
       "397344        2 Weeroona Ave, Bendigo VIC 3550, Australia   \n",
       "397462        2 Weeroona Ave, Bendigo VIC 3550, Australia   \n",
       "858629      57 Stradbroke Ave, Wynnum QLD 4178, Australia   \n",
       "466297      57 Stradbroke Ave, Wynnum QLD 4178, Australia   \n",
       "175484         3 Sueinnes St, Eagleby QLD 4207, Australia   \n",
       "175468         3 Sueinnes St, Eagleby QLD 4207, Australia   \n",
       "504176          82 B68, Battery Point TAS 7004, Australia   \n",
       "504459          82 B68, Battery Point TAS 7004, Australia   \n",
       "445962    20 Junction Rd, Morningside QLD 4170, Australia   \n",
       "446079    20 Junction Rd, Morningside QLD 4170, Australia   \n",
       "226216  20 Colchester Rd, Capel Sound VIC 3940, Australia   \n",
       "226258  20 Colchester Rd, Capel Sound VIC 3940, Australia   \n",
       "803004          32 Elder St, Clarinda VIC 3169, Australia   \n",
       "426805          32 Elder St, Clarinda VIC 3169, Australia   \n",
       "854638   90 Albert St, East Melbourne VIC 3002, Australia   \n",
       "591485   90 Albert St, East Melbourne VIC 3002, Australia   \n",
       "\n",
       "                                               endAddress  tripEstimate  \\\n",
       "302517  38 Chesterfield Parade, Bronte NSW 2024, Austr...         41.58   \n",
       "302337  38 Chesterfield Parade, Bronte NSW 2024, Austr...         41.58   \n",
       "357284   21 Enterprise Way, Rockingham WA 6168, Australia         37.49   \n",
       "357193   21 Enterprise Way, Rockingham WA 6168, Australia         37.49   \n",
       "218292        12 Walton St, Southport QLD 4215, Australia         58.80   \n",
       "218491        12 Walton St, Southport QLD 4215, Australia         58.80   \n",
       "318066         21 Export Dr, Brooklyn VIC 3012, Australia         42.11   \n",
       "317751         21 Export Dr, Brooklyn VIC 3012, Australia         42.11   \n",
       "397344   7 Rathbones Ln, Maiden Gully VIC 3551, Australia         32.03   \n",
       "397462   7 Rathbones Ln, Maiden Gully VIC 3551, Australia         32.03   \n",
       "858629         21 Meilandt St, Wynnum QLD 4178, Australia         12.08   \n",
       "466297         21 Meilandt St, Wynnum QLD 4178, Australia         12.08   \n",
       "175484  Shop 6/195 Vienna Rd, Alexandra Hills QLD 4161...         78.96   \n",
       "175468  Shop 6/195 Vienna Rd, Alexandra Hills QLD 4161...         78.96   \n",
       "504176  2 Gordons Hill Rd, Rosny Park TAS 7018, Australia         21.84   \n",
       "504459  2 Gordons Hill Rd, Rosny Park TAS 7018, Australia         21.84   \n",
       "445962      45 Peachdale St, Tingalpa QLD 4173, Australia         27.20   \n",
       "446079      45 Peachdale St, Tingalpa QLD 4173, Australia         27.20   \n",
       "226216    466 Esplanade, Mount Martha VIC 3934, Australia         57.65   \n",
       "226258    466 Esplanade, Mount Martha VIC 3934, Australia         57.65   \n",
       "803004         54 Wright St, McKinnon VIC 3204, Australia         27.51   \n",
       "426805         54 Wright St, McKinnon VIC 3204, Australia         27.51   \n",
       "854638  557 Little Lonsdale St, Melbourne VIC 3000, Au...         21.32   \n",
       "591485  557 Little Lonsdale St, Melbourne VIC 3000, Au...         21.21   \n",
       "\n",
       "         BookingID       BookingCreatedTime  PickUp_Latitude  \\\n",
       "302517         NaN                      NaN              NaN   \n",
       "302337         NaN                      NaN              NaN   \n",
       "357284         NaN                      NaN              NaN   \n",
       "357193         NaN                      NaN              NaN   \n",
       "218292         NaN                      NaN              NaN   \n",
       "218491         NaN                      NaN              NaN   \n",
       "318066         NaN                      NaN              NaN   \n",
       "317751         NaN                      NaN              NaN   \n",
       "397344         NaN                      NaN              NaN   \n",
       "397462         NaN                      NaN              NaN   \n",
       "858629  32339190.0  2022-10-14 22:45:42.750       -27.446814   \n",
       "466297         NaN                      NaN              NaN   \n",
       "175484         NaN                      NaN              NaN   \n",
       "175468         NaN                      NaN              NaN   \n",
       "504176         NaN                      NaN              NaN   \n",
       "504459         NaN                      NaN              NaN   \n",
       "445962         NaN                      NaN              NaN   \n",
       "446079         NaN                      NaN              NaN   \n",
       "226216         NaN                      NaN              NaN   \n",
       "226258         NaN                      NaN              NaN   \n",
       "803004  31863211.0  2022-09-24 12:39:47.290       -37.929680   \n",
       "426805         NaN                      NaN              NaN   \n",
       "854638  31345098.0  2022-09-01 17:40:19.096       -37.810493   \n",
       "591485         NaN                      NaN              NaN   \n",
       "\n",
       "        PickUp_Longitude  DropOff_Latitude  DropOff_Longitude DispatchStatus  \n",
       "302517               NaN               NaN                NaN            NaN  \n",
       "302337               NaN               NaN                NaN            NaN  \n",
       "357284               NaN               NaN                NaN            NaN  \n",
       "357193               NaN               NaN                NaN            NaN  \n",
       "218292               NaN               NaN                NaN            NaN  \n",
       "218491               NaN               NaN                NaN            NaN  \n",
       "318066               NaN               NaN                NaN            NaN  \n",
       "317751               NaN               NaN                NaN            NaN  \n",
       "397344               NaN               NaN                NaN            NaN  \n",
       "397462               NaN               NaN                NaN            NaN  \n",
       "858629        153.166768        -27.434098         153.156709      Completed  \n",
       "466297               NaN               NaN                NaN            NaN  \n",
       "175484               NaN               NaN                NaN            NaN  \n",
       "175468               NaN               NaN                NaN            NaN  \n",
       "504176               NaN               NaN                NaN            NaN  \n",
       "504459               NaN               NaN                NaN            NaN  \n",
       "445962               NaN               NaN                NaN            NaN  \n",
       "446079               NaN               NaN                NaN            NaN  \n",
       "226216               NaN               NaN                NaN            NaN  \n",
       "226258               NaN               NaN                NaN            NaN  \n",
       "803004        145.104307        -37.912491         145.030843      Completed  \n",
       "426805               NaN               NaN                NaN            NaN  \n",
       "854638        144.988051        -37.813301         144.955358      Completed  \n",
       "591485               NaN               NaN                NaN            NaN  "
      ]
     },
     "execution_count": 24,
     "metadata": {},
     "output_type": "execute_result"
    }
   ],
   "source": [
    "temp"
   ]
  },
  {
   "cell_type": "code",
   "execution_count": 18,
   "id": "308ca029-a1ad-4be5-be23-5235bb025add",
   "metadata": {
    "tags": []
   },
   "outputs": [
    {
     "data": {
      "text/plain": [
       "[302337,\n",
       " 357193,\n",
       " 218491,\n",
       " 317751,\n",
       " 397462,\n",
       " 466297,\n",
       " 175468,\n",
       " 504459,\n",
       " 446079,\n",
       " 226258,\n",
       " 426805,\n",
       " 591485]"
      ]
     },
     "execution_count": 18,
     "metadata": {},
     "output_type": "execute_result"
    }
   ],
   "source": [
    "keep = temp.drop_duplicates(subset=[\"createdAt\"], inplace=False, keep=\"first\").index  # 首先选出在数据集里要留下的index\n",
    "#这个index就是真的index 行号\n",
    "drop = [idx for idx in temp.index]  # 用for循环把重复集中要剔除的index选出来\n",
    "for idx in drop:\n",
    "    if idx in keep:\n",
    "        drop.remove(idx)\n",
    "drop"
   ]
  },
  {
   "cell_type": "code",
   "execution_count": 19,
   "id": "a77a7638-b81c-42ec-b2a1-1a7ed54a9f9f",
   "metadata": {
    "tags": []
   },
   "outputs": [],
   "source": [
    "raw.drop(drop, axis=0,inplace=True)"
   ]
  },
  {
   "cell_type": "code",
   "execution_count": 20,
   "id": "b21c5646-4db5-4507-8c79-d73230745f5d",
   "metadata": {
    "tags": []
   },
   "outputs": [
    {
     "name": "stdout",
     "output_type": "stream",
     "text": [
      "<class 'pandas.core.frame.DataFrame'>\n",
      "Int64Index: 1152083 entries, 0 to 1153632\n",
      "Data columns (total 13 columns):\n",
      " #   Column              Non-Null Count    Dtype  \n",
      "---  ------              --------------    -----  \n",
      " 0   partitionKey        1152083 non-null  object \n",
      " 1   user_pseudo_id      1152083 non-null  object \n",
      " 2   createdAt           1152083 non-null  object \n",
      " 3   startAddress        1151865 non-null  object \n",
      " 4   endAddress          1151985 non-null  object \n",
      " 5   tripEstimate        1152083 non-null  float64\n",
      " 6   BookingID           519835 non-null   float64\n",
      " 7   BookingCreatedTime  519835 non-null   object \n",
      " 8   PickUp_Latitude     519835 non-null   float64\n",
      " 9   PickUp_Longitude    519835 non-null   float64\n",
      " 10  DropOff_Latitude    519833 non-null   float64\n",
      " 11  DropOff_Longitude   519833 non-null   float64\n",
      " 12  DispatchStatus      519835 non-null   object \n",
      "dtypes: float64(6), object(7)\n",
      "memory usage: 123.1+ MB\n"
     ]
    }
   ],
   "source": [
    "raw.info()#数据确实很小了"
   ]
  },
  {
   "cell_type": "markdown",
   "id": "88346881-5c23-479f-9121-61e3ef064f2c",
   "metadata": {},
   "source": [
    "#### user_pseudo_id & BookingCreatedTime\n",
    "BookingCreatedTime没有不合逻辑的重复值，说明booking子集的数据质量较好。"
   ]
  },
  {
   "cell_type": "code",
   "execution_count": 21,
   "id": "08e0e3d6-8eb5-4da4-b669-04be398beca3",
   "metadata": {
    "tags": []
   },
   "outputs": [
    {
     "data": {
      "text/plain": [
       "0"
      ]
     },
     "execution_count": 21,
     "metadata": {},
     "output_type": "execute_result"
    }
   ],
   "source": [
    "bks = raw[raw[\"BookingID\"].notnull()]  # 选出booking子集\n",
    "len(bks[bks.duplicated(subset=[\"user_pseudo_id\", \"BookingCreatedTime\"], keep=False)].sort_values(by=[\"user_pseudo_id\"]))"
   ]
  },
  {
   "cell_type": "markdown",
   "id": "d67ec8a1-8454-4270-9e5c-61d0e05e9d25",
   "metadata": {},
   "source": [
    "## 2.2 缺失值处理"
   ]
  },
  {
   "cell_type": "markdown",
   "id": "effe2cdd-c3fd-4168-8d3f-543f2c5b3377",
   "metadata": {},
   "source": [
    "首先将数据集分为两个子集：查询集（lk_subset）和预订集（bk_subset）。显然，按照流程逻辑，查询集中BookingID及其后序字段均为NAN，而预订集中所有字段应都有对应的值。"
   ]
  },
  {
   "cell_type": "code",
   "execution_count": 25,
   "id": "d727685a-5f04-42b8-8340-014311060265",
   "metadata": {
    "tags": []
   },
   "outputs": [
    {
     "name": "stdout",
     "output_type": "stream",
     "text": [
      "<class 'pandas.core.frame.DataFrame'>\n",
      "Int64Index: 1152083 entries, 0 to 1153632\n",
      "Data columns (total 13 columns):\n",
      " #   Column              Non-Null Count    Dtype  \n",
      "---  ------              --------------    -----  \n",
      " 0   partitionKey        1152083 non-null  object \n",
      " 1   user_pseudo_id      1152083 non-null  object \n",
      " 2   createdAt           1152083 non-null  object \n",
      " 3   startAddress        1151865 non-null  object \n",
      " 4   endAddress          1151985 non-null  object \n",
      " 5   tripEstimate        1152083 non-null  float64\n",
      " 6   BookingID           519835 non-null   float64\n",
      " 7   BookingCreatedTime  519835 non-null   object \n",
      " 8   PickUp_Latitude     519835 non-null   float64\n",
      " 9   PickUp_Longitude    519835 non-null   float64\n",
      " 10  DropOff_Latitude    519833 non-null   float64\n",
      " 11  DropOff_Longitude   519833 non-null   float64\n",
      " 12  DispatchStatus      519835 non-null   object \n",
      "dtypes: float64(6), object(7)\n",
      "memory usage: 123.1+ MB\n"
     ]
    }
   ],
   "source": [
    "raw.info()"
   ]
  },
  {
   "cell_type": "code",
   "execution_count": 22,
   "id": "9d4d5034-2e36-4147-9328-e982fc0764ac",
   "metadata": {
    "tags": []
   },
   "outputs": [
    {
     "data": {
      "text/plain": [
       "True"
      ]
     },
     "execution_count": 22,
     "metadata": {},
     "output_type": "execute_result"
    }
   ],
   "source": [
    "bk_subset = raw[raw[\"BookingID\"].notnull()]\n",
    "lk_subset = raw[raw[\"BookingID\"].isnull()]\n",
    "len(bk_subset) + len(lk_subset) == len(raw)#说明没有交错的空值"
   ]
  },
  {
   "cell_type": "markdown",
   "id": "ce6026ad-aaef-4622-baec-68c041b4c70a",
   "metadata": {
    "tags": [],
    "toc-hr-collapsed": true
   },
   "source": [
    "### 2.2.1 查询集（LookUp Subset）"
   ]
  },
  {
   "cell_type": "code",
   "execution_count": 23,
   "id": "6a88d265-af99-44cd-930b-01e40c9d1f75",
   "metadata": {
    "tags": []
   },
   "outputs": [
    {
     "data": {
      "text/plain": [
       "partitionKey               0\n",
       "user_pseudo_id             0\n",
       "createdAt                  0\n",
       "startAddress             114\n",
       "endAddress                48\n",
       "tripEstimate               0\n",
       "BookingID             632248\n",
       "BookingCreatedTime    632248\n",
       "PickUp_Latitude       632248\n",
       "PickUp_Longitude      632248\n",
       "DropOff_Latitude      632248\n",
       "DropOff_Longitude     632248\n",
       "DispatchStatus        632248\n",
       "dtype: int64"
      ]
     },
     "execution_count": 23,
     "metadata": {},
     "output_type": "execute_result"
    }
   ],
   "source": [
    "lk_subset.isnull().sum()"
   ]
  },
  {
   "cell_type": "code",
   "execution_count": 24,
   "id": "db3d1ff0-7b2e-4786-9c74-7dbfa774e9b8",
   "metadata": {
    "tags": []
   },
   "outputs": [
    {
     "data": {
      "text/plain": [
       "True"
      ]
     },
     "execution_count": 24,
     "metadata": {},
     "output_type": "execute_result"
    }
   ],
   "source": [
    "# 两集元素数量相加和两集并集的元素数量相等，所以起始点缺失和终点缺失互不重合\n",
    "# 因为这里是长度，比如\n",
    "'''\n",
    "10  11\n",
    "01  10\n",
    "前者的：2=1+1\n",
    "后者：2=2+1\n",
    "完事\n",
    "'''\n",
    "len(lk_subset[lk_subset[\"startAddress\"].isnull() | lk_subset[\"endAddress\"].isnull()]) == len(lk_subset[lk_subset[\"startAddress\"].isnull()])+len(lk_subset[lk_subset[\"endAddress\"].isnull()])"
   ]
  },
  {
   "cell_type": "code",
   "execution_count": 25,
   "id": "8fd0a95d-782f-48c0-9100-3382b0f49aca",
   "metadata": {
    "tags": []
   },
   "outputs": [],
   "source": [
    "drop = lk_subset[lk_subset[\"startAddress\"].isnull() | lk_subset[\"endAddress\"].isnull()].index"
   ]
  },
  {
   "cell_type": "code",
   "execution_count": 26,
   "id": "c9b8f2eb-d1c6-4b84-b57f-cd9e41c8fda3",
   "metadata": {
    "tags": []
   },
   "outputs": [],
   "source": [
    "raw.drop(drop, axis=0, inplace=True)#确实 这种就没办法了 因为起点和终点，在没有booking的时候都不会生成的"
   ]
  },
  {
   "cell_type": "code",
   "execution_count": 27,
   "id": "67d9400a-f6bf-4a85-9cce-c9639ed7e69a",
   "metadata": {
    "tags": []
   },
   "outputs": [
    {
     "data": {
      "text/plain": [
       "partitionKey               0\n",
       "user_pseudo_id             0\n",
       "createdAt                  0\n",
       "startAddress               0\n",
       "endAddress                 0\n",
       "tripEstimate               0\n",
       "BookingID             632086\n",
       "BookingCreatedTime    632086\n",
       "PickUp_Latitude       632086\n",
       "PickUp_Longitude      632086\n",
       "DropOff_Latitude      632086\n",
       "DropOff_Longitude     632086\n",
       "DispatchStatus        632086\n",
       "dtype: int64"
      ]
     },
     "execution_count": 27,
     "metadata": {},
     "output_type": "execute_result"
    }
   ],
   "source": [
    "raw[raw[\"BookingID\"].isnull()].isnull().sum()#好吧！你小子直接在原表上操作了，然后再提出lk表看搞干净了没"
   ]
  },
  {
   "cell_type": "markdown",
   "id": "f37a2bcc-f0d4-42e4-b5ce-5ddd8f7f9e58",
   "metadata": {},
   "source": [
    "### 2.2.2 预订集（Booking Subset）"
   ]
  },
  {
   "cell_type": "code",
   "execution_count": 28,
   "id": "be34c1e7-e25c-44c1-ab40-78f88c3427ee",
   "metadata": {
    "tags": []
   },
   "outputs": [
    {
     "data": {
      "text/plain": [
       "partitionKey            0\n",
       "user_pseudo_id          0\n",
       "createdAt               0\n",
       "startAddress          104\n",
       "endAddress             50\n",
       "tripEstimate            0\n",
       "BookingID               0\n",
       "BookingCreatedTime      0\n",
       "PickUp_Latitude         0\n",
       "PickUp_Longitude        0\n",
       "DropOff_Latitude        2\n",
       "DropOff_Longitude       2\n",
       "DispatchStatus          0\n",
       "dtype: int64"
      ]
     },
     "execution_count": 28,
     "metadata": {},
     "output_type": "execute_result"
    }
   ],
   "source": [
    "bk_subset.isnull().sum()"
   ]
  },
  {
   "cell_type": "markdown",
   "id": "6e12f604-9c10-4d29-8c1b-a0c597855468",
   "metadata": {},
   "source": [
    "#### startAddress & endAddress\n",
    "同样地，先看startAddress和endAddress"
   ]
  },
  {
   "cell_type": "code",
   "execution_count": 29,
   "id": "49fd8644-4ed3-4cb9-ae0a-5476e72328f9",
   "metadata": {
    "tags": []
   },
   "outputs": [
    {
     "data": {
      "text/plain": [
       "True"
      ]
     },
     "execution_count": 29,
     "metadata": {},
     "output_type": "execute_result"
    }
   ],
   "source": [
    "# 两集元素数量相加和两集并集的元素数量相等，所以起始点缺失和终点缺失互不重合\n",
    "len(bk_subset[bk_subset[\"startAddress\"].isnull() | bk_subset[\"endAddress\"].isnull()]) == len(bk_subset[bk_subset[\"startAddress\"].isnull()])+len(bk_subset[bk_subset[\"endAddress\"].isnull()])"
   ]
  },
  {
   "cell_type": "markdown",
   "id": "c68849c8-9738-4e6f-8729-4867ed5160f7",
   "metadata": {},
   "source": [
    "#### 修掉那2个drop off的经纬度空值\n",
    "\n",
    "其实就是2条记录，转换一下就行"
   ]
  },
  {
   "cell_type": "code",
   "execution_count": 30,
   "id": "592f064b-811c-4315-bd03-b0fc8128ac3f",
   "metadata": {},
   "outputs": [
    {
     "data": {
      "text/html": [
       "<div>\n",
       "<style scoped>\n",
       "    .dataframe tbody tr th:only-of-type {\n",
       "        vertical-align: middle;\n",
       "    }\n",
       "\n",
       "    .dataframe tbody tr th {\n",
       "        vertical-align: top;\n",
       "    }\n",
       "\n",
       "    .dataframe thead th {\n",
       "        text-align: right;\n",
       "    }\n",
       "</style>\n",
       "<table border=\"1\" class=\"dataframe\">\n",
       "  <thead>\n",
       "    <tr style=\"text-align: right;\">\n",
       "      <th></th>\n",
       "      <th>partitionKey</th>\n",
       "      <th>user_pseudo_id</th>\n",
       "      <th>createdAt</th>\n",
       "      <th>startAddress</th>\n",
       "      <th>endAddress</th>\n",
       "      <th>tripEstimate</th>\n",
       "      <th>BookingID</th>\n",
       "      <th>BookingCreatedTime</th>\n",
       "      <th>PickUp_Latitude</th>\n",
       "      <th>PickUp_Longitude</th>\n",
       "      <th>DropOff_Latitude</th>\n",
       "      <th>DropOff_Longitude</th>\n",
       "      <th>DispatchStatus</th>\n",
       "    </tr>\n",
       "  </thead>\n",
       "  <tbody>\n",
       "    <tr>\n",
       "      <th>866815</th>\n",
       "      <td>b5d2440e-01c6-49c9-a3d3-4c4b96ff219c</td>\n",
       "      <td>5294f665d8dc60866199af8d6668b748</td>\n",
       "      <td>2022-10-27 09:15:40.266</td>\n",
       "      <td>105 Cape St, Heidelberg VIC 3084, Australia</td>\n",
       "      <td>27 Perth St, Heidelberg West VIC 3081, Australia</td>\n",
       "      <td>19.53</td>\n",
       "      <td>32644086.0</td>\n",
       "      <td>2022-10-27 09:15:46.640</td>\n",
       "      <td>-37.755553</td>\n",
       "      <td>145.066975</td>\n",
       "      <td>NaN</td>\n",
       "      <td>NaN</td>\n",
       "      <td>Completed</td>\n",
       "    </tr>\n",
       "    <tr>\n",
       "      <th>943894</th>\n",
       "      <td>8389bde0-3b9d-11ed-9a00-d5b713a64e81</td>\n",
       "      <td>135E9F3B2E7146BC8BEC8DA1BD450F08</td>\n",
       "      <td>2022-09-24 10:12:02.110</td>\n",
       "      <td>723 State Route 15, Malvern East VIC 3145, Aus...</td>\n",
       "      <td>8 Warner Ave, Ashburton VIC 3147, Australia</td>\n",
       "      <td>14.91</td>\n",
       "      <td>31859589.0</td>\n",
       "      <td>2022-09-24 10:12:13.406</td>\n",
       "      <td>-37.881228</td>\n",
       "      <td>145.090564</td>\n",
       "      <td>NaN</td>\n",
       "      <td>NaN</td>\n",
       "      <td>Completed</td>\n",
       "    </tr>\n",
       "  </tbody>\n",
       "</table>\n",
       "</div>"
      ],
      "text/plain": [
       "                                partitionKey  \\\n",
       "866815  b5d2440e-01c6-49c9-a3d3-4c4b96ff219c   \n",
       "943894  8389bde0-3b9d-11ed-9a00-d5b713a64e81   \n",
       "\n",
       "                          user_pseudo_id                createdAt  \\\n",
       "866815  5294f665d8dc60866199af8d6668b748  2022-10-27 09:15:40.266   \n",
       "943894  135E9F3B2E7146BC8BEC8DA1BD450F08  2022-09-24 10:12:02.110   \n",
       "\n",
       "                                             startAddress  \\\n",
       "866815        105 Cape St, Heidelberg VIC 3084, Australia   \n",
       "943894  723 State Route 15, Malvern East VIC 3145, Aus...   \n",
       "\n",
       "                                              endAddress  tripEstimate  \\\n",
       "866815  27 Perth St, Heidelberg West VIC 3081, Australia         19.53   \n",
       "943894       8 Warner Ave, Ashburton VIC 3147, Australia         14.91   \n",
       "\n",
       "         BookingID       BookingCreatedTime  PickUp_Latitude  \\\n",
       "866815  32644086.0  2022-10-27 09:15:46.640       -37.755553   \n",
       "943894  31859589.0  2022-09-24 10:12:13.406       -37.881228   \n",
       "\n",
       "        PickUp_Longitude  DropOff_Latitude  DropOff_Longitude DispatchStatus  \n",
       "866815        145.066975               NaN                NaN      Completed  \n",
       "943894        145.090564               NaN                NaN      Completed  "
      ]
     },
     "execution_count": 30,
     "metadata": {},
     "output_type": "execute_result"
    }
   ],
   "source": [
    "drop_missing=bk_subset[bk_subset['DropOff_Latitude'].isnull() | bk_subset['DropOff_Longitude'].isnull()]\n",
    "drop_missing"
   ]
  },
  {
   "cell_type": "code",
   "execution_count": 31,
   "id": "86daf62f-86ea-460c-85e2-dbfa2733325c",
   "metadata": {},
   "outputs": [],
   "source": [
    "drop_missing_index=drop_missing.index"
   ]
  },
  {
   "cell_type": "code",
   "execution_count": 32,
   "id": "555af4c0-17ab-4963-89c2-e24053e273fa",
   "metadata": {},
   "outputs": [],
   "source": [
    "for i in range(len(drop_missing)):\n",
    "    g=geocoder.arcgis(drop_missing.loc[drop_missing_index[i],'endAddress'])\n",
    "    raw.loc[drop_missing_index[i],['DropOff_Latitude','DropOff_Longitude']]=g.latlng"
   ]
  },
  {
   "cell_type": "code",
   "execution_count": 33,
   "id": "719f6b71-cb30-4638-b675-b9eb621a08d1",
   "metadata": {},
   "outputs": [
    {
     "data": {
      "text/plain": [
       "partitionKey            0\n",
       "user_pseudo_id          0\n",
       "createdAt               0\n",
       "startAddress          104\n",
       "endAddress             50\n",
       "tripEstimate            0\n",
       "BookingID               0\n",
       "BookingCreatedTime      0\n",
       "PickUp_Latitude         0\n",
       "PickUp_Longitude        0\n",
       "DropOff_Latitude        0\n",
       "DropOff_Longitude       0\n",
       "DispatchStatus          0\n",
       "dtype: int64"
      ]
     },
     "execution_count": 33,
     "metadata": {},
     "output_type": "execute_result"
    }
   ],
   "source": [
    "raw[raw[\"BookingID\"].notnull()].isnull().sum()"
   ]
  },
  {
   "cell_type": "markdown",
   "id": "6ac24e27-4014-472a-879b-a4682ec07d4c",
   "metadata": {},
   "source": [
    "下面开始修address的空值"
   ]
  },
  {
   "cell_type": "code",
   "execution_count": 34,
   "id": "b5cbac7d-586a-4a02-9b02-b396620513bc",
   "metadata": {
    "scrolled": true,
    "tags": []
   },
   "outputs": [],
   "source": [
    "bk_subset = raw[raw[\"BookingID\"].notnull()]\n",
    "address_null_index=bk_subset[bk_subset[\"startAddress\"].isnull() | bk_subset[\"endAddress\"].isnull()].index\n",
    "address_null_subset=bk_subset[bk_subset[\"startAddress\"].isnull() | bk_subset[\"endAddress\"].isnull()]"
   ]
  },
  {
   "cell_type": "code",
   "execution_count": 35,
   "id": "6a5ab2d5-7dfa-4867-8373-76747f75922c",
   "metadata": {
    "scrolled": true,
    "tags": []
   },
   "outputs": [
    {
     "data": {
      "text/html": [
       "<div>\n",
       "<style scoped>\n",
       "    .dataframe tbody tr th:only-of-type {\n",
       "        vertical-align: middle;\n",
       "    }\n",
       "\n",
       "    .dataframe tbody tr th {\n",
       "        vertical-align: top;\n",
       "    }\n",
       "\n",
       "    .dataframe thead th {\n",
       "        text-align: right;\n",
       "    }\n",
       "</style>\n",
       "<table border=\"1\" class=\"dataframe\">\n",
       "  <thead>\n",
       "    <tr style=\"text-align: right;\">\n",
       "      <th></th>\n",
       "      <th>partitionKey</th>\n",
       "      <th>user_pseudo_id</th>\n",
       "      <th>createdAt</th>\n",
       "      <th>startAddress</th>\n",
       "      <th>endAddress</th>\n",
       "      <th>tripEstimate</th>\n",
       "      <th>BookingID</th>\n",
       "      <th>BookingCreatedTime</th>\n",
       "      <th>PickUp_Latitude</th>\n",
       "      <th>PickUp_Longitude</th>\n",
       "      <th>DropOff_Latitude</th>\n",
       "      <th>DropOff_Longitude</th>\n",
       "      <th>DispatchStatus</th>\n",
       "    </tr>\n",
       "  </thead>\n",
       "  <tbody>\n",
       "    <tr>\n",
       "      <th>632260</th>\n",
       "      <td>d12e4f00-4b85-11ed-8cc4-f1bd638415f1</td>\n",
       "      <td>75A0809F02B74300A6E4A25EA34B3184</td>\n",
       "      <td>2022-10-14 17:02:43.056</td>\n",
       "      <td>1 Bligh Street, 1 Bligh St, Sydney NSW 2000, A...</td>\n",
       "      <td>nan</td>\n",
       "      <td>45.47</td>\n",
       "      <td>32330837.0</td>\n",
       "      <td>2022-10-14 17:02:51.293</td>\n",
       "      <td>-33.864858</td>\n",
       "      <td>151.210544</td>\n",
       "      <td>-33.931785</td>\n",
       "      <td>151.172876</td>\n",
       "      <td>Completed</td>\n",
       "    </tr>\n",
       "    <tr>\n",
       "      <th>647694</th>\n",
       "      <td>c8a60c50-2dd6-11ed-aeba-d39c8d7719af</td>\n",
       "      <td>28DB8ADDD31248CFA49E3DE8B974112F</td>\n",
       "      <td>2022-09-06 21:26:43.093</td>\n",
       "      <td>nan</td>\n",
       "      <td>front of, Terminal 3, Melbourne Airport VIC 30...</td>\n",
       "      <td>41.16</td>\n",
       "      <td>31461756.0</td>\n",
       "      <td>2022-09-06 21:26:49.650</td>\n",
       "      <td>-37.765488</td>\n",
       "      <td>144.860944</td>\n",
       "      <td>-37.673758</td>\n",
       "      <td>144.838017</td>\n",
       "      <td>Completed</td>\n",
       "    </tr>\n",
       "    <tr>\n",
       "      <th>648784</th>\n",
       "      <td>f3ace900-2dd6-11ed-9a00-d5b713a64e81</td>\n",
       "      <td>90DF7B6C80554BF0AA8C43BC08F7672D</td>\n",
       "      <td>2022-09-06 21:27:55.280</td>\n",
       "      <td>nan</td>\n",
       "      <td>front of, Terminal 3, Melbourne Airport VIC 30...</td>\n",
       "      <td>54.18</td>\n",
       "      <td>31461785.0</td>\n",
       "      <td>2022-09-06 21:28:56.430</td>\n",
       "      <td>-37.777088</td>\n",
       "      <td>144.763537</td>\n",
       "      <td>-37.673758</td>\n",
       "      <td>144.838017</td>\n",
       "      <td>Completed</td>\n",
       "    </tr>\n",
       "    <tr>\n",
       "      <th>653849</th>\n",
       "      <td>f092d7c0-2dd6-11ed-9a00-d5b713a64e81</td>\n",
       "      <td>674b5059fb4615c8cb49747775ba4f60</td>\n",
       "      <td>2022-09-06 21:27:50.076</td>\n",
       "      <td>unit 2/15 Collins St, Preston VIC 3072, Australia</td>\n",
       "      <td>nan</td>\n",
       "      <td>47.99</td>\n",
       "      <td>31461801.0</td>\n",
       "      <td>2022-09-06 21:29:58.930</td>\n",
       "      <td>-37.740758</td>\n",
       "      <td>144.992381</td>\n",
       "      <td>-37.673758</td>\n",
       "      <td>144.838017</td>\n",
       "      <td>Completed</td>\n",
       "    </tr>\n",
       "    <tr>\n",
       "      <th>653873</th>\n",
       "      <td>44a781d0-4b87-11ed-8cc4-f1bd638415f1</td>\n",
       "      <td>4307A3ECF9CC41DB825ED2FB74875965</td>\n",
       "      <td>2022-10-14 17:13:06.286</td>\n",
       "      <td>11 Ebrill St, Jamboree Heights QLD 4074, Austr...</td>\n",
       "      <td>nan</td>\n",
       "      <td>97.13</td>\n",
       "      <td>32331215.0</td>\n",
       "      <td>2022-10-14 17:14:43.353</td>\n",
       "      <td>-27.553789</td>\n",
       "      <td>152.938307</td>\n",
       "      <td>-27.385106</td>\n",
       "      <td>153.119326</td>\n",
       "      <td>Completed</td>\n",
       "    </tr>\n",
       "    <tr>\n",
       "      <th>...</th>\n",
       "      <td>...</td>\n",
       "      <td>...</td>\n",
       "      <td>...</td>\n",
       "      <td>...</td>\n",
       "      <td>...</td>\n",
       "      <td>...</td>\n",
       "      <td>...</td>\n",
       "      <td>...</td>\n",
       "      <td>...</td>\n",
       "      <td>...</td>\n",
       "      <td>...</td>\n",
       "      <td>...</td>\n",
       "      <td>...</td>\n",
       "    </tr>\n",
       "    <tr>\n",
       "      <th>1131133</th>\n",
       "      <td>a14f2460-4b87-11ed-8cc4-f1bd638415f1</td>\n",
       "      <td>85C5C1DE872344F6BD2285A4016F2E38</td>\n",
       "      <td>2022-10-14 17:15:41.733</td>\n",
       "      <td>Yeppoon Central Shopping Centre, 42 Park St, Y...</td>\n",
       "      <td>nan</td>\n",
       "      <td>13.65</td>\n",
       "      <td>32331251.0</td>\n",
       "      <td>2022-10-14 17:15:48.123</td>\n",
       "      <td>-23.132291</td>\n",
       "      <td>150.737332</td>\n",
       "      <td>-23.153907</td>\n",
       "      <td>150.742597</td>\n",
       "      <td>NotCompleted</td>\n",
       "    </tr>\n",
       "    <tr>\n",
       "      <th>1140881</th>\n",
       "      <td>47034e20-4b71-11ed-9661-47dabcf94230</td>\n",
       "      <td>1CB193D25B044E86BD3C5CD0554980CC</td>\n",
       "      <td>2022-10-14 14:35:41.313</td>\n",
       "      <td>nan</td>\n",
       "      <td>31 Boreas Rd, Broadmeadow NSW 2292, Australia</td>\n",
       "      <td>15.33</td>\n",
       "      <td>32326467.0</td>\n",
       "      <td>2022-10-14 14:35:47.600</td>\n",
       "      <td>-32.896240</td>\n",
       "      <td>151.723659</td>\n",
       "      <td>-32.914878</td>\n",
       "      <td>151.733945</td>\n",
       "      <td>NotCompleted</td>\n",
       "    </tr>\n",
       "    <tr>\n",
       "      <th>1144312</th>\n",
       "      <td>80af7210-4b72-11ed-9661-47dabcf94230</td>\n",
       "      <td>A2ECD4FE243B4BE9834372535CD4DE79</td>\n",
       "      <td>2022-10-14 14:44:27.570</td>\n",
       "      <td>nan</td>\n",
       "      <td>Commerce Cl, Cannonvale QLD 4802, Australia</td>\n",
       "      <td>15.12</td>\n",
       "      <td>32326693.0</td>\n",
       "      <td>2022-10-14 14:44:50.416</td>\n",
       "      <td>-20.266962</td>\n",
       "      <td>148.711290</td>\n",
       "      <td>-20.283809</td>\n",
       "      <td>148.684828</td>\n",
       "      <td>NotCompleted</td>\n",
       "    </tr>\n",
       "    <tr>\n",
       "      <th>1144498</th>\n",
       "      <td>da6af690-4b85-11ed-8cc4-f1bd638415f1</td>\n",
       "      <td>87188525CE94498488A732BB2717165C</td>\n",
       "      <td>2022-10-14 17:02:58.553</td>\n",
       "      <td>Kessels Road, Nathan, Mount Gravatt QLD 4111, ...</td>\n",
       "      <td>nan</td>\n",
       "      <td>15.12</td>\n",
       "      <td>32330849.0</td>\n",
       "      <td>2022-10-14 17:03:05.866</td>\n",
       "      <td>-27.537284</td>\n",
       "      <td>153.078299</td>\n",
       "      <td>-27.565641</td>\n",
       "      <td>153.086642</td>\n",
       "      <td>NotCompleted</td>\n",
       "    </tr>\n",
       "    <tr>\n",
       "      <th>1148206</th>\n",
       "      <td>1343da10-4b89-11ed-8cc4-f1bd638415f1</td>\n",
       "      <td>0482696f2a4e8bfa58fb5f35f15ea9e1</td>\n",
       "      <td>2022-10-14 17:26:02.416</td>\n",
       "      <td>nan</td>\n",
       "      <td>Terminal 4 Car Park, Melbourne Airport VIC 304...</td>\n",
       "      <td>57.96</td>\n",
       "      <td>32331641.0</td>\n",
       "      <td>2022-10-14 17:27:52.523</td>\n",
       "      <td>-37.790776</td>\n",
       "      <td>144.942335</td>\n",
       "      <td>-37.673758</td>\n",
       "      <td>144.838017</td>\n",
       "      <td>NotCompleted</td>\n",
       "    </tr>\n",
       "  </tbody>\n",
       "</table>\n",
       "<p>154 rows × 13 columns</p>\n",
       "</div>"
      ],
      "text/plain": [
       "                                 partitionKey  \\\n",
       "632260   d12e4f00-4b85-11ed-8cc4-f1bd638415f1   \n",
       "647694   c8a60c50-2dd6-11ed-aeba-d39c8d7719af   \n",
       "648784   f3ace900-2dd6-11ed-9a00-d5b713a64e81   \n",
       "653849   f092d7c0-2dd6-11ed-9a00-d5b713a64e81   \n",
       "653873   44a781d0-4b87-11ed-8cc4-f1bd638415f1   \n",
       "...                                       ...   \n",
       "1131133  a14f2460-4b87-11ed-8cc4-f1bd638415f1   \n",
       "1140881  47034e20-4b71-11ed-9661-47dabcf94230   \n",
       "1144312  80af7210-4b72-11ed-9661-47dabcf94230   \n",
       "1144498  da6af690-4b85-11ed-8cc4-f1bd638415f1   \n",
       "1148206  1343da10-4b89-11ed-8cc4-f1bd638415f1   \n",
       "\n",
       "                           user_pseudo_id                createdAt  \\\n",
       "632260   75A0809F02B74300A6E4A25EA34B3184  2022-10-14 17:02:43.056   \n",
       "647694   28DB8ADDD31248CFA49E3DE8B974112F  2022-09-06 21:26:43.093   \n",
       "648784   90DF7B6C80554BF0AA8C43BC08F7672D  2022-09-06 21:27:55.280   \n",
       "653849   674b5059fb4615c8cb49747775ba4f60  2022-09-06 21:27:50.076   \n",
       "653873   4307A3ECF9CC41DB825ED2FB74875965  2022-10-14 17:13:06.286   \n",
       "...                                   ...                      ...   \n",
       "1131133  85C5C1DE872344F6BD2285A4016F2E38  2022-10-14 17:15:41.733   \n",
       "1140881  1CB193D25B044E86BD3C5CD0554980CC  2022-10-14 14:35:41.313   \n",
       "1144312  A2ECD4FE243B4BE9834372535CD4DE79  2022-10-14 14:44:27.570   \n",
       "1144498  87188525CE94498488A732BB2717165C  2022-10-14 17:02:58.553   \n",
       "1148206  0482696f2a4e8bfa58fb5f35f15ea9e1  2022-10-14 17:26:02.416   \n",
       "\n",
       "                                              startAddress  \\\n",
       "632260   1 Bligh Street, 1 Bligh St, Sydney NSW 2000, A...   \n",
       "647694                                                 nan   \n",
       "648784                                                 nan   \n",
       "653849   unit 2/15 Collins St, Preston VIC 3072, Australia   \n",
       "653873   11 Ebrill St, Jamboree Heights QLD 4074, Austr...   \n",
       "...                                                    ...   \n",
       "1131133  Yeppoon Central Shopping Centre, 42 Park St, Y...   \n",
       "1140881                                                nan   \n",
       "1144312                                                nan   \n",
       "1144498  Kessels Road, Nathan, Mount Gravatt QLD 4111, ...   \n",
       "1148206                                                nan   \n",
       "\n",
       "                                                endAddress  tripEstimate  \\\n",
       "632260                                                 nan         45.47   \n",
       "647694   front of, Terminal 3, Melbourne Airport VIC 30...         41.16   \n",
       "648784   front of, Terminal 3, Melbourne Airport VIC 30...         54.18   \n",
       "653849                                                 nan         47.99   \n",
       "653873                                                 nan         97.13   \n",
       "...                                                    ...           ...   \n",
       "1131133                                                nan         13.65   \n",
       "1140881      31 Boreas Rd, Broadmeadow NSW 2292, Australia         15.33   \n",
       "1144312        Commerce Cl, Cannonvale QLD 4802, Australia         15.12   \n",
       "1144498                                                nan         15.12   \n",
       "1148206  Terminal 4 Car Park, Melbourne Airport VIC 304...         57.96   \n",
       "\n",
       "          BookingID       BookingCreatedTime  PickUp_Latitude  \\\n",
       "632260   32330837.0  2022-10-14 17:02:51.293       -33.864858   \n",
       "647694   31461756.0  2022-09-06 21:26:49.650       -37.765488   \n",
       "648784   31461785.0  2022-09-06 21:28:56.430       -37.777088   \n",
       "653849   31461801.0  2022-09-06 21:29:58.930       -37.740758   \n",
       "653873   32331215.0  2022-10-14 17:14:43.353       -27.553789   \n",
       "...             ...                      ...              ...   \n",
       "1131133  32331251.0  2022-10-14 17:15:48.123       -23.132291   \n",
       "1140881  32326467.0  2022-10-14 14:35:47.600       -32.896240   \n",
       "1144312  32326693.0  2022-10-14 14:44:50.416       -20.266962   \n",
       "1144498  32330849.0  2022-10-14 17:03:05.866       -27.537284   \n",
       "1148206  32331641.0  2022-10-14 17:27:52.523       -37.790776   \n",
       "\n",
       "         PickUp_Longitude  DropOff_Latitude  DropOff_Longitude DispatchStatus  \n",
       "632260         151.210544        -33.931785         151.172876      Completed  \n",
       "647694         144.860944        -37.673758         144.838017      Completed  \n",
       "648784         144.763537        -37.673758         144.838017      Completed  \n",
       "653849         144.992381        -37.673758         144.838017      Completed  \n",
       "653873         152.938307        -27.385106         153.119326      Completed  \n",
       "...                   ...               ...                ...            ...  \n",
       "1131133        150.737332        -23.153907         150.742597   NotCompleted  \n",
       "1140881        151.723659        -32.914878         151.733945   NotCompleted  \n",
       "1144312        148.711290        -20.283809         148.684828   NotCompleted  \n",
       "1144498        153.078299        -27.565641         153.086642   NotCompleted  \n",
       "1148206        144.942335        -37.673758         144.838017   NotCompleted  \n",
       "\n",
       "[154 rows x 13 columns]"
      ]
     },
     "execution_count": 35,
     "metadata": {},
     "output_type": "execute_result"
    }
   ],
   "source": [
    "address_null_subset[['startAddress','endAddress']]=address_null_subset[['startAddress','endAddress']].astype(str)\n",
    "address_null_subset"
   ]
  },
  {
   "cell_type": "code",
   "execution_count": 36,
   "id": "dab30c07-9a41-4897-8c05-51acd6243beb",
   "metadata": {},
   "outputs": [
    {
     "name": "stdout",
     "output_type": "stream",
     "text": [
      "Wall time: 1min 54s\n"
     ]
    }
   ],
   "source": [
    "%%time\n",
    "for i in range(len(address_null_subset)):\n",
    "    if (address_null_subset.loc[address_null_index[i],'startAddress'])=='nan':\n",
    "        g=geocoder.osm(address_null_subset.loc[address_null_index[i],['PickUp_Latitude','PickUp_Longitude']].to_list(),method='reverse')\n",
    "        raw.loc[address_null_index[i],'startAddress']=g.address\n",
    "    else:\n",
    "        g=geocoder.osm(address_null_subset.loc[address_null_index[i],['DropOff_Latitude','DropOff_Longitude']].to_list(),method='reverse')\n",
    "        raw.loc[address_null_index[i],'endAddress']=g.address"
   ]
  },
  {
   "cell_type": "code",
   "execution_count": 37,
   "id": "59703c24-1b56-4149-82a6-2932982d4902",
   "metadata": {},
   "outputs": [
    {
     "data": {
      "text/plain": [
       "partitionKey          0\n",
       "user_pseudo_id        0\n",
       "createdAt             0\n",
       "startAddress          0\n",
       "endAddress            0\n",
       "tripEstimate          0\n",
       "BookingID             0\n",
       "BookingCreatedTime    0\n",
       "PickUp_Latitude       0\n",
       "PickUp_Longitude      0\n",
       "DropOff_Latitude      0\n",
       "DropOff_Longitude     0\n",
       "DispatchStatus        0\n",
       "dtype: int64"
      ]
     },
     "execution_count": 37,
     "metadata": {},
     "output_type": "execute_result"
    }
   ],
   "source": [
    "raw[raw[\"BookingID\"].notnull()].isnull().sum()"
   ]
  },
  {
   "cell_type": "code",
   "execution_count": 38,
   "id": "2074f00f-f320-466a-9732-714957e20681",
   "metadata": {
    "scrolled": true,
    "tags": []
   },
   "outputs": [
    {
     "data": {
      "text/html": [
       "<div>\n",
       "<style scoped>\n",
       "    .dataframe tbody tr th:only-of-type {\n",
       "        vertical-align: middle;\n",
       "    }\n",
       "\n",
       "    .dataframe tbody tr th {\n",
       "        vertical-align: top;\n",
       "    }\n",
       "\n",
       "    .dataframe thead th {\n",
       "        text-align: right;\n",
       "    }\n",
       "</style>\n",
       "<table border=\"1\" class=\"dataframe\">\n",
       "  <thead>\n",
       "    <tr style=\"text-align: right;\">\n",
       "      <th></th>\n",
       "      <th>partitionKey</th>\n",
       "      <th>user_pseudo_id</th>\n",
       "      <th>createdAt</th>\n",
       "      <th>startAddress</th>\n",
       "      <th>endAddress</th>\n",
       "      <th>tripEstimate</th>\n",
       "      <th>BookingID</th>\n",
       "      <th>BookingCreatedTime</th>\n",
       "      <th>PickUp_Latitude</th>\n",
       "      <th>PickUp_Longitude</th>\n",
       "      <th>DropOff_Latitude</th>\n",
       "      <th>DropOff_Longitude</th>\n",
       "      <th>DispatchStatus</th>\n",
       "    </tr>\n",
       "  </thead>\n",
       "  <tbody>\n",
       "    <tr>\n",
       "      <th>632260</th>\n",
       "      <td>d12e4f00-4b85-11ed-8cc4-f1bd638415f1</td>\n",
       "      <td>75A0809F02B74300A6E4A25EA34B3184</td>\n",
       "      <td>2022-10-14 17:02:43.056</td>\n",
       "      <td>1 Bligh Street, 1 Bligh St, Sydney NSW 2000, A...</td>\n",
       "      <td>NaN</td>\n",
       "      <td>45.47</td>\n",
       "      <td>32330837.0</td>\n",
       "      <td>2022-10-14 17:02:51.293</td>\n",
       "      <td>-33.864858</td>\n",
       "      <td>151.210544</td>\n",
       "      <td>-33.931785</td>\n",
       "      <td>151.172876</td>\n",
       "      <td>Completed</td>\n",
       "    </tr>\n",
       "    <tr>\n",
       "      <th>632261</th>\n",
       "      <td>a9e49930-298a-11ed-aeba-d39c8d7719af</td>\n",
       "      <td>755265FF0B0641E4B21204BCB2969304</td>\n",
       "      <td>2022-09-01 10:11:45.093</td>\n",
       "      <td>56 Carr St, Coogee NSW 2034, Australia</td>\n",
       "      <td>Sydney Airport, Terminal 1 International, Term...</td>\n",
       "      <td>41.79</td>\n",
       "      <td>31335291.0</td>\n",
       "      <td>2022-09-01 10:12:14.363</td>\n",
       "      <td>-33.922957</td>\n",
       "      <td>151.256643</td>\n",
       "      <td>-33.931785</td>\n",
       "      <td>151.172876</td>\n",
       "      <td>Completed</td>\n",
       "    </tr>\n",
       "    <tr>\n",
       "      <th>632262</th>\n",
       "      <td>7e86c340-29d4-11ed-9a00-d5b713a64e81</td>\n",
       "      <td>d46cae32826e4c35dec023f024a315ef</td>\n",
       "      <td>2022-09-01 19:00:15.093</td>\n",
       "      <td>14 Ulm St, Lane Cove North NSW 2066, Australia</td>\n",
       "      <td>Sydney Airport, Terminal 1 International, Term...</td>\n",
       "      <td>80.75</td>\n",
       "      <td>31346907.0</td>\n",
       "      <td>2022-09-01 19:01:00.376</td>\n",
       "      <td>-33.803078</td>\n",
       "      <td>151.156567</td>\n",
       "      <td>-33.931785</td>\n",
       "      <td>151.172876</td>\n",
       "      <td>Completed</td>\n",
       "    </tr>\n",
       "    <tr>\n",
       "      <th>632263</th>\n",
       "      <td>2217e2f0-29df-11ed-9a00-d5b713a64e81</td>\n",
       "      <td>EFB5BE26E2CB4586A274ED6C5368CE23</td>\n",
       "      <td>2022-09-01 20:16:24.480</td>\n",
       "      <td>30 Illawarra Rd, Marrickville NSW 2204, Australia</td>\n",
       "      <td>Sydney Airport, Terminal 1 International, Term...</td>\n",
       "      <td>26.99</td>\n",
       "      <td>31348075.0</td>\n",
       "      <td>2022-09-01 20:17:05.990</td>\n",
       "      <td>-33.903420</td>\n",
       "      <td>151.162245</td>\n",
       "      <td>-33.931785</td>\n",
       "      <td>151.172876</td>\n",
       "      <td>Completed</td>\n",
       "    </tr>\n",
       "    <tr>\n",
       "      <th>632264</th>\n",
       "      <td>08e01b20-2a6d-11ed-9a00-d5b713a64e81</td>\n",
       "      <td>8129974B79B5475D9EAE16F8EFA0B21D</td>\n",
       "      <td>2022-09-02 13:12:10.706</td>\n",
       "      <td>29B Manning Rd, Double Bay NSW 2028, Australia</td>\n",
       "      <td>Sydney Airport, Terminal 1 International, Term...</td>\n",
       "      <td>56.49</td>\n",
       "      <td>31361432.0</td>\n",
       "      <td>2022-09-02 13:13:07.550</td>\n",
       "      <td>-33.880643</td>\n",
       "      <td>151.244051</td>\n",
       "      <td>-33.931785</td>\n",
       "      <td>151.172876</td>\n",
       "      <td>Completed</td>\n",
       "    </tr>\n",
       "    <tr>\n",
       "      <th>...</th>\n",
       "      <td>...</td>\n",
       "      <td>...</td>\n",
       "      <td>...</td>\n",
       "      <td>...</td>\n",
       "      <td>...</td>\n",
       "      <td>...</td>\n",
       "      <td>...</td>\n",
       "      <td>...</td>\n",
       "      <td>...</td>\n",
       "      <td>...</td>\n",
       "      <td>...</td>\n",
       "      <td>...</td>\n",
       "      <td>...</td>\n",
       "    </tr>\n",
       "    <tr>\n",
       "      <th>1153628</th>\n",
       "      <td>58a12f10-4a79-11ed-9661-47dabcf94230</td>\n",
       "      <td>35c594558ca760554a635b700bb0900c</td>\n",
       "      <td>2022-10-13 09:00:55.683</td>\n",
       "      <td>341 Marrickville Rd, Marrickville NSW 2204, Au...</td>\n",
       "      <td>Sydney Airport DOM T2 Drop-Off, Sydney Airport...</td>\n",
       "      <td>31.71</td>\n",
       "      <td>32293544.0</td>\n",
       "      <td>2022-10-13 09:05:40.326</td>\n",
       "      <td>-33.907613</td>\n",
       "      <td>151.150401</td>\n",
       "      <td>-33.931785</td>\n",
       "      <td>151.172876</td>\n",
       "      <td>NotCompleted</td>\n",
       "    </tr>\n",
       "    <tr>\n",
       "      <th>1153629</th>\n",
       "      <td>c238b140-4f1b-11ed-8cc4-f1bd638415f1</td>\n",
       "      <td>82709B25CEDA4E2BB5C9AC9E7DAAAA1E</td>\n",
       "      <td>2022-10-19 06:33:35.956</td>\n",
       "      <td>18 Mermaid Ave, Maroubra NSW 2035, Australia</td>\n",
       "      <td>Sydney Airport DOM T2 Drop-Off, Sydney Airport...</td>\n",
       "      <td>33.81</td>\n",
       "      <td>32438205.0</td>\n",
       "      <td>2022-10-19 06:34:04.043</td>\n",
       "      <td>-33.938004</td>\n",
       "      <td>151.258409</td>\n",
       "      <td>-33.931785</td>\n",
       "      <td>151.172876</td>\n",
       "      <td>NotCompleted</td>\n",
       "    </tr>\n",
       "    <tr>\n",
       "      <th>1153630</th>\n",
       "      <td>17048e60-4db4-11ed-9661-47dabcf94230</td>\n",
       "      <td>95824FA56C8A43B087A230A26D1B517A</td>\n",
       "      <td>2022-10-17 11:38:59.400</td>\n",
       "      <td>48 Brennan La, Newtown NSW 2042, Australia</td>\n",
       "      <td>Sydney Airport DOM T2 Drop-Off, Sydney Airport...</td>\n",
       "      <td>28.98</td>\n",
       "      <td>32402992.0</td>\n",
       "      <td>2022-10-17 11:39:06.086</td>\n",
       "      <td>-33.897444</td>\n",
       "      <td>151.179887</td>\n",
       "      <td>-33.931785</td>\n",
       "      <td>151.172876</td>\n",
       "      <td>NotCompleted</td>\n",
       "    </tr>\n",
       "    <tr>\n",
       "      <th>1153631</th>\n",
       "      <td>e8849e80-45c6-11ed-9661-47dabcf94230</td>\n",
       "      <td>6235549FC1DA40DAAC117A2735DDFC10</td>\n",
       "      <td>2022-10-07 09:33:32.520</td>\n",
       "      <td>7 Broome St, Waterloo NSW 2017, Australia</td>\n",
       "      <td>Sydney Airport DOM T2 Drop-Off, Sydney Airport...</td>\n",
       "      <td>26.25</td>\n",
       "      <td>32156955.0</td>\n",
       "      <td>2022-10-07 09:33:47.040</td>\n",
       "      <td>-33.898434</td>\n",
       "      <td>151.214153</td>\n",
       "      <td>-33.931785</td>\n",
       "      <td>151.172876</td>\n",
       "      <td>NotCompleted</td>\n",
       "    </tr>\n",
       "    <tr>\n",
       "      <th>1153632</th>\n",
       "      <td>119ab630-4db3-11ed-9661-47dabcf94230</td>\n",
       "      <td>1750719E3E01433AA0AEC6EDC27C97E1</td>\n",
       "      <td>2022-10-17 11:31:40.820</td>\n",
       "      <td>Level 1/86-90 Bay St, Ultimo NSW 2007, Australia</td>\n",
       "      <td>Sydney Airport DOM T2 Drop-Off, Sydney Airport...</td>\n",
       "      <td>34.34</td>\n",
       "      <td>32402879.0</td>\n",
       "      <td>2022-10-17 11:33:21.096</td>\n",
       "      <td>-33.883594</td>\n",
       "      <td>151.195004</td>\n",
       "      <td>-33.931785</td>\n",
       "      <td>151.172876</td>\n",
       "      <td>NotCompleted</td>\n",
       "    </tr>\n",
       "  </tbody>\n",
       "</table>\n",
       "<p>521373 rows × 13 columns</p>\n",
       "</div>"
      ],
      "text/plain": [
       "                                 partitionKey  \\\n",
       "632260   d12e4f00-4b85-11ed-8cc4-f1bd638415f1   \n",
       "632261   a9e49930-298a-11ed-aeba-d39c8d7719af   \n",
       "632262   7e86c340-29d4-11ed-9a00-d5b713a64e81   \n",
       "632263   2217e2f0-29df-11ed-9a00-d5b713a64e81   \n",
       "632264   08e01b20-2a6d-11ed-9a00-d5b713a64e81   \n",
       "...                                       ...   \n",
       "1153628  58a12f10-4a79-11ed-9661-47dabcf94230   \n",
       "1153629  c238b140-4f1b-11ed-8cc4-f1bd638415f1   \n",
       "1153630  17048e60-4db4-11ed-9661-47dabcf94230   \n",
       "1153631  e8849e80-45c6-11ed-9661-47dabcf94230   \n",
       "1153632  119ab630-4db3-11ed-9661-47dabcf94230   \n",
       "\n",
       "                           user_pseudo_id                createdAt  \\\n",
       "632260   75A0809F02B74300A6E4A25EA34B3184  2022-10-14 17:02:43.056   \n",
       "632261   755265FF0B0641E4B21204BCB2969304  2022-09-01 10:11:45.093   \n",
       "632262   d46cae32826e4c35dec023f024a315ef  2022-09-01 19:00:15.093   \n",
       "632263   EFB5BE26E2CB4586A274ED6C5368CE23  2022-09-01 20:16:24.480   \n",
       "632264   8129974B79B5475D9EAE16F8EFA0B21D  2022-09-02 13:12:10.706   \n",
       "...                                   ...                      ...   \n",
       "1153628  35c594558ca760554a635b700bb0900c  2022-10-13 09:00:55.683   \n",
       "1153629  82709B25CEDA4E2BB5C9AC9E7DAAAA1E  2022-10-19 06:33:35.956   \n",
       "1153630  95824FA56C8A43B087A230A26D1B517A  2022-10-17 11:38:59.400   \n",
       "1153631  6235549FC1DA40DAAC117A2735DDFC10  2022-10-07 09:33:32.520   \n",
       "1153632  1750719E3E01433AA0AEC6EDC27C97E1  2022-10-17 11:31:40.820   \n",
       "\n",
       "                                              startAddress  \\\n",
       "632260   1 Bligh Street, 1 Bligh St, Sydney NSW 2000, A...   \n",
       "632261              56 Carr St, Coogee NSW 2034, Australia   \n",
       "632262      14 Ulm St, Lane Cove North NSW 2066, Australia   \n",
       "632263   30 Illawarra Rd, Marrickville NSW 2204, Australia   \n",
       "632264      29B Manning Rd, Double Bay NSW 2028, Australia   \n",
       "...                                                    ...   \n",
       "1153628  341 Marrickville Rd, Marrickville NSW 2204, Au...   \n",
       "1153629       18 Mermaid Ave, Maroubra NSW 2035, Australia   \n",
       "1153630         48 Brennan La, Newtown NSW 2042, Australia   \n",
       "1153631          7 Broome St, Waterloo NSW 2017, Australia   \n",
       "1153632   Level 1/86-90 Bay St, Ultimo NSW 2007, Australia   \n",
       "\n",
       "                                                endAddress  tripEstimate  \\\n",
       "632260                                                 NaN         45.47   \n",
       "632261   Sydney Airport, Terminal 1 International, Term...         41.79   \n",
       "632262   Sydney Airport, Terminal 1 International, Term...         80.75   \n",
       "632263   Sydney Airport, Terminal 1 International, Term...         26.99   \n",
       "632264   Sydney Airport, Terminal 1 International, Term...         56.49   \n",
       "...                                                    ...           ...   \n",
       "1153628  Sydney Airport DOM T2 Drop-Off, Sydney Airport...         31.71   \n",
       "1153629  Sydney Airport DOM T2 Drop-Off, Sydney Airport...         33.81   \n",
       "1153630  Sydney Airport DOM T2 Drop-Off, Sydney Airport...         28.98   \n",
       "1153631  Sydney Airport DOM T2 Drop-Off, Sydney Airport...         26.25   \n",
       "1153632  Sydney Airport DOM T2 Drop-Off, Sydney Airport...         34.34   \n",
       "\n",
       "          BookingID       BookingCreatedTime  PickUp_Latitude  \\\n",
       "632260   32330837.0  2022-10-14 17:02:51.293       -33.864858   \n",
       "632261   31335291.0  2022-09-01 10:12:14.363       -33.922957   \n",
       "632262   31346907.0  2022-09-01 19:01:00.376       -33.803078   \n",
       "632263   31348075.0  2022-09-01 20:17:05.990       -33.903420   \n",
       "632264   31361432.0  2022-09-02 13:13:07.550       -33.880643   \n",
       "...             ...                      ...              ...   \n",
       "1153628  32293544.0  2022-10-13 09:05:40.326       -33.907613   \n",
       "1153629  32438205.0  2022-10-19 06:34:04.043       -33.938004   \n",
       "1153630  32402992.0  2022-10-17 11:39:06.086       -33.897444   \n",
       "1153631  32156955.0  2022-10-07 09:33:47.040       -33.898434   \n",
       "1153632  32402879.0  2022-10-17 11:33:21.096       -33.883594   \n",
       "\n",
       "         PickUp_Longitude  DropOff_Latitude  DropOff_Longitude DispatchStatus  \n",
       "632260         151.210544        -33.931785         151.172876      Completed  \n",
       "632261         151.256643        -33.931785         151.172876      Completed  \n",
       "632262         151.156567        -33.931785         151.172876      Completed  \n",
       "632263         151.162245        -33.931785         151.172876      Completed  \n",
       "632264         151.244051        -33.931785         151.172876      Completed  \n",
       "...                   ...               ...                ...            ...  \n",
       "1153628        151.150401        -33.931785         151.172876   NotCompleted  \n",
       "1153629        151.258409        -33.931785         151.172876   NotCompleted  \n",
       "1153630        151.179887        -33.931785         151.172876   NotCompleted  \n",
       "1153631        151.214153        -33.931785         151.172876   NotCompleted  \n",
       "1153632        151.195004        -33.931785         151.172876   NotCompleted  \n",
       "\n",
       "[521373 rows x 13 columns]"
      ]
     },
     "execution_count": 38,
     "metadata": {},
     "output_type": "execute_result"
    }
   ],
   "source": [
    "A2B[A2B[\"BookingID\"].notnull()]"
   ]
  },
  {
   "cell_type": "markdown",
   "id": "0a2e06db-c836-4c15-a2cf-17e8418ae4cc",
   "metadata": {},
   "source": [
    "修完了，目测每天1000限制"
   ]
  },
  {
   "cell_type": "markdown",
   "id": "ef5c0366-05cb-48c2-88c9-de690759db3f",
   "metadata": {},
   "source": [
    "至此完成数据清洗工作。"
   ]
  },
  {
   "cell_type": "code",
   "execution_count": 39,
   "id": "e9eca932-961f-4019-87d3-1647a0c9a37a",
   "metadata": {
    "tags": []
   },
   "outputs": [
    {
     "name": "stdout",
     "output_type": "stream",
     "text": [
      "<class 'pandas.core.frame.DataFrame'>\n",
      "Int64Index: 1151921 entries, 0 to 1153632\n",
      "Data columns (total 13 columns):\n",
      " #   Column              Non-Null Count    Dtype  \n",
      "---  ------              --------------    -----  \n",
      " 0   partitionKey        1151921 non-null  object \n",
      " 1   user_pseudo_id      1151921 non-null  object \n",
      " 2   createdAt           1151921 non-null  object \n",
      " 3   startAddress        1151921 non-null  object \n",
      " 4   endAddress          1151921 non-null  object \n",
      " 5   tripEstimate        1151921 non-null  float64\n",
      " 6   BookingID           519835 non-null   float64\n",
      " 7   BookingCreatedTime  519835 non-null   object \n",
      " 8   PickUp_Latitude     519835 non-null   float64\n",
      " 9   PickUp_Longitude    519835 non-null   float64\n",
      " 10  DropOff_Latitude    519835 non-null   float64\n",
      " 11  DropOff_Longitude   519835 non-null   float64\n",
      " 12  DispatchStatus      519835 non-null   object \n",
      "dtypes: float64(6), object(7)\n",
      "memory usage: 123.0+ MB\n"
     ]
    }
   ],
   "source": [
    "washed = raw.copy()\n",
    "washed.info()"
   ]
  },
  {
   "cell_type": "code",
   "execution_count": 49,
   "id": "62ca036b-c592-4d6a-8b55-d95e142f4005",
   "metadata": {},
   "outputs": [
    {
     "data": {
      "text/plain": [
       "partitionKey          0\n",
       "user_pseudo_id        0\n",
       "createdAt             0\n",
       "startAddress          0\n",
       "endAddress            0\n",
       "tripEstimate          0\n",
       "BookingID             0\n",
       "BookingCreatedTime    0\n",
       "PickUp_Latitude       0\n",
       "PickUp_Longitude      0\n",
       "DropOff_Latitude      0\n",
       "DropOff_Longitude     0\n",
       "DispatchStatus        0\n",
       "dtype: int64"
      ]
     },
     "execution_count": 49,
     "metadata": {},
     "output_type": "execute_result"
    }
   ],
   "source": [
    "raw[raw[\"BookingID\"].notnull()].isnull().sum()#booking的子集"
   ]
  },
  {
   "cell_type": "code",
   "execution_count": 50,
   "id": "151a4193-e5c2-4401-a14a-5a6e151fac84",
   "metadata": {},
   "outputs": [
    {
     "data": {
      "text/plain": [
       "partitionKey               0\n",
       "user_pseudo_id             0\n",
       "createdAt                  0\n",
       "startAddress               0\n",
       "endAddress                 0\n",
       "tripEstimate               0\n",
       "BookingID             632086\n",
       "BookingCreatedTime    632086\n",
       "PickUp_Latitude       632086\n",
       "PickUp_Longitude      632086\n",
       "DropOff_Latitude      632086\n",
       "DropOff_Longitude     632086\n",
       "DispatchStatus        632086\n",
       "dtype: int64"
      ]
     },
     "execution_count": 50,
     "metadata": {},
     "output_type": "execute_result"
    }
   ],
   "source": [
    "raw[raw[\"BookingID\"].isnull()].isnull().sum()#looking的子集"
   ]
  },
  {
   "cell_type": "markdown",
   "id": "3bd49dc7-3545-46fa-a015-22cebaf764a1",
   "metadata": {},
   "source": [
    "# 3.0 特征工程"
   ]
  },
  {
   "cell_type": "code",
   "execution_count": 40,
   "id": "f3bc9ad3-0fe0-46cf-8444-55bd4105f9a2",
   "metadata": {},
   "outputs": [],
   "source": [
    "whole=washed.copy()"
   ]
  },
  {
   "cell_type": "code",
   "execution_count": 68,
   "id": "a89ca4d8-765d-4971-873a-b9d66908cf99",
   "metadata": {},
   "outputs": [],
   "source": [
    "'''\n",
    "先保留，用于code自动生成字典\n",
    "test=whole['startAddress']\n",
    "\n",
    "test\n",
    "\n",
    "split_data=test.str.split(',')\n",
    "\n",
    "split_data\n",
    "\n",
    "tt=pd.DataFrame({'State':split_data.apply(lambda x:x[-2])})\n",
    "\n",
    "len(tt['State'].unique())\n",
    "'''"
   ]
  },
  {
   "cell_type": "code",
   "execution_count": 41,
   "id": "233981af-0741-406b-9949-668f19b00d0f",
   "metadata": {},
   "outputs": [
    {
     "name": "stdout",
     "output_type": "stream",
     "text": [
      "Wall time: 16.1 s\n"
     ]
    }
   ],
   "source": [
    "%%time\n",
    "# 起始地点dict\n",
    "state_dict = {\n",
    "    \"NSW\": \"NSW\",\n",
    "    \"New South Wales\": \"NSW\",\n",
    "    \"QLD\": \"QLD\",\n",
    "    \"Queensland\": \"QLD\",\n",
    "    \"Gold Coast\": \"QLD\",\n",
    "    \"Nelly Bay\": \"QLD\",\n",
    "    \"Shute Harbour\": \"QLD\",\n",
    "    \"Sea World\": \"QLD\",\n",
    "    \"Redland\": \"QLD\",\n",
    "    \"SA\": \"SA\",\n",
    "    \"TAS\": \"TAS\",\n",
    "    \"Tasmania\": \"TAS\",\n",
    "    \"VIC\": \"VIC\",\n",
    "    \"RIVER BOULEVARD RICHMOND\": \"VIC\",\n",
    "    \"William St/Collins\": \"VIC\",\n",
    "    \"Victoria\": \"VIC\",\n",
    "    \"WA\": \"WA\",\n",
    "    \"Western Australia\": \"WA\",\n",
    "    \"ACT\": \"ACT\",\n",
    "    \"NT\": \"NT\",\n",
    "    \"Northern Territory\": \"NT\",\n",
    "    \"Coral\": \"Coral Sea\",\n",
    "    \"Great Barrier\": \"Coral Sea\",\n",
    "    \"South Australia\": \"SA\"\n",
    "}  # 所有起点位置的州信息匹配字典\n",
    "\n",
    "for key in state_dict.keys():\n",
    "    whole.loc[whole[\"startAddress\"].str.contains(key), \"StartState\"] = state_dict[key]  # 若记录的起点位置包含字典中的某个key，则赋值对应value"
   ]
  },
  {
   "cell_type": "code",
   "execution_count": 42,
   "id": "3932d4d9-c409-40e6-9334-d183fb579b77",
   "metadata": {},
   "outputs": [
    {
     "name": "stdout",
     "output_type": "stream",
     "text": [
      "Wall time: 18.8 s\n"
     ]
    }
   ],
   "source": [
    "%%time\n",
    "# 下车地点\n",
    "state_dict = {\n",
    "    \"NSW\": \"NSW\",\n",
    "    \"New South Wales\": \"NSW\",\n",
    "    \"Fitzwilliam St\": \"NSW\",\n",
    "    \"Byron Bay\": \"NSW\",\n",
    "    \"QLD\": \"QLD\",\n",
    "    \"Queensland\": \"QLD\",\n",
    "    \"Gold Coast\": \"QLD\",\n",
    "    \"Terminal, Bilinga\": \"QLD\",\n",
    "    \"Tea Tree Bay\": \"QLD\",\n",
    "    \"Nelly Bay\": \"QLD\",\n",
    "    \"Shute Harbour\": \"QLD\",\n",
    "    \"Sea World\": \"QLD\",\n",
    "    \"Redland\": \"QLD\",\n",
    "    \"SA\": \"SA\",\n",
    "    \"South Australia\": \"SA\",\n",
    "    \"TAS\": \"TAS\",\n",
    "    \"Tasmania\": \"TAS\",\n",
    "    \"VIC\": \"VIC\",\n",
    "    \"Victoria\": \"VIC\",\n",
    "    \"St Kilda Marina\": \"VIC\",\n",
    "    \"WA\": \"WA\",\n",
    "    \"Western Australia\": \"WA\",\n",
    "    \"ACT\": \"ACT\",\n",
    "    \"Australian Capital Territory\": \"ACT\",\n",
    "    \"Canberra\": \"ACT\",\n",
    "    \"NT\": \"NT\",\n",
    "    \"Northern Territory\": \"NT\",\n",
    "    \"Coral\": \"Coral Sea\",\n",
    "    \"Great Barrier\": \"Coral Sea\",\n",
    "}  # 所有重点位置的州信息匹配字典\n",
    "\n",
    "for key in state_dict.keys():\n",
    "    whole.loc[whole[\"endAddress\"].str.contains(key), \"EndState\"] = state_dict[key]"
   ]
  },
  {
   "cell_type": "code",
   "execution_count": 43,
   "id": "7565d22a-de1b-42e9-b30b-c8fe225b29ac",
   "metadata": {},
   "outputs": [
    {
     "data": {
      "text/html": [
       "<div>\n",
       "<style scoped>\n",
       "    .dataframe tbody tr th:only-of-type {\n",
       "        vertical-align: middle;\n",
       "    }\n",
       "\n",
       "    .dataframe tbody tr th {\n",
       "        vertical-align: top;\n",
       "    }\n",
       "\n",
       "    .dataframe thead th {\n",
       "        text-align: right;\n",
       "    }\n",
       "</style>\n",
       "<table border=\"1\" class=\"dataframe\">\n",
       "  <thead>\n",
       "    <tr style=\"text-align: right;\">\n",
       "      <th></th>\n",
       "      <th>partitionKey</th>\n",
       "      <th>user_pseudo_id</th>\n",
       "      <th>createdAt</th>\n",
       "      <th>startAddress</th>\n",
       "      <th>endAddress</th>\n",
       "      <th>tripEstimate</th>\n",
       "      <th>BookingID</th>\n",
       "      <th>BookingCreatedTime</th>\n",
       "      <th>PickUp_Latitude</th>\n",
       "      <th>PickUp_Longitude</th>\n",
       "      <th>DropOff_Latitude</th>\n",
       "      <th>DropOff_Longitude</th>\n",
       "      <th>DispatchStatus</th>\n",
       "      <th>StartState</th>\n",
       "      <th>EndState</th>\n",
       "    </tr>\n",
       "  </thead>\n",
       "  <tbody>\n",
       "    <tr>\n",
       "      <th>129178</th>\n",
       "      <td>08f80e50-51dd-11ed-8cc4-f1bd638415f1</td>\n",
       "      <td>a25f496d5ba73a59176598f5397400f9</td>\n",
       "      <td>2022-10-22 18:42:09.846</td>\n",
       "      <td>Unnamed Road, Australia</td>\n",
       "      <td>117 Brisbane Rd, Biggera Waters QLD 4216, Aust...</td>\n",
       "      <td>135.66</td>\n",
       "      <td>NaN</td>\n",
       "      <td>NaN</td>\n",
       "      <td>NaN</td>\n",
       "      <td>NaN</td>\n",
       "      <td>NaN</td>\n",
       "      <td>NaN</td>\n",
       "      <td>NaN</td>\n",
       "      <td>NaN</td>\n",
       "      <td>QLD</td>\n",
       "    </tr>\n",
       "    <tr>\n",
       "      <th>385285</th>\n",
       "      <td>e7f58e70-4cd8-11ed-9661-47dabcf94230</td>\n",
       "      <td>6e9ed8e9eb1359b7c9fd9ad1cbde853c</td>\n",
       "      <td>2022-10-16 09:30:00.663</td>\n",
       "      <td>9 Curtawilla St, Banora Point NSW 2486, Australia</td>\n",
       "      <td>Unnamed Road, Australia</td>\n",
       "      <td>32.66</td>\n",
       "      <td>NaN</td>\n",
       "      <td>NaN</td>\n",
       "      <td>NaN</td>\n",
       "      <td>NaN</td>\n",
       "      <td>NaN</td>\n",
       "      <td>NaN</td>\n",
       "      <td>NaN</td>\n",
       "      <td>NSW</td>\n",
       "      <td>NaN</td>\n",
       "    </tr>\n",
       "  </tbody>\n",
       "</table>\n",
       "</div>"
      ],
      "text/plain": [
       "                                partitionKey  \\\n",
       "129178  08f80e50-51dd-11ed-8cc4-f1bd638415f1   \n",
       "385285  e7f58e70-4cd8-11ed-9661-47dabcf94230   \n",
       "\n",
       "                          user_pseudo_id                createdAt  \\\n",
       "129178  a25f496d5ba73a59176598f5397400f9  2022-10-22 18:42:09.846   \n",
       "385285  6e9ed8e9eb1359b7c9fd9ad1cbde853c  2022-10-16 09:30:00.663   \n",
       "\n",
       "                                             startAddress  \\\n",
       "129178                            Unnamed Road, Australia   \n",
       "385285  9 Curtawilla St, Banora Point NSW 2486, Australia   \n",
       "\n",
       "                                               endAddress  tripEstimate  \\\n",
       "129178  117 Brisbane Rd, Biggera Waters QLD 4216, Aust...        135.66   \n",
       "385285                            Unnamed Road, Australia         32.66   \n",
       "\n",
       "        BookingID BookingCreatedTime  PickUp_Latitude  PickUp_Longitude  \\\n",
       "129178        NaN                NaN              NaN               NaN   \n",
       "385285        NaN                NaN              NaN               NaN   \n",
       "\n",
       "        DropOff_Latitude  DropOff_Longitude DispatchStatus StartState EndState  \n",
       "129178               NaN                NaN            NaN        NaN      QLD  \n",
       "385285               NaN                NaN            NaN        NSW      NaN  "
      ]
     },
     "execution_count": 43,
     "metadata": {},
     "output_type": "execute_result"
    }
   ],
   "source": [
    "state_null=whole[(whole[\"StartState\"].isnull()) | (whole[\"EndState\"].isnull())]\n",
    "state_null"
   ]
  },
  {
   "cell_type": "code",
   "execution_count": 44,
   "id": "197cff5a-3a57-4f93-8502-7d6dd89649fb",
   "metadata": {},
   "outputs": [],
   "source": [
    "drop_index=state_null.index"
   ]
  },
  {
   "cell_type": "code",
   "execution_count": 45,
   "id": "8805f46c-ad57-4acc-b7aa-1af2ef8d6e2e",
   "metadata": {},
   "outputs": [
    {
     "data": {
      "text/html": [
       "<div>\n",
       "<style scoped>\n",
       "    .dataframe tbody tr th:only-of-type {\n",
       "        vertical-align: middle;\n",
       "    }\n",
       "\n",
       "    .dataframe tbody tr th {\n",
       "        vertical-align: top;\n",
       "    }\n",
       "\n",
       "    .dataframe thead th {\n",
       "        text-align: right;\n",
       "    }\n",
       "</style>\n",
       "<table border=\"1\" class=\"dataframe\">\n",
       "  <thead>\n",
       "    <tr style=\"text-align: right;\">\n",
       "      <th></th>\n",
       "      <th>partitionKey</th>\n",
       "      <th>user_pseudo_id</th>\n",
       "      <th>createdAt</th>\n",
       "      <th>startAddress</th>\n",
       "      <th>endAddress</th>\n",
       "      <th>tripEstimate</th>\n",
       "      <th>BookingID</th>\n",
       "      <th>BookingCreatedTime</th>\n",
       "      <th>PickUp_Latitude</th>\n",
       "      <th>PickUp_Longitude</th>\n",
       "      <th>DropOff_Latitude</th>\n",
       "      <th>DropOff_Longitude</th>\n",
       "      <th>DispatchStatus</th>\n",
       "      <th>StartState</th>\n",
       "      <th>EndState</th>\n",
       "    </tr>\n",
       "  </thead>\n",
       "  <tbody>\n",
       "  </tbody>\n",
       "</table>\n",
       "</div>"
      ],
      "text/plain": [
       "Empty DataFrame\n",
       "Columns: [partitionKey, user_pseudo_id, createdAt, startAddress, endAddress, tripEstimate, BookingID, BookingCreatedTime, PickUp_Latitude, PickUp_Longitude, DropOff_Latitude, DropOff_Longitude, DispatchStatus, StartState, EndState]\n",
       "Index: []"
      ]
     },
     "execution_count": 45,
     "metadata": {},
     "output_type": "execute_result"
    }
   ],
   "source": [
    "whole.drop(drop_index,axis=0,inplace=True)\n",
    "whole[(whole[\"StartState\"].isnull()) | (whole[\"EndState\"].isnull())]"
   ]
  },
  {
   "cell_type": "markdown",
   "id": "5a1d2d7a-bb37-4d6e-ac64-33e673c247cc",
   "metadata": {},
   "source": [
    "## 3.2 时间类\n",
    "**准备工作：**  \n",
    "* 把原数据集中的2个时间字段都**转化为datetime格式**；\n",
    "* 对BookingCreatedTime字段进行分箱，分别按照日内**半小时间隔**、周内**日间隔**进行分箱，提取出每条记录的预定创建时间的所在半小时数、所在周几。"
   ]
  },
  {
   "cell_type": "code",
   "execution_count": 46,
   "id": "2ee168d5-cc66-4aa2-be37-a4e2d2f3b2f8",
   "metadata": {
    "tags": []
   },
   "outputs": [
    {
     "name": "stdout",
     "output_type": "stream",
     "text": [
      "<class 'pandas.core.frame.DataFrame'>\n",
      "Int64Index: 1151919 entries, 0 to 1153632\n",
      "Data columns (total 15 columns):\n",
      " #   Column              Non-Null Count    Dtype         \n",
      "---  ------              --------------    -----         \n",
      " 0   partitionKey        1151919 non-null  object        \n",
      " 1   user_pseudo_id      1151919 non-null  object        \n",
      " 2   createdAt           1151919 non-null  datetime64[ns]\n",
      " 3   startAddress        1151919 non-null  object        \n",
      " 4   endAddress          1151919 non-null  object        \n",
      " 5   tripEstimate        1151919 non-null  float64       \n",
      " 6   BookingID           519835 non-null   float64       \n",
      " 7   BookingCreatedTime  519835 non-null   datetime64[ns]\n",
      " 8   PickUp_Latitude     519835 non-null   float64       \n",
      " 9   PickUp_Longitude    519835 non-null   float64       \n",
      " 10  DropOff_Latitude    519835 non-null   float64       \n",
      " 11  DropOff_Longitude   519835 non-null   float64       \n",
      " 12  DispatchStatus      519835 non-null   object        \n",
      " 13  StartState          1151919 non-null  object        \n",
      " 14  EndState            1151919 non-null  object        \n",
      "dtypes: datetime64[ns](2), float64(6), object(7)\n",
      "memory usage: 140.6+ MB\n"
     ]
    }
   ],
   "source": [
    "whole[\"createdAt\"] = pd.to_datetime(whole[\"createdAt\"], format=\"%Y-%m-%d\")\n",
    "whole[\"BookingCreatedTime\"] = pd.to_datetime(whole[\"BookingCreatedTime\"], format=\"%Y-%m-%d\")\n",
    "whole.info()"
   ]
  },
  {
   "cell_type": "code",
   "execution_count": 47,
   "id": "b3c0cb37-9cce-4437-a83e-6fc3e221f9b7",
   "metadata": {},
   "outputs": [],
   "source": [
    "whole[\"DispatchStatus\"] = whole[\"DispatchStatus\"].replace(dict(NotCompleted=0, Completed=1))#把完成和未完成换掉了\n",
    "# 完成=1"
   ]
  },
  {
   "cell_type": "code",
   "execution_count": 48,
   "id": "accf4327-1657-4985-995f-bb3fa3b58c7d",
   "metadata": {},
   "outputs": [],
   "source": [
    "whole[\"BookingCreatedHour\"] = whole[\"BookingCreatedTime\"].dt.hour\n",
    "whole[\"BookingCreatedMin\"] = whole[\"BookingCreatedTime\"].dt.minute\n",
    "whole[\"BookingCreatedDay\"] = whole[\"BookingCreatedTime\"].dt.weekday \n",
    "# 0:周一，1:周二...以此类推 下面修正了"
   ]
  },
  {
   "cell_type": "code",
   "execution_count": 50,
   "id": "da75983d-8651-4f9f-a1a1-6eb03078dfcb",
   "metadata": {
    "scrolled": true,
    "tags": []
   },
   "outputs": [],
   "source": [
    "bookings_index = whole[whole[\"BookingID\"].notnull()].index.to_list()\n",
    "whole.loc[bookings_index,'BookingCreatedDay']=whole.loc[bookings_index,'BookingCreatedDay']+1"
   ]
  },
  {
   "cell_type": "code",
   "execution_count": 51,
   "id": "fe28992e-5ee7-4e82-8078-e5daaba805b7",
   "metadata": {},
   "outputs": [
    {
     "data": {
      "text/plain": [
       "6.0    106421\n",
       "5.0     86062\n",
       "4.0     73939\n",
       "7.0     72577\n",
       "3.0     63559\n",
       "1.0     61507\n",
       "2.0     55770\n",
       "Name: BookingCreatedDay, dtype: int64"
      ]
     },
     "execution_count": 51,
     "metadata": {},
     "output_type": "execute_result"
    }
   ],
   "source": [
    "whole['BookingCreatedDay'].value_counts()"
   ]
  },
  {
   "cell_type": "markdown",
   "id": "a8d6f433-9df9-4c8f-8417-feecf50b271e",
   "metadata": {},
   "source": [
    "至此特征工程基本完成。考虑EDA"
   ]
  },
  {
   "cell_type": "code",
   "execution_count": 52,
   "id": "5468dc2e-65cd-4be5-9cb1-df8ae89f33b0",
   "metadata": {},
   "outputs": [
    {
     "name": "stdout",
     "output_type": "stream",
     "text": [
      "Wall time: 5min 5s\n"
     ]
    }
   ],
   "source": [
    "%%time\n",
    "for i in whole.index:\n",
    "    start=re.findall(r'\\d{4}',whole.loc[i,'startAddress'])\n",
    "    end=re.findall(r'\\d{4}',whole.loc[i,'endAddress'])\n",
    "    if len(start)!=0:\n",
    "        whole.loc[i,'startCode']=start[-1]\n",
    "    if len(end)!=0:\n",
    "        whole.loc[i,'endCode']=end[-1]"
   ]
  },
  {
   "cell_type": "code",
   "execution_count": 53,
   "id": "2eefd2d3-d229-4247-932a-266e6d97295c",
   "metadata": {
    "scrolled": true,
    "tags": []
   },
   "outputs": [
    {
     "data": {
      "text/plain": [
       "partitionKey               0\n",
       "user_pseudo_id             0\n",
       "createdAt                  0\n",
       "startAddress               0\n",
       "endAddress                 0\n",
       "tripEstimate               0\n",
       "BookingID             632084\n",
       "BookingCreatedTime    632084\n",
       "PickUp_Latitude       632084\n",
       "PickUp_Longitude      632084\n",
       "DropOff_Latitude      632084\n",
       "DropOff_Longitude     632084\n",
       "DispatchStatus        632084\n",
       "StartState                 0\n",
       "EndState                   0\n",
       "BookingCreatedHour    632084\n",
       "BookingCreatedMin     632084\n",
       "BookingCreatedDay     632084\n",
       "startCode                356\n",
       "endCode                  337\n",
       "dtype: int64"
      ]
     },
     "execution_count": 53,
     "metadata": {},
     "output_type": "execute_result"
    }
   ],
   "source": [
    "whole.isnull().sum()#仍然有空值"
   ]
  },
  {
   "cell_type": "markdown",
   "id": "501cf43a-c2bc-4948-9d62-acf38b9b9958",
   "metadata": {},
   "source": [
    "无end和start均空的情况。可以不跑"
   ]
  },
  {
   "cell_type": "code",
   "execution_count": 260,
   "id": "eca02d64-3421-4bdc-a4ab-c59d9d4f481e",
   "metadata": {},
   "outputs": [],
   "source": [
    "len(whole[whole['startCode'].isnull() & whole['endCode'].isnull()])\n",
    "\n",
    "len(whole[whole['startCode'].isnull() | whole['endCode'].isnull()])\n",
    "\n",
    "s_code_null=whole[whole['startCode'].isnull()]\n",
    "len(s_code_null[s_code_null['BookingID'].isnull()])/len(s_code_null)\n",
    "\n",
    "e_code_null=whole[whole['endCode'].isnull()]\n",
    "len(e_code_null[e_code_null['BookingID'].isnull()])/len(e_code_null)"
   ]
  },
  {
   "cell_type": "markdown",
   "id": "1f87e7f1-8279-4666-9fab-2e803a76551c",
   "metadata": {},
   "source": [
    "找到code为空且bk的集合"
   ]
  },
  {
   "cell_type": "code",
   "execution_count": 54,
   "id": "10c76a85-5f80-4100-9d07-18a380c2231e",
   "metadata": {},
   "outputs": [],
   "source": [
    "start_code=whole[whole['startCode'].isnull() &  whole['BookingID'].notnull()]\n",
    "end_code=whole[whole['endCode'].isnull() &  whole['BookingID'].notnull()]"
   ]
  },
  {
   "cell_type": "code",
   "execution_count": 55,
   "id": "82c378d7-e539-40ea-8c83-a600e967f675",
   "metadata": {},
   "outputs": [
    {
     "name": "stdout",
     "output_type": "stream",
     "text": [
      "Wall time: 1min 59s\n"
     ]
    }
   ],
   "source": [
    "%%time\n",
    "for i in start_code.index:\n",
    "    g=geocoder.osm(whole.loc[i,['PickUp_Latitude','PickUp_Longitude']].to_list(),method='reverse')\n",
    "    whole.loc[i,'startAddress']=g.address"
   ]
  },
  {
   "cell_type": "code",
   "execution_count": 56,
   "id": "2b721f42-a207-42bc-ba3e-8d78edc91ac2",
   "metadata": {},
   "outputs": [
    {
     "name": "stdout",
     "output_type": "stream",
     "text": [
      "Wall time: 1min 33s\n"
     ]
    }
   ],
   "source": [
    "%%time\n",
    "for i in end_code.index:\n",
    "    g=geocoder.osm(whole.loc[i,['DropOff_Latitude','DropOff_Longitude']].to_list(),method='reverse')\n",
    "    whole.loc[i,'endAddress']=g.address"
   ]
  },
  {
   "cell_type": "code",
   "execution_count": 57,
   "id": "7371e305-a076-4e60-85d1-35aad792b0e8",
   "metadata": {},
   "outputs": [],
   "source": [
    "for i in start_code.index:\n",
    "    start=re.findall(r'\\d{4}',whole.loc[i,'startAddress'])\n",
    "    if len(start)!=0:\n",
    "        whole.loc[i,'startCode']=start[-1]\n",
    "\n",
    "for i in end_code.index:\n",
    "    end=re.findall(r'\\d{4}',whole.loc[i,'endAddress'])\n",
    "    if len(end)!=0:\n",
    "        whole.loc[i,'endCode']=end[-1]"
   ]
  },
  {
   "cell_type": "code",
   "execution_count": 58,
   "id": "cab6831b-98c2-4a8f-b804-b93bee6a4c14",
   "metadata": {
    "scrolled": true,
    "tags": []
   },
   "outputs": [
    {
     "data": {
      "text/html": [
       "<div>\n",
       "<style scoped>\n",
       "    .dataframe tbody tr th:only-of-type {\n",
       "        vertical-align: middle;\n",
       "    }\n",
       "\n",
       "    .dataframe tbody tr th {\n",
       "        vertical-align: top;\n",
       "    }\n",
       "\n",
       "    .dataframe thead th {\n",
       "        text-align: right;\n",
       "    }\n",
       "</style>\n",
       "<table border=\"1\" class=\"dataframe\">\n",
       "  <thead>\n",
       "    <tr style=\"text-align: right;\">\n",
       "      <th></th>\n",
       "      <th>startAddress</th>\n",
       "      <th>endAddress</th>\n",
       "    </tr>\n",
       "  </thead>\n",
       "  <tbody>\n",
       "    <tr>\n",
       "      <th>738620</th>\n",
       "      <td>9 Springfield Cct, Cannonvale QLD 4802, Australia</td>\n",
       "      <td>McIntosh Drive, Cannonvale, Whitsunday Regional, Queensland, Australia</td>\n",
       "    </tr>\n",
       "    <tr>\n",
       "      <th>765674</th>\n",
       "      <td>AB Marine, Shingley Drive, Airlie Beach, Whitsunday Regional, Queensland, Australia</td>\n",
       "      <td>230 Shute Harbour Rd, Cannonvale QLD 4802, Australia</td>\n",
       "    </tr>\n",
       "    <tr>\n",
       "      <th>769070</th>\n",
       "      <td>McDonald's, Airlie Main Street, Airlie Beach, Whitsunday Regional, Queensland, Australia</td>\n",
       "      <td>Lot 296 Whitsunday Dr, Shute Harbour QLD 4802, Australia</td>\n",
       "    </tr>\n",
       "    <tr>\n",
       "      <th>845637</th>\n",
       "      <td>44 Lilicur Rd, Montmorency VIC 3094, Australia</td>\n",
       "      <td>Victoria, Australia</td>\n",
       "    </tr>\n",
       "    <tr>\n",
       "      <th>866530</th>\n",
       "      <td>Alchemies Way, Ooralea, Mackay, Mackay Regional, Queensland, Australia</td>\n",
       "      <td>Mycow Accommodation - Caravan Park &amp; Campground Mackay, 106 Main St, Bakers Creek QLD 4740, Australia</td>\n",
       "    </tr>\n",
       "    <tr>\n",
       "      <th>881904</th>\n",
       "      <td>220 Bourbong St, Bundaberg Central QLD 4670, Australia</td>\n",
       "      <td>Bundaberg Airport, Childers Road, Kensington, Bundaberg, Bundaberg Region, Queensland, Australia</td>\n",
       "    </tr>\n",
       "    <tr>\n",
       "      <th>889962</th>\n",
       "      <td>BIG4 Ballarat Welcome Stranger Holiday Park, Water Street, Brown Hill, Ballarat, City of Ballarat, Victoria, Australia</td>\n",
       "      <td>411 Howard St, Soldiers Hill VIC 3350, Australia</td>\n",
       "    </tr>\n",
       "    <tr>\n",
       "      <th>936159</th>\n",
       "      <td>12 Laguna Ct, Airlie Beach QLD 4802, Australia</td>\n",
       "      <td>Whitsunday Harbour, Eshelby Drive, Yachtsmans Paradise, Cannonvale, Whitsunday Regional, Queensland, Australia</td>\n",
       "    </tr>\n",
       "    <tr>\n",
       "      <th>940637</th>\n",
       "      <td>Solway Avenue, Yachtsmans Paradise, Cannonvale, Whitsunday Regional, Queensland, Australia</td>\n",
       "      <td>2 Orana St, Airlie Beach QLD 4802, Australia</td>\n",
       "    </tr>\n",
       "    <tr>\n",
       "      <th>1000864</th>\n",
       "      <td>394 Shute Harbour Rd, Airlie Beach QLD 4802, Australia</td>\n",
       "      <td>Seaview Drive, Airlie Beach, Whitsunday Regional, Queensland, Australia</td>\n",
       "    </tr>\n",
       "    <tr>\n",
       "      <th>1016177</th>\n",
       "      <td>New Zealand Ice Cream, Airlie Main Street, Airlie Beach, Whitsunday Regional, Queensland, Australia</td>\n",
       "      <td>115 Shingley Dr, Cannonvale QLD 4802, Australia</td>\n",
       "    </tr>\n",
       "    <tr>\n",
       "      <th>1054103</th>\n",
       "      <td>Little Vegas, Airlie Main Street, Airlie Beach, Whitsunday Regional, Queensland, Australia</td>\n",
       "      <td>24 Twin Creek Ct, Cannonvale QLD 4802, Australia</td>\n",
       "    </tr>\n",
       "    <tr>\n",
       "      <th>1054530</th>\n",
       "      <td>New Zealand Ice Cream, Airlie Main Street, Airlie Beach, Whitsunday Regional, Queensland, Australia</td>\n",
       "      <td>81 Parker Rd, Cannon Valley QLD 4800, Australia</td>\n",
       "    </tr>\n",
       "    <tr>\n",
       "      <th>1063498</th>\n",
       "      <td>Airlie Beach, Whitsunday Regional, Queensland, Australia</td>\n",
       "      <td>226-228 Shute Harbour Rd, Cannonvale QLD 4802, Australia</td>\n",
       "    </tr>\n",
       "    <tr>\n",
       "      <th>1072915</th>\n",
       "      <td>New Zealand Ice Cream, Airlie Main Street, Airlie Beach, Whitsunday Regional, Queensland, Australia</td>\n",
       "      <td>18 Seaview Dr, Airlie Beach QLD 4802, Australia</td>\n",
       "    </tr>\n",
       "    <tr>\n",
       "      <th>1114210</th>\n",
       "      <td>53/81 Vermont St, Wodonga VIC 3690, Australia</td>\n",
       "      <td>Victoria, Australia</td>\n",
       "    </tr>\n",
       "    <tr>\n",
       "      <th>1131133</th>\n",
       "      <td>Yeppoon Central Shopping Centre, 42 Park St, Yeppoon QLD 4703, Australia</td>\n",
       "      <td>Lakeside Drive, Taroomball, Livingstone Shire, Queensland, Australia</td>\n",
       "    </tr>\n",
       "    <tr>\n",
       "      <th>1144312</th>\n",
       "      <td>The Garden Bar, Shingley Drive, Airlie Beach, Whitsunday Regional, Queensland, Australia</td>\n",
       "      <td>Commerce Cl, Cannonvale QLD 4802, Australia</td>\n",
       "    </tr>\n",
       "  </tbody>\n",
       "</table>\n",
       "</div>"
      ],
      "text/plain": [
       "                                                                                                                   startAddress  \\\n",
       "738620                                                                        9 Springfield Cct, Cannonvale QLD 4802, Australia   \n",
       "765674                                      AB Marine, Shingley Drive, Airlie Beach, Whitsunday Regional, Queensland, Australia   \n",
       "769070                                 McDonald's, Airlie Main Street, Airlie Beach, Whitsunday Regional, Queensland, Australia   \n",
       "845637                                                                           44 Lilicur Rd, Montmorency VIC 3094, Australia   \n",
       "866530                                                   Alchemies Way, Ooralea, Mackay, Mackay Regional, Queensland, Australia   \n",
       "881904                                                                   220 Bourbong St, Bundaberg Central QLD 4670, Australia   \n",
       "889962   BIG4 Ballarat Welcome Stranger Holiday Park, Water Street, Brown Hill, Ballarat, City of Ballarat, Victoria, Australia   \n",
       "936159                                                                           12 Laguna Ct, Airlie Beach QLD 4802, Australia   \n",
       "940637                               Solway Avenue, Yachtsmans Paradise, Cannonvale, Whitsunday Regional, Queensland, Australia   \n",
       "1000864                                                                  394 Shute Harbour Rd, Airlie Beach QLD 4802, Australia   \n",
       "1016177                     New Zealand Ice Cream, Airlie Main Street, Airlie Beach, Whitsunday Regional, Queensland, Australia   \n",
       "1054103                              Little Vegas, Airlie Main Street, Airlie Beach, Whitsunday Regional, Queensland, Australia   \n",
       "1054530                     New Zealand Ice Cream, Airlie Main Street, Airlie Beach, Whitsunday Regional, Queensland, Australia   \n",
       "1063498                                                                Airlie Beach, Whitsunday Regional, Queensland, Australia   \n",
       "1072915                     New Zealand Ice Cream, Airlie Main Street, Airlie Beach, Whitsunday Regional, Queensland, Australia   \n",
       "1114210                                                                           53/81 Vermont St, Wodonga VIC 3690, Australia   \n",
       "1131133                                                Yeppoon Central Shopping Centre, 42 Park St, Yeppoon QLD 4703, Australia   \n",
       "1144312                                The Garden Bar, Shingley Drive, Airlie Beach, Whitsunday Regional, Queensland, Australia   \n",
       "\n",
       "                                                                                                             endAddress  \n",
       "738620                                           McIntosh Drive, Cannonvale, Whitsunday Regional, Queensland, Australia  \n",
       "765674                                                             230 Shute Harbour Rd, Cannonvale QLD 4802, Australia  \n",
       "769070                                                         Lot 296 Whitsunday Dr, Shute Harbour QLD 4802, Australia  \n",
       "845637                                                                                              Victoria, Australia  \n",
       "866530            Mycow Accommodation - Caravan Park & Campground Mackay, 106 Main St, Bakers Creek QLD 4740, Australia  \n",
       "881904                 Bundaberg Airport, Childers Road, Kensington, Bundaberg, Bundaberg Region, Queensland, Australia  \n",
       "889962                                                                 411 Howard St, Soldiers Hill VIC 3350, Australia  \n",
       "936159   Whitsunday Harbour, Eshelby Drive, Yachtsmans Paradise, Cannonvale, Whitsunday Regional, Queensland, Australia  \n",
       "940637                                                                     2 Orana St, Airlie Beach QLD 4802, Australia  \n",
       "1000864                                         Seaview Drive, Airlie Beach, Whitsunday Regional, Queensland, Australia  \n",
       "1016177                                                                 115 Shingley Dr, Cannonvale QLD 4802, Australia  \n",
       "1054103                                                                24 Twin Creek Ct, Cannonvale QLD 4802, Australia  \n",
       "1054530                                                                 81 Parker Rd, Cannon Valley QLD 4800, Australia  \n",
       "1063498                                                        226-228 Shute Harbour Rd, Cannonvale QLD 4802, Australia  \n",
       "1072915                                                                 18 Seaview Dr, Airlie Beach QLD 4802, Australia  \n",
       "1114210                                                                                             Victoria, Australia  \n",
       "1131133                                            Lakeside Drive, Taroomball, Livingstone Shire, Queensland, Australia  \n",
       "1144312                                                                     Commerce Cl, Cannonvale QLD 4802, Australia  "
      ]
     },
     "execution_count": 58,
     "metadata": {},
     "output_type": "execute_result"
    }
   ],
   "source": [
    "code_null=whole[(whole['startCode'].isnull() | whole['endCode'].isnull()) & whole['BookingID'].notnull()]\n",
    "pd.set_option('display.max_colwidth',None)\n",
    "code_null.loc[:,['startAddress','endAddress']]"
   ]
  },
  {
   "cell_type": "markdown",
   "id": "1913c14e-33d5-4a4a-9fb4-5791227b823f",
   "metadata": {},
   "source": [
    "修补（手动的）"
   ]
  },
  {
   "cell_type": "code",
   "execution_count": 59,
   "id": "b5d7e343-7bdd-461d-b8ee-bbdf7ecb5c90",
   "metadata": {},
   "outputs": [],
   "source": [
    "start_null_index=code_null[code_null['startCode'].isnull()].index\n",
    "start_code=[4802,4802,4740,3350,4802,4802,4802,4802,4802,4802,4802]\n",
    "j=0\n",
    "for i in start_null_index:\n",
    "    whole.loc[i,'startCode']=start_code[j]\n",
    "    j+=1"
   ]
  },
  {
   "cell_type": "code",
   "execution_count": 60,
   "id": "2e38affc-8e11-4c48-82a0-6588781a0a8e",
   "metadata": {},
   "outputs": [],
   "source": [
    "end_null_index=code_null[(code_null['endCode'].isnull()) & (code_null['endAddress']!='Victoria, Australia') ].index\n",
    "end_code=[4802,4670,4802,4802,4703]\n",
    "j=0\n",
    "for i in end_null_index:\n",
    "    whole.loc[i,'endCode']=end_code[j]\n",
    "    j+=1"
   ]
  },
  {
   "cell_type": "code",
   "execution_count": 61,
   "id": "97aac3a4-dff6-4a36-956c-0d785b4406a9",
   "metadata": {},
   "outputs": [
    {
     "data": {
      "text/html": [
       "<div>\n",
       "<style scoped>\n",
       "    .dataframe tbody tr th:only-of-type {\n",
       "        vertical-align: middle;\n",
       "    }\n",
       "\n",
       "    .dataframe tbody tr th {\n",
       "        vertical-align: top;\n",
       "    }\n",
       "\n",
       "    .dataframe thead th {\n",
       "        text-align: right;\n",
       "    }\n",
       "</style>\n",
       "<table border=\"1\" class=\"dataframe\">\n",
       "  <thead>\n",
       "    <tr style=\"text-align: right;\">\n",
       "      <th></th>\n",
       "      <th>DropOff_Latitude</th>\n",
       "      <th>DropOff_Longitude</th>\n",
       "    </tr>\n",
       "  </thead>\n",
       "  <tbody>\n",
       "    <tr>\n",
       "      <th>845637</th>\n",
       "      <td>-38.081120</td>\n",
       "      <td>144.902353</td>\n",
       "    </tr>\n",
       "    <tr>\n",
       "      <th>1114210</th>\n",
       "      <td>-38.080515</td>\n",
       "      <td>144.889568</td>\n",
       "    </tr>\n",
       "  </tbody>\n",
       "</table>\n",
       "</div>"
      ],
      "text/plain": [
       "         DropOff_Latitude  DropOff_Longitude\n",
       "845637         -38.081120         144.902353\n",
       "1114210        -38.080515         144.889568"
      ]
     },
     "execution_count": 61,
     "metadata": {},
     "output_type": "execute_result"
    }
   ],
   "source": [
    "vic_au=code_null[code_null['endAddress']=='Victoria, Australia'].index.to_list()\n",
    "whole.loc[vic_au,['DropOff_Latitude','DropOff_Longitude']]#都是关于Port Phillip (Bay)"
   ]
  },
  {
   "cell_type": "code",
   "execution_count": 62,
   "id": "2c37ae1b-5fd4-4f90-9ffa-3df88c139c3e",
   "metadata": {},
   "outputs": [],
   "source": [
    "whole.loc[vic_au,'endCode']=[3222,3222]"
   ]
  },
  {
   "cell_type": "code",
   "execution_count": 63,
   "id": "aaf66703-4a45-42f6-89e1-f9a9a03e680a",
   "metadata": {},
   "outputs": [
    {
     "data": {
      "text/plain": [
       "partitionKey               0\n",
       "user_pseudo_id             0\n",
       "createdAt                  0\n",
       "startAddress               0\n",
       "endAddress                 0\n",
       "tripEstimate               0\n",
       "BookingID             632084\n",
       "BookingCreatedTime    632084\n",
       "PickUp_Latitude       632084\n",
       "PickUp_Longitude      632084\n",
       "DropOff_Latitude      632084\n",
       "DropOff_Longitude     632084\n",
       "DispatchStatus        632084\n",
       "StartState                 0\n",
       "EndState                   0\n",
       "BookingCreatedHour    632084\n",
       "BookingCreatedMin     632084\n",
       "BookingCreatedDay     632084\n",
       "startCode                198\n",
       "endCode                  224\n",
       "dtype: int64"
      ]
     },
     "execution_count": 63,
     "metadata": {},
     "output_type": "execute_result"
    }
   ],
   "source": [
    "whole.isnull().sum()"
   ]
  },
  {
   "cell_type": "code",
   "execution_count": 64,
   "id": "3bcfcb2b-cfe1-430f-8116-5e25203d31bb",
   "metadata": {},
   "outputs": [
    {
     "data": {
      "text/plain": [
       "partitionKey          0\n",
       "user_pseudo_id        0\n",
       "createdAt             0\n",
       "startAddress          0\n",
       "endAddress            0\n",
       "tripEstimate          0\n",
       "BookingID             0\n",
       "BookingCreatedTime    0\n",
       "PickUp_Latitude       0\n",
       "PickUp_Longitude      0\n",
       "DropOff_Latitude      0\n",
       "DropOff_Longitude     0\n",
       "DispatchStatus        0\n",
       "StartState            0\n",
       "EndState              0\n",
       "BookingCreatedHour    0\n",
       "BookingCreatedMin     0\n",
       "BookingCreatedDay     0\n",
       "startCode             0\n",
       "endCode               0\n",
       "dtype: int64"
      ]
     },
     "execution_count": 64,
     "metadata": {},
     "output_type": "execute_result"
    }
   ],
   "source": [
    "book=whole[whole['BookingID'].notnull()]\n",
    "book.isnull().sum()"
   ]
  },
  {
   "cell_type": "code",
   "execution_count": 65,
   "id": "48a3a693-da4e-458d-95b7-4fbc9c2d6ce8",
   "metadata": {},
   "outputs": [
    {
     "data": {
      "text/plain": [
       "partitionKey               0\n",
       "user_pseudo_id             0\n",
       "createdAt                  0\n",
       "startAddress               0\n",
       "endAddress                 0\n",
       "tripEstimate               0\n",
       "BookingID             632084\n",
       "BookingCreatedTime    632084\n",
       "PickUp_Latitude       632084\n",
       "PickUp_Longitude      632084\n",
       "DropOff_Latitude      632084\n",
       "DropOff_Longitude     632084\n",
       "DispatchStatus        632084\n",
       "StartState                 0\n",
       "EndState                   0\n",
       "BookingCreatedHour    632084\n",
       "BookingCreatedMin     632084\n",
       "BookingCreatedDay     632084\n",
       "startCode                198\n",
       "endCode                  224\n",
       "dtype: int64"
      ]
     },
     "execution_count": 65,
     "metadata": {},
     "output_type": "execute_result"
    }
   ],
   "source": [
    "lkup=whole[whole['BookingID'].isnull()]\n",
    "lkup.isnull().sum()"
   ]
  },
  {
   "cell_type": "code",
   "execution_count": 79,
   "id": "367c6ca1-fd80-47c1-91a7-957ac41009de",
   "metadata": {},
   "outputs": [],
   "source": [
    "whole.to_csv('Assignment1.csv',index=False)"
   ]
  },
  {
   "cell_type": "markdown",
   "id": "f3b29baf-2e9a-4928-a35e-d9b94253257f",
   "metadata": {},
   "source": [
    "# 4.0 你他吗的EDA"
   ]
  },
  {
   "cell_type": "code",
   "execution_count": 66,
   "id": "c2f9ca4d-7522-4cba-8660-ee83234f9377",
   "metadata": {},
   "outputs": [
    {
     "data": {
      "text/plain": [
       "VIC          174684\n",
       "QLD          166472\n",
       "NSW          151823\n",
       "SA            15870\n",
       "WA             8308\n",
       "NT             1801\n",
       "Coral Sea       877\n",
       "Name: StartState, dtype: int64"
      ]
     },
     "execution_count": 66,
     "metadata": {},
     "output_type": "execute_result"
    }
   ],
   "source": [
    "book['StartState'].value_counts()"
   ]
  },
  {
   "cell_type": "markdown",
   "id": "540ff458-b100-4fb5-9e3f-7cf4dca16113",
   "metadata": {
    "jp-MarkdownHeadingCollapsed": true,
    "tags": []
   },
   "source": [
    "## 每周和分州"
   ]
  },
  {
   "cell_type": "code",
   "execution_count": 122,
   "id": "6fd0ea5c-bb78-426b-8eda-136a9b5c8507",
   "metadata": {},
   "outputs": [],
   "source": [
    "# def画每个周的和分州的图\n",
    "def week_state(state):\n",
    "    state_bk=book[(book['StartState']==state) & (book['EndState']==state)]\n",
    "    state_wk=pd.crosstab(state_bk['BookingCreatedDay'],state_bk['DispatchStatus'],normalize='index')\n",
    "    state_wk=state_wk.reindex(columns=[1,0])\n",
    "    return state_wk"
   ]
  },
  {
   "cell_type": "code",
   "execution_count": 141,
   "id": "cd00dec7-031c-48ca-a69c-ed5c5c7f4def",
   "metadata": {},
   "outputs": [
    {
     "data": {
      "text/plain": [
       "QLD          833\n",
       "NSW           22\n",
       "VIC           14\n",
       "Coral Sea      5\n",
       "SA             2\n",
       "ACT            1\n",
       "Name: EndState, dtype: int64"
      ]
     },
     "execution_count": 141,
     "metadata": {},
     "output_type": "execute_result"
    }
   ],
   "source": [
    "book[(book['StartState']=='Coral Sea')]['EndState'].value_counts()"
   ]
  },
  {
   "cell_type": "code",
   "execution_count": 135,
   "id": "8f2b3f72-4191-4ef5-ab6d-17b0cf9df433",
   "metadata": {},
   "outputs": [
    {
     "data": {
      "text/plain": [
       "Text(0.5, 0.98, 'Week Dispatch Completion Rate in Different States')"
      ]
     },
     "execution_count": 135,
     "metadata": {},
     "output_type": "execute_result"
    },
    {
     "data": {
      "image/png": "[encoded data removed]",
      "text/plain": [
       "<Figure size 720x3024 with 7 Axes>"
      ]
     },
     "metadata": {
      "needs_background": "light"
     },
     "output_type": "display_data"
    }
   ],
   "source": [
    "fig, axs=plt.subplots(7,1,figsize=(10,42))\n",
    "state_list=book['StartState'].value_counts().index.to_list()\n",
    "for i in range(7):\n",
    "    week_state(state_list[i]).plot(kind='bar',stacked=True,ax=axs[i])\n",
    "    axs[i].set_title('{}: Week Dispatch Completion Rate'.format(state_list[i]))\n",
    "fig.suptitle('Week Dispatch Completion Rate in Different States')"
   ]
  },
  {
   "cell_type": "markdown",
   "id": "8405809b-bec6-410f-8347-21cafb9b92c5",
   "metadata": {
    "jp-MarkdownHeadingCollapsed": true,
    "tags": []
   },
   "source": [
    "## 暂时不知道这个是什么"
   ]
  },
  {
   "cell_type": "code",
   "execution_count": 119,
   "id": "26037565-0a86-4ed6-9ea6-f11dfbc38b62",
   "metadata": {
    "scrolled": true,
    "tags": []
   },
   "outputs": [
    {
     "data": {
      "text/html": [
       "<div>\n",
       "<style scoped>\n",
       "    .dataframe tbody tr th:only-of-type {\n",
       "        vertical-align: middle;\n",
       "    }\n",
       "\n",
       "    .dataframe tbody tr th {\n",
       "        vertical-align: top;\n",
       "    }\n",
       "\n",
       "    .dataframe thead th {\n",
       "        text-align: right;\n",
       "    }\n",
       "</style>\n",
       "<table border=\"1\" class=\"dataframe\">\n",
       "  <thead>\n",
       "    <tr style=\"text-align: right;\">\n",
       "      <th>DispatchStatus</th>\n",
       "      <th>0.0</th>\n",
       "      <th>1.0</th>\n",
       "    </tr>\n",
       "    <tr>\n",
       "      <th>BookingCreatedDay</th>\n",
       "      <th></th>\n",
       "      <th></th>\n",
       "    </tr>\n",
       "  </thead>\n",
       "  <tbody>\n",
       "    <tr>\n",
       "      <th>0.0</th>\n",
       "      <td>0.295887</td>\n",
       "      <td>0.704113</td>\n",
       "    </tr>\n",
       "    <tr>\n",
       "      <th>1.0</th>\n",
       "      <td>0.254029</td>\n",
       "      <td>0.745971</td>\n",
       "    </tr>\n",
       "    <tr>\n",
       "      <th>2.0</th>\n",
       "      <td>0.286392</td>\n",
       "      <td>0.713608</td>\n",
       "    </tr>\n",
       "    <tr>\n",
       "      <th>3.0</th>\n",
       "      <td>0.301233</td>\n",
       "      <td>0.698767</td>\n",
       "    </tr>\n",
       "    <tr>\n",
       "      <th>4.0</th>\n",
       "      <td>0.281580</td>\n",
       "      <td>0.718420</td>\n",
       "    </tr>\n",
       "    <tr>\n",
       "      <th>5.0</th>\n",
       "      <td>0.364917</td>\n",
       "      <td>0.635083</td>\n",
       "    </tr>\n",
       "    <tr>\n",
       "      <th>6.0</th>\n",
       "      <td>0.359673</td>\n",
       "      <td>0.640327</td>\n",
       "    </tr>\n",
       "  </tbody>\n",
       "</table>\n",
       "</div>"
      ],
      "text/plain": [
       "DispatchStatus          0.0       1.0\n",
       "BookingCreatedDay                    \n",
       "0.0                0.295887  0.704113\n",
       "1.0                0.254029  0.745971\n",
       "2.0                0.286392  0.713608\n",
       "3.0                0.301233  0.698767\n",
       "4.0                0.281580  0.718420\n",
       "5.0                0.364917  0.635083\n",
       "6.0                0.359673  0.640327"
      ]
     },
     "execution_count": 119,
     "metadata": {},
     "output_type": "execute_result"
    }
   ],
   "source": [
    "NSW_bk=book[book['StartState']=='NSW']\n",
    "# 每天的单子，颜色标注接单与否，按weekday\n",
    "NSW_wk=pd.crosstab(NSW_bk['BookingCreatedDay'],NSW_bk['DispatchStatus'],normalize='index')\n",
    "NSW_wk.reindex(columns=[1,0])"
   ]
  },
  {
   "cell_type": "code",
   "execution_count": 101,
   "id": "c54fb5e8-0816-4c72-b0b5-f31697e4253c",
   "metadata": {},
   "outputs": [
    {
     "data": {
      "text/plain": [
       "<AxesSubplot:xlabel='BookingCreatedDay'>"
      ]
     },
     "execution_count": 101,
     "metadata": {},
     "output_type": "execute_result"
    },
    {
     "data": {
      "image/png": "[encoded data removed]",
      "text/plain": [
       "<Figure size 432x288 with 1 Axes>"
      ]
     },
     "metadata": {},
     "output_type": "display_data"
    }
   ],
   "source": [
    "NSW_wk.plot(kind='bar',stacked=True)"
   ]
  },
  {
   "cell_type": "markdown",
   "id": "fe7d8f7a-3f43-42bc-bbc6-48c54aa2714c",
   "metadata": {},
   "source": [
    "WA和NT是唯二俩个0>1的州，是否和地理因素有关？or人口密度低有关"
   ]
  },
  {
   "cell_type": "code",
   "execution_count": 110,
   "id": "d5304de4-2768-4cc9-9d17-8db86c6a0633",
   "metadata": {},
   "outputs": [
    {
     "data": {
      "text/plain": [
       "<AxesSubplot:xlabel='BookingCreatedHour'>"
      ]
     },
     "execution_count": 110,
     "metadata": {},
     "output_type": "execute_result"
    },
    {
     "data": {
      "image/png": "[encoded data removed]",
      "text/plain": [
       "<Figure size 432x288 with 1 Axes>"
      ]
     },
     "metadata": {},
     "output_type": "display_data"
    }
   ],
   "source": [
    "# 每小时的单子，颜色标注接单与否，按小时\n",
    "NSW_bk=book[book['StartState']=='Coral Sea']\n",
    "NSW_hr=pd.crosstab(NSW_bk['BookingCreatedHour'],NSW_bk['DispatchStatus'],normalize='index')\n",
    "NSW_hr.plot(kind='bar',stacked=True)"
   ]
  },
  {
   "cell_type": "markdown",
   "id": "aa3385ae-9d47-4cde-b881-822f68e37524",
   "metadata": {},
   "source": [
    "一些可能的点：\n",
    "目标是预测订单的完成率与否。因此先讨论booking的子集；lk子集脏过头了，但感觉eda中有类似的部分，可供参考"
   ]
  },
  {
   "cell_type": "markdown",
   "id": "ba26bb47-418c-40e8-a396-e7fcdaa69dc2",
   "metadata": {},
   "source": [
    "Booking：画图时完成和未完成并排显示\n",
    "一些可能的点：\n",
    "1. 时间\n",
    "- 周一~周五打车，如果临近上班时间（8 9 10）的订单密集度（kde可看不同时间的密集）\n",
    "- 可以统计费用：不同时间点的费用如何（注意这个应该看是否为州内打车-->额外加个变量，起始点和终点是否在一个州内）；比如x为时间，y为费用，颜色为是否跨州\n",
    "- 时间包括星期以及每天的时间-->节假日是否算在内\n",
    "- 费用的outlier是否存在？使用box看看（也可以根据时点来排列）\n",
    "------\n",
    "澳大利亚首都地区（ACT）：0200-0299，2600-2618，2900-2920\n",
    "\n",
    "新南威尔士州（NSW）：1000-1999，2000-2599，2619-2899，2921-2999\n",
    "\n",
    "北领地（NT）：0800-0899\n",
    "\n",
    "昆士兰州（QLD）：4000-4999，9000-9999\n",
    "\n",
    "南澳大利亚州（SA）：5000-5999，6000-6999\n",
    "\n",
    "塔斯马尼亚州（TAS）： TAS: 7000-7999\n",
    "\n",
    "维多利亚州（VIC）：3000-3999，8000-8999\n",
    "\n",
    "西澳大利亚州（WA）：6000-6797，6800-6999\n",
    "\n",
    "------\n",
    "2. 地点？\n",
    "- 单独把跨州的领出来看费用（上面有），以及完成率与否，如果跨州的完成率几乎很低，可以看下完成的是咋回事，如果就几个，无法解释；如果需求多，可以让公司开发跨州业务（。。。）\n",
    "- 指向，这个特征工程还没做，但是要怎么做呢？\n",
    "- 邮编0：澳大利亚邮政编码为四位数字，第一位代表地址所在的州，后三位以州首府城市中央邮政局为000向外递增数字，离首府城市中央邮政局越远、数字越大。因此只要看邮政编码，就能大约估量出邮政编码所在地的位置。各邮政局有全澳邮政编码手册免费检索，电话白页上也有全澳邮政编码。\n",
    "- 邮编1：邮编是否可以被提取出来？比如偏远地区的接单率更低但需求估计更大（和lk集联动）因此strategy就是搞这块的业务（难点在于为什么那群人lk了但是不booking 这个是我们无法得知的）；市中心就是000，可以额外搞个变量：city（是否在市中心）同一州的邮编之差or和2000（中心）之差可以反应距离市中心有多远。\n",
    "- 同样的还有机场。可以先查出来机场的比率有多高，然后创造一个机场的变量：airport（0,1变量，和上面city类似）\n",
    "\n"
   ]
  },
  {
   "cell_type": "markdown",
   "id": "2a3f8130-08ce-48a1-a45f-3bd8f0113892",
   "metadata": {},
   "source": [
    "## 每小时+分州，成单率"
   ]
  },
  {
   "cell_type": "markdown",
   "id": "82b7c15b-90d1-4b54-b52c-811681ad4c50",
   "metadata": {
    "tags": []
   },
   "source": [
    "### code提取（仅供参考）"
   ]
  },
  {
   "cell_type": "code",
   "execution_count": 165,
   "id": "297865f1-1e23-44c0-b0e5-af106ae74ce3",
   "metadata": {},
   "outputs": [],
   "source": [
    "# cs=book[book['EndState']=='Coral Sea']\n",
    "# cs[cs['endCode']>='6000']\n",
    "end_code=book['endCode'].unique()\n",
    "np.savetxt('endcode.csv',end_code,delimiter=',', fmt='%s')\n",
    "start_code=book['startCode'].unique()\n",
    "np.savetxt('startcode.csv',end_code,delimiter=',', fmt='%s')"
   ]
  },
  {
   "cell_type": "markdown",
   "id": "dc2f756b-e990-4b0c-8405-84b5396615df",
   "metadata": {},
   "source": [
    "0800~0870\n",
    "\n",
    "2000~2914\n",
    "\n",
    "3000~3996\n",
    "\n",
    "4000~4820\n",
    "\n",
    "5000~5960\n",
    "\n",
    "6000~6603"
   ]
  },
  {
   "cell_type": "markdown",
   "id": "64f0383c-5ec9-4a28-83be-855a60b63724",
   "metadata": {},
   "source": [
    "### 正常画图"
   ]
  },
  {
   "cell_type": "code",
   "execution_count": 93,
   "id": "bb58277c-f28e-45c7-82f5-f9f86180c9a9",
   "metadata": {},
   "outputs": [],
   "source": [
    "def hour_state(state):\n",
    "    state_bk=book[book['StartState']==state]\n",
    "    state_hour=pd.crosstab(state_bk['BookingCreatedHour'],state_bk['DispatchStatus'],normalize='index').loc[:,1]\n",
    "    state_hour=pd.DataFrame(state_hour).reset_index()\n",
    "    state_hour.columns=['BookingCreatedHour','Rate']\n",
    "    return state_hour"
   ]
  },
  {
   "cell_type": "code",
   "execution_count": 103,
   "id": "3fb5c4d2-3a60-4f89-833c-4773941b68fb",
   "metadata": {},
   "outputs": [],
   "source": [
    "state_list=list(book['StartState'].unique())"
   ]
  },
  {
   "cell_type": "code",
   "execution_count": 137,
   "id": "db0da7b4-be98-4bb3-98d2-c5a9dac38985",
   "metadata": {},
   "outputs": [
    {
     "data": {
      "image/png": "[encoded data removed]",
      "text/plain": [
       "<Figure size 1080x720 with 1 Axes>"
      ]
     },
     "metadata": {},
     "output_type": "display_data"
    }
   ],
   "source": [
    "sns.set_palette(\"hls\",7)\n",
    "plt.figure(figsize=(15,10))\n",
    "for state in state_list:\n",
    "    sns.lineplot(x='BookingCreatedHour',y='Rate',data=hour_state(state),label=state,marker='o')\n",
    "plt.title('Hourly Dispatch Completion Rate in each State')\n",
    "plt.xlabel('Booking Created Hour')\n",
    "plt.xlim(0,23)\n",
    "plt.ylim(0,1)\n",
    "plt.xticks(range(0,24))\n",
    "plt.yticks([0.0,0.2,0.4,0.6,0.8,1.0],[0,20,40,60,80,100])\n",
    "plt.ylabel('Dispatch Completion Rate (%)')\n",
    "plt.legend(loc='best')\n",
    "plt.tight_layout()"
   ]
  },
  {
   "cell_type": "code",
   "execution_count": 138,
   "id": "64d28986-b130-43e3-ba81-d834c5ee9d7d",
   "metadata": {},
   "outputs": [
    {
     "data": {
      "text/html": [
       "<div>\n",
       "<style scoped>\n",
       "    .dataframe tbody tr th:only-of-type {\n",
       "        vertical-align: middle;\n",
       "    }\n",
       "\n",
       "    .dataframe tbody tr th {\n",
       "        vertical-align: top;\n",
       "    }\n",
       "\n",
       "    .dataframe thead th {\n",
       "        text-align: right;\n",
       "    }\n",
       "</style>\n",
       "<table border=\"1\" class=\"dataframe\">\n",
       "  <thead>\n",
       "    <tr style=\"text-align: right;\">\n",
       "      <th></th>\n",
       "      <th>x</th>\n",
       "      <th>y1</th>\n",
       "      <th>x</th>\n",
       "      <th>y2</th>\n",
       "    </tr>\n",
       "  </thead>\n",
       "  <tbody>\n",
       "    <tr>\n",
       "      <th>0</th>\n",
       "      <td>1</td>\n",
       "      <td>10</td>\n",
       "      <td>1</td>\n",
       "      <td>40</td>\n",
       "    </tr>\n",
       "    <tr>\n",
       "      <th>1</th>\n",
       "      <td>2</td>\n",
       "      <td>20</td>\n",
       "      <td>2</td>\n",
       "      <td>50</td>\n",
       "    </tr>\n",
       "    <tr>\n",
       "      <th>2</th>\n",
       "      <td>3</td>\n",
       "      <td>30</td>\n",
       "      <td>3</td>\n",
       "      <td>60</td>\n",
       "    </tr>\n",
       "  </tbody>\n",
       "</table>\n",
       "</div>"
      ],
      "text/plain": [
       "   x  y1  x  y2\n",
       "0  1  10  1  40\n",
       "1  2  20  2  50\n",
       "2  3  30  3  60"
      ]
     },
     "execution_count": 138,
     "metadata": {},
     "output_type": "execute_result"
    }
   ],
   "source": [
    "df1 = pd.DataFrame({'x': [1, 2, 3], 'y1': [10, 20, 30]})\n",
    "df2 = pd.DataFrame({'x': [1, 2, 3], 'y2': [40, 50, 60]})\n",
    "pd.concat([df1, df2], axis=1)"
   ]
  },
  {
   "cell_type": "code",
   "execution_count": null,
   "id": "4f8aa8f3-8844-44ff-941b-63cf23d212b4",
   "metadata": {},
   "outputs": [],
   "source": []
  }
 ],
 "metadata": {
  "kernelspec": {
   "display_name": "Python 3 (ipykernel)",
   "language": "python",
   "name": "python3"
  },
  "language_info": {
   "codemirror_mode": {
    "name": "ipython",
    "version": 3
   },
   "file_extension": ".py",
   "mimetype": "text/x-python",
   "name": "python",
   "nbconvert_exporter": "python",
   "pygments_lexer": "ipython3",
   "version": "3.9.7"
  },
  "toc-autonumbering": false,
  "toc-showcode": false,
  "toc-showmarkdowntxt": false,
  "toc-showtags": false
 },
 "nbformat": 4,
 "nbformat_minor": 5
}
